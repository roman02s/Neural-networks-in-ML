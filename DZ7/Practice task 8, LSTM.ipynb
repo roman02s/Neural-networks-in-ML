{
 "cells": [
  {
   "cell_type": "code",
   "execution_count": 1,
   "outputs": [],
   "source": [
    "import torch\n",
    "import torch.nn as nn\n",
    "from torch.optim import Adam\n",
    "import torch.optim as optim\n",
    "from torch.utils.data import DataLoader, Dataset\n",
    "from torch.utils.tensorboard import SummaryWriter\n",
    "import pandas as pd\n",
    "import os\n",
    "from tqdm import *\n",
    "import matplotlib.pyplot as plt\n",
    "from sklearn.metrics import mean_squared_error\n",
    "import pmdarima as pm\n",
    "import numpy as np\n",
    "%matplotlib inline"
   ],
   "metadata": {
    "collapsed": false,
    "pycharm": {
     "name": "#%%\n"
    }
   }
  },
  {
   "cell_type": "markdown",
   "source": [
    "## Готовим данные\n",
    "Три файла с данными\n",
    "1. исторические данные - train\n",
    "2. Тестовые данные текущего момента - derived\n",
    "3. Пример сабмита резкльтатов конкурса на кагле"
   ],
   "metadata": {
    "collapsed": false
   }
  },
  {
   "cell_type": "code",
   "execution_count": 2,
   "outputs": [],
   "source": [
    "def read_set(file):\n",
    "    data = pd.read_csv(file)\n",
    "    data['date'] = pd.to_datetime(data['date'])\n",
    "    data = data.rename(columns = {'DATE':'date'})\n",
    "    data = data.rename(columns = {'hits':'value'})\n",
    "    data = data.set_index('date')\n",
    "    return data"
   ],
   "metadata": {
    "collapsed": false,
    "pycharm": {
     "name": "#%%\n"
    }
   }
  },
  {
   "cell_type": "code",
   "execution_count": 3,
   "outputs": [
    {
     "data": {
      "text/plain": "            date       hits\n0     2016-01-01  201979088\n1     2016-01-02  223095158\n2     2016-01-03  233791442\n3     2016-01-04  259684220\n4     2016-01-05  267112490\n...          ...        ...\n1091  2018-12-27  241134980\n1092  2018-12-28  234865040\n1093  2018-12-29  195884690\n1094  2018-12-30  125587958\n1095  2018-12-31  110355560\n\n[1096 rows x 2 columns]",
      "text/html": "<div>\n<style scoped>\n    .dataframe tbody tr th:only-of-type {\n        vertical-align: middle;\n    }\n\n    .dataframe tbody tr th {\n        vertical-align: top;\n    }\n\n    .dataframe thead th {\n        text-align: right;\n    }\n</style>\n<table border=\"1\" class=\"dataframe\">\n  <thead>\n    <tr style=\"text-align: right;\">\n      <th></th>\n      <th>date</th>\n      <th>hits</th>\n    </tr>\n  </thead>\n  <tbody>\n    <tr>\n      <th>0</th>\n      <td>2016-01-01</td>\n      <td>201979088</td>\n    </tr>\n    <tr>\n      <th>1</th>\n      <td>2016-01-02</td>\n      <td>223095158</td>\n    </tr>\n    <tr>\n      <th>2</th>\n      <td>2016-01-03</td>\n      <td>233791442</td>\n    </tr>\n    <tr>\n      <th>3</th>\n      <td>2016-01-04</td>\n      <td>259684220</td>\n    </tr>\n    <tr>\n      <th>4</th>\n      <td>2016-01-05</td>\n      <td>267112490</td>\n    </tr>\n    <tr>\n      <th>...</th>\n      <td>...</td>\n      <td>...</td>\n    </tr>\n    <tr>\n      <th>1091</th>\n      <td>2018-12-27</td>\n      <td>241134980</td>\n    </tr>\n    <tr>\n      <th>1092</th>\n      <td>2018-12-28</td>\n      <td>234865040</td>\n    </tr>\n    <tr>\n      <th>1093</th>\n      <td>2018-12-29</td>\n      <td>195884690</td>\n    </tr>\n    <tr>\n      <th>1094</th>\n      <td>2018-12-30</td>\n      <td>125587958</td>\n    </tr>\n    <tr>\n      <th>1095</th>\n      <td>2018-12-31</td>\n      <td>110355560</td>\n    </tr>\n  </tbody>\n</table>\n<p>1096 rows × 2 columns</p>\n</div>"
     },
     "execution_count": 3,
     "metadata": {},
     "output_type": "execute_result"
    }
   ],
   "source": [
    "data = pd.read_csv('data/train.csv')\n",
    "data"
   ],
   "metadata": {
    "collapsed": false,
    "pycharm": {
     "name": "#%%\n"
    }
   }
  },
  {
   "cell_type": "code",
   "execution_count": 4,
   "outputs": [],
   "source": [
    "data_train = read_set('data/train.csv')\n",
    "data_test =  read_set('data/derived.csv')\n",
    "data_sample = read_set('data/sample_submission.csv')"
   ],
   "metadata": {
    "collapsed": false,
    "pycharm": {
     "name": "#%%\n"
    }
   }
  },
  {
   "cell_type": "code",
   "execution_count": 5,
   "outputs": [
    {
     "data": {
      "text/plain": "                value\ndate                 \n2016-01-01  201979088\n2016-01-02  223095158\n2016-01-03  233791442\n2016-01-04  259684220\n2016-01-05  267112490\n...               ...\n2018-12-27  241134980\n2018-12-28  234865040\n2018-12-29  195884690\n2018-12-30  125587958\n2018-12-31  110355560\n\n[1096 rows x 1 columns]",
      "text/html": "<div>\n<style scoped>\n    .dataframe tbody tr th:only-of-type {\n        vertical-align: middle;\n    }\n\n    .dataframe tbody tr th {\n        vertical-align: top;\n    }\n\n    .dataframe thead th {\n        text-align: right;\n    }\n</style>\n<table border=\"1\" class=\"dataframe\">\n  <thead>\n    <tr style=\"text-align: right;\">\n      <th></th>\n      <th>value</th>\n    </tr>\n    <tr>\n      <th>date</th>\n      <th></th>\n    </tr>\n  </thead>\n  <tbody>\n    <tr>\n      <th>2016-01-01</th>\n      <td>201979088</td>\n    </tr>\n    <tr>\n      <th>2016-01-02</th>\n      <td>223095158</td>\n    </tr>\n    <tr>\n      <th>2016-01-03</th>\n      <td>233791442</td>\n    </tr>\n    <tr>\n      <th>2016-01-04</th>\n      <td>259684220</td>\n    </tr>\n    <tr>\n      <th>2016-01-05</th>\n      <td>267112490</td>\n    </tr>\n    <tr>\n      <th>...</th>\n      <td>...</td>\n    </tr>\n    <tr>\n      <th>2018-12-27</th>\n      <td>241134980</td>\n    </tr>\n    <tr>\n      <th>2018-12-28</th>\n      <td>234865040</td>\n    </tr>\n    <tr>\n      <th>2018-12-29</th>\n      <td>195884690</td>\n    </tr>\n    <tr>\n      <th>2018-12-30</th>\n      <td>125587958</td>\n    </tr>\n    <tr>\n      <th>2018-12-31</th>\n      <td>110355560</td>\n    </tr>\n  </tbody>\n</table>\n<p>1096 rows × 1 columns</p>\n</div>"
     },
     "execution_count": 5,
     "metadata": {},
     "output_type": "execute_result"
    }
   ],
   "source": [
    "data_train"
   ],
   "metadata": {
    "collapsed": false,
    "pycharm": {
     "name": "#%%\n"
    }
   }
  },
  {
   "cell_type": "markdown",
   "source": [
    "### Проверим наши данные, что мы загрузили"
   ],
   "metadata": {
    "collapsed": false
   }
  },
  {
   "cell_type": "code",
   "execution_count": 6,
   "outputs": [
    {
     "name": "stdout",
     "output_type": "stream",
     "text": [
      "<class 'pandas.core.frame.DataFrame'>\n",
      "DatetimeIndex: 1096 entries, 2016-01-01 to 2018-12-31\n",
      "Data columns (total 1 columns):\n",
      " #   Column  Non-Null Count  Dtype\n",
      "---  ------  --------------  -----\n",
      " 0   value   1096 non-null   int64\n",
      "dtypes: int64(1)\n",
      "memory usage: 17.1 KB\n",
      "None\n",
      "<class 'pandas.core.frame.DataFrame'>\n",
      "DatetimeIndex: 365 entries, 2019-01-01 to 2019-12-31\n",
      "Data columns (total 1 columns):\n",
      " #   Column  Non-Null Count  Dtype\n",
      "---  ------  --------------  -----\n",
      " 0   value   365 non-null    int64\n",
      "dtypes: int64(1)\n",
      "memory usage: 5.7 KB\n",
      "None\n",
      "<class 'pandas.core.frame.DataFrame'>\n",
      "DatetimeIndex: 365 entries, 2019-01-01 to 2019-12-31\n",
      "Data columns (total 1 columns):\n",
      " #   Column  Non-Null Count  Dtype\n",
      "---  ------  --------------  -----\n",
      " 0   value   365 non-null    int64\n",
      "dtypes: int64(1)\n",
      "memory usage: 5.7 KB\n",
      "None\n"
     ]
    }
   ],
   "source": [
    "print( data_train.info() )\n",
    "print( data_test.info() )\n",
    "print( data_sample.info() )"
   ],
   "metadata": {
    "collapsed": false,
    "pycharm": {
     "name": "#%%\n"
    }
   }
  },
  {
   "cell_type": "code",
   "execution_count": 7,
   "outputs": [
    {
     "data": {
      "text/plain": "              value\ncount  1.096000e+03\nmean   2.792255e+08\nstd    7.677884e+07\nmin    1.103556e+08\n25%    2.317301e+08\n50%    2.791131e+08\n75%    3.287730e+08\nmax    4.550733e+08",
      "text/html": "<div>\n<style scoped>\n    .dataframe tbody tr th:only-of-type {\n        vertical-align: middle;\n    }\n\n    .dataframe tbody tr th {\n        vertical-align: top;\n    }\n\n    .dataframe thead th {\n        text-align: right;\n    }\n</style>\n<table border=\"1\" class=\"dataframe\">\n  <thead>\n    <tr style=\"text-align: right;\">\n      <th></th>\n      <th>value</th>\n    </tr>\n  </thead>\n  <tbody>\n    <tr>\n      <th>count</th>\n      <td>1.096000e+03</td>\n    </tr>\n    <tr>\n      <th>mean</th>\n      <td>2.792255e+08</td>\n    </tr>\n    <tr>\n      <th>std</th>\n      <td>7.677884e+07</td>\n    </tr>\n    <tr>\n      <th>min</th>\n      <td>1.103556e+08</td>\n    </tr>\n    <tr>\n      <th>25%</th>\n      <td>2.317301e+08</td>\n    </tr>\n    <tr>\n      <th>50%</th>\n      <td>2.791131e+08</td>\n    </tr>\n    <tr>\n      <th>75%</th>\n      <td>3.287730e+08</td>\n    </tr>\n    <tr>\n      <th>max</th>\n      <td>4.550733e+08</td>\n    </tr>\n  </tbody>\n</table>\n</div>"
     },
     "execution_count": 7,
     "metadata": {},
     "output_type": "execute_result"
    }
   ],
   "source": [
    "data_train.describe()"
   ],
   "metadata": {
    "collapsed": false,
    "pycharm": {
     "name": "#%%\n"
    }
   }
  },
  {
   "cell_type": "code",
   "execution_count": 8,
   "outputs": [
    {
     "data": {
      "text/plain": "              value\ncount  3.650000e+02\nmean   2.250691e+08\nstd    6.798229e+07\nmin    1.055197e+08\n25%    1.467913e+08\n50%    2.525773e+08\n75%    2.724223e+08\nmax    3.410300e+08",
      "text/html": "<div>\n<style scoped>\n    .dataframe tbody tr th:only-of-type {\n        vertical-align: middle;\n    }\n\n    .dataframe tbody tr th {\n        vertical-align: top;\n    }\n\n    .dataframe thead th {\n        text-align: right;\n    }\n</style>\n<table border=\"1\" class=\"dataframe\">\n  <thead>\n    <tr style=\"text-align: right;\">\n      <th></th>\n      <th>value</th>\n    </tr>\n  </thead>\n  <tbody>\n    <tr>\n      <th>count</th>\n      <td>3.650000e+02</td>\n    </tr>\n    <tr>\n      <th>mean</th>\n      <td>2.250691e+08</td>\n    </tr>\n    <tr>\n      <th>std</th>\n      <td>6.798229e+07</td>\n    </tr>\n    <tr>\n      <th>min</th>\n      <td>1.055197e+08</td>\n    </tr>\n    <tr>\n      <th>25%</th>\n      <td>1.467913e+08</td>\n    </tr>\n    <tr>\n      <th>50%</th>\n      <td>2.525773e+08</td>\n    </tr>\n    <tr>\n      <th>75%</th>\n      <td>2.724223e+08</td>\n    </tr>\n    <tr>\n      <th>max</th>\n      <td>3.410300e+08</td>\n    </tr>\n  </tbody>\n</table>\n</div>"
     },
     "execution_count": 8,
     "metadata": {},
     "output_type": "execute_result"
    }
   ],
   "source": [
    "data_test.describe()"
   ],
   "metadata": {
    "collapsed": false,
    "pycharm": {
     "name": "#%%\n"
    }
   }
  },
  {
   "cell_type": "code",
   "execution_count": 9,
   "outputs": [
    {
     "data": {
      "text/plain": "             value\ncount        365.0\nmean   110355560.0\nstd            0.0\nmin    110355560.0\n25%    110355560.0\n50%    110355560.0\n75%    110355560.0\nmax    110355560.0",
      "text/html": "<div>\n<style scoped>\n    .dataframe tbody tr th:only-of-type {\n        vertical-align: middle;\n    }\n\n    .dataframe tbody tr th {\n        vertical-align: top;\n    }\n\n    .dataframe thead th {\n        text-align: right;\n    }\n</style>\n<table border=\"1\" class=\"dataframe\">\n  <thead>\n    <tr style=\"text-align: right;\">\n      <th></th>\n      <th>value</th>\n    </tr>\n  </thead>\n  <tbody>\n    <tr>\n      <th>count</th>\n      <td>365.0</td>\n    </tr>\n    <tr>\n      <th>mean</th>\n      <td>110355560.0</td>\n    </tr>\n    <tr>\n      <th>std</th>\n      <td>0.0</td>\n    </tr>\n    <tr>\n      <th>min</th>\n      <td>110355560.0</td>\n    </tr>\n    <tr>\n      <th>25%</th>\n      <td>110355560.0</td>\n    </tr>\n    <tr>\n      <th>50%</th>\n      <td>110355560.0</td>\n    </tr>\n    <tr>\n      <th>75%</th>\n      <td>110355560.0</td>\n    </tr>\n    <tr>\n      <th>max</th>\n      <td>110355560.0</td>\n    </tr>\n  </tbody>\n</table>\n</div>"
     },
     "execution_count": 9,
     "metadata": {},
     "output_type": "execute_result"
    }
   ],
   "source": [
    "data_sample.describe()"
   ],
   "metadata": {
    "collapsed": false,
    "pycharm": {
     "name": "#%%\n"
    }
   }
  },
  {
   "cell_type": "markdown",
   "source": [
    "## Графики наших временных последовательностей"
   ],
   "metadata": {
    "collapsed": false
   }
  },
  {
   "cell_type": "code",
   "execution_count": 10,
   "outputs": [
    {
     "data": {
      "text/plain": "<Figure size 432x288 with 1 Axes>",
      "image/png": "[encoded data removed]"
     },
     "metadata": {
      "needs_background": "light"
     },
     "output_type": "display_data"
    }
   ],
   "source": [
    "plt.figure()\n",
    "data_train['value'].plot(kind = 'line', color='r')\n",
    "data_test['value'].plot(kind = 'line', color='g')\n",
    "data_sample['value'].plot(kind = 'line', color='b')\n",
    "plt.show()"
   ],
   "metadata": {
    "collapsed": false,
    "pycharm": {
     "name": "#%%\n"
    }
   }
  },
  {
   "cell_type": "markdown",
   "source": [
    "## Статистическая модель [ARIMA](https://ru.wikipedia.org/wiki/ARIMA)\n"
   ],
   "metadata": {
    "collapsed": false
   }
  },
  {
   "cell_type": "code",
   "execution_count": 11,
   "outputs": [
    {
     "name": "stdout",
     "output_type": "stream",
     "text": [
      "Performing stepwise search to minimize aic\n",
      " ARIMA(2,0,2)(1,0,1)[4] intercept   : AIC=42026.193, Time=0.79 sec\n",
      " ARIMA(0,0,0)(0,0,0)[4] intercept   : AIC=42912.228, Time=0.02 sec\n",
      " ARIMA(1,0,0)(1,0,0)[4] intercept   : AIC=42352.663, Time=0.34 sec\n",
      " ARIMA(0,0,1)(0,0,1)[4] intercept   : AIC=42271.764, Time=0.12 sec\n",
      " ARIMA(0,0,0)(0,0,0)[4]             : AIC=45821.113, Time=0.01 sec\n",
      " ARIMA(2,0,2)(0,0,1)[4] intercept   : AIC=42138.118, Time=0.35 sec\n",
      " ARIMA(2,0,2)(1,0,0)[4] intercept   : AIC=42130.455, Time=0.84 sec\n",
      " ARIMA(2,0,2)(2,0,1)[4] intercept   : AIC=41842.461, Time=1.47 sec\n",
      " ARIMA(2,0,2)(2,0,0)[4] intercept   : AIC=42088.126, Time=1.04 sec\n",
      " ARIMA(2,0,2)(2,0,2)[4] intercept   : AIC=41829.133, Time=2.29 sec\n",
      " ARIMA(2,0,2)(1,0,2)[4] intercept   : AIC=42095.534, Time=1.86 sec\n",
      " ARIMA(1,0,2)(2,0,2)[4] intercept   : AIC=42117.810, Time=1.54 sec\n",
      " ARIMA(2,0,1)(2,0,2)[4] intercept   : AIC=42107.831, Time=1.27 sec\n",
      " ARIMA(3,0,2)(2,0,2)[4] intercept   : AIC=41841.310, Time=2.76 sec\n",
      " ARIMA(2,0,3)(2,0,2)[4] intercept   : AIC=41540.999, Time=2.47 sec\n",
      " ARIMA(2,0,3)(1,0,2)[4] intercept   : AIC=41610.387, Time=2.65 sec\n",
      " ARIMA(2,0,3)(2,0,1)[4] intercept   : AIC=41536.223, Time=2.07 sec\n",
      " ARIMA(2,0,3)(1,0,1)[4] intercept   : AIC=41537.865, Time=1.67 sec\n",
      " ARIMA(2,0,3)(2,0,0)[4] intercept   : AIC=41563.777, Time=1.76 sec\n",
      " ARIMA(2,0,3)(1,0,0)[4] intercept   : AIC=41591.568, Time=1.17 sec\n",
      " ARIMA(1,0,3)(2,0,1)[4] intercept   : AIC=42079.018, Time=1.73 sec\n",
      " ARIMA(3,0,3)(2,0,1)[4] intercept   : AIC=41429.216, Time=2.46 sec\n",
      " ARIMA(3,0,3)(1,0,1)[4] intercept   : AIC=inf, Time=1.90 sec\n",
      " ARIMA(3,0,3)(2,0,0)[4] intercept   : AIC=inf, Time=2.40 sec\n",
      " ARIMA(3,0,3)(2,0,2)[4] intercept   : AIC=41352.191, Time=2.77 sec\n",
      " ARIMA(3,0,3)(1,0,2)[4] intercept   : AIC=41719.712, Time=2.57 sec\n",
      " ARIMA(3,0,3)(2,0,2)[4]             : AIC=41306.525, Time=2.79 sec\n",
      " ARIMA(3,0,3)(1,0,2)[4]             : AIC=41358.317, Time=2.48 sec\n",
      " ARIMA(3,0,3)(2,0,1)[4]             : AIC=inf, Time=2.32 sec\n",
      " ARIMA(3,0,3)(1,0,1)[4]             : AIC=inf, Time=1.53 sec\n",
      " ARIMA(2,0,3)(2,0,2)[4]             : AIC=inf, Time=2.59 sec\n",
      " ARIMA(3,0,2)(2,0,2)[4]             : AIC=inf, Time=2.85 sec\n",
      " ARIMA(2,0,2)(2,0,2)[4]             : AIC=inf, Time=2.29 sec\n",
      "\n",
      "Best model:  ARIMA(3,0,3)(2,0,2)[4]          \n",
      "Total fit time: 57.191 seconds\n"
     ]
    }
   ],
   "source": [
    "# обучаем модель\n",
    "arima_model=model = pm.auto_arima(data_train, seasonal = True,m = 4,test='adf',error_action='ignore',\n",
    "                           suppress_warnings=True,\n",
    "                      stepwise=True, trace=True)"
   ],
   "metadata": {
    "collapsed": false,
    "pycharm": {
     "name": "#%%\n"
    }
   }
  },
  {
   "cell_type": "code",
   "execution_count": 12,
   "outputs": [],
   "source": [
    "prediction = pd.DataFrame(model.predict(n_periods = int(data_test.size)), data_test.index)"
   ],
   "metadata": {
    "collapsed": false,
    "pycharm": {
     "name": "#%%\n"
    }
   }
  },
  {
   "cell_type": "code",
   "execution_count": 13,
   "outputs": [
    {
     "data": {
      "text/plain": "                       0\ndate                    \n2019-01-01  1.822356e+08\n2019-01-02  2.367393e+08\n2019-01-03  2.596405e+08\n2019-01-04  2.268471e+08\n2019-01-05  1.368912e+08\n...                  ...\n2019-12-27  2.178902e+08\n2019-12-28  2.313418e+08\n2019-12-29  2.291895e+08\n2019-12-30  2.130999e+08\n2019-12-31  1.950448e+08\n\n[365 rows x 1 columns]",
      "text/html": "<div>\n<style scoped>\n    .dataframe tbody tr th:only-of-type {\n        vertical-align: middle;\n    }\n\n    .dataframe tbody tr th {\n        vertical-align: top;\n    }\n\n    .dataframe thead th {\n        text-align: right;\n    }\n</style>\n<table border=\"1\" class=\"dataframe\">\n  <thead>\n    <tr style=\"text-align: right;\">\n      <th></th>\n      <th>0</th>\n    </tr>\n    <tr>\n      <th>date</th>\n      <th></th>\n    </tr>\n  </thead>\n  <tbody>\n    <tr>\n      <th>2019-01-01</th>\n      <td>1.822356e+08</td>\n    </tr>\n    <tr>\n      <th>2019-01-02</th>\n      <td>2.367393e+08</td>\n    </tr>\n    <tr>\n      <th>2019-01-03</th>\n      <td>2.596405e+08</td>\n    </tr>\n    <tr>\n      <th>2019-01-04</th>\n      <td>2.268471e+08</td>\n    </tr>\n    <tr>\n      <th>2019-01-05</th>\n      <td>1.368912e+08</td>\n    </tr>\n    <tr>\n      <th>...</th>\n      <td>...</td>\n    </tr>\n    <tr>\n      <th>2019-12-27</th>\n      <td>2.178902e+08</td>\n    </tr>\n    <tr>\n      <th>2019-12-28</th>\n      <td>2.313418e+08</td>\n    </tr>\n    <tr>\n      <th>2019-12-29</th>\n      <td>2.291895e+08</td>\n    </tr>\n    <tr>\n      <th>2019-12-30</th>\n      <td>2.130999e+08</td>\n    </tr>\n    <tr>\n      <th>2019-12-31</th>\n      <td>1.950448e+08</td>\n    </tr>\n  </tbody>\n</table>\n<p>365 rows × 1 columns</p>\n</div>"
     },
     "execution_count": 13,
     "metadata": {},
     "output_type": "execute_result"
    }
   ],
   "source": [
    "prediction"
   ],
   "metadata": {
    "collapsed": false,
    "pycharm": {
     "name": "#%%\n"
    }
   }
  },
  {
   "cell_type": "code",
   "execution_count": 14,
   "outputs": [],
   "source": [
    "prediction = prediction .rename(columns = {0:'value'})"
   ],
   "metadata": {
    "collapsed": false,
    "pycharm": {
     "name": "#%%\n"
    }
   }
  },
  {
   "cell_type": "markdown",
   "source": [
    "смотрим, что она нам предсказала"
   ],
   "metadata": {
    "collapsed": false
   }
  },
  {
   "cell_type": "code",
   "execution_count": 15,
   "outputs": [
    {
     "data": {
      "text/plain": "<Figure size 432x288 with 1 Axes>",
      "image/png": "[encoded data removed]"
     },
     "metadata": {
      "needs_background": "light"
     },
     "output_type": "display_data"
    }
   ],
   "source": [
    "plt.figure()\n",
    "data_train['value'].plot(kind = 'line', color='r')\n",
    "data_test['value'].plot(kind = 'line', color='g')\n",
    "#plt.plot(data_forecaste, label = \"Prediction\")\n",
    "prediction['value'].plot(kind = 'line', color='b')\n",
    "plt.show()"
   ],
   "metadata": {
    "collapsed": false,
    "pycharm": {
     "name": "#%%\n"
    }
   }
  },
  {
   "cell_type": "markdown",
   "source": [
    "### Функция подсчета метрик для конкурса"
   ],
   "metadata": {
    "collapsed": false
   }
  },
  {
   "cell_type": "code",
   "execution_count": 16,
   "outputs": [],
   "source": [
    "def MAPE(y_true, y_pred):\n",
    "    mape = np.abs(y_pred - y_true) / np.maximum(np.abs(y_true), 1e-6)\n",
    "    mape  = np.average(mape) * 100\n",
    "    return mape"
   ],
   "metadata": {
    "collapsed": false,
    "pycharm": {
     "name": "#%%\n"
    }
   }
  },
  {
   "cell_type": "markdown",
   "source": [
    "### MAPE для ARIMA и тестового сабмишена"
   ],
   "metadata": {
    "collapsed": false
   }
  },
  {
   "cell_type": "code",
   "execution_count": 17,
   "outputs": [
    {
     "data": {
      "text/plain": "35.66518437628631"
     },
     "execution_count": 17,
     "metadata": {},
     "output_type": "execute_result"
    }
   ],
   "source": [
    "MAPE(data_test, prediction)"
   ],
   "metadata": {
    "collapsed": false,
    "pycharm": {
     "name": "#%%\n"
    }
   }
  },
  {
   "cell_type": "code",
   "execution_count": 18,
   "outputs": [
    {
     "data": {
      "text/plain": "44.81735178659308"
     },
     "execution_count": 18,
     "metadata": {},
     "output_type": "execute_result"
    }
   ],
   "source": [
    "MAPE(data_test, data_sample)"
   ],
   "metadata": {
    "collapsed": false,
    "pycharm": {
     "name": "#%%\n"
    }
   }
  },
  {
   "cell_type": "markdown",
   "source": [
    "## Из пандас строим датасет"
   ],
   "metadata": {
    "collapsed": false
   }
  },
  {
   "cell_type": "code",
   "execution_count": 19,
   "outputs": [],
   "source": [
    "class Stats:\n",
    "    def __init__(self, dataset):\n",
    "        self.mean = np.mean(dataset)\n",
    "        self.std = np.std(dataset)\n",
    "        self.data = (dataset - self.mean) / self.std\n",
    "\n",
    "stats = Stats(data_train)"
   ],
   "metadata": {
    "collapsed": false,
    "pycharm": {
     "name": "#%%\n"
    }
   }
  },
  {
   "cell_type": "code",
   "execution_count": 37,
   "outputs": [],
   "source": [
    "class TSDataset(Dataset):\n",
    "\n",
    "    def __init__(self, data, seq_len):\n",
    "        super().__init__()\n",
    "        self._len = len(data) - seq_len + 1\n",
    "        self.mean = stats.mean\n",
    "        self.std = stats.std\n",
    "        self.data = (data- self.mean) / self.std\n",
    "        self.seq_len = seq_len\n",
    "\n",
    "    def __len__(self):\n",
    "        return self._len\n",
    "\n",
    "    def __getitem__(self, idx):\n",
    "        d = self.data[idx:idx + self.seq_len]\n",
    "        targets = []\n",
    "        days   = []\n",
    "        months = []\n",
    "        year = []\n",
    "        for row in  d.iterrows():\n",
    "            targets += [ row[1]['value'] ]\n",
    "            days += [ row[0].day ]\n",
    "            months += [row[0].month]\n",
    "            year += [row[0].year]\n",
    "\n",
    "        return torch.LongTensor(days), \\\n",
    "               torch.LongTensor(months), \\\n",
    "               torch.LongTensor(year), \\\n",
    "               torch.FloatTensor(targets)"
   ],
   "metadata": {
    "collapsed": false,
    "pycharm": {
     "name": "#%%\n"
    }
   }
  },
  {
   "cell_type": "code",
   "execution_count": 38,
   "outputs": [
    {
     "name": "stdout",
     "output_type": "stream",
     "text": [
      "1077\n"
     ]
    }
   ],
   "source": [
    "ds_train = TSDataset(data_train, 20)\n",
    "ds_test  = TSDataset(data_test, 20)\n",
    "print(len(ds_train))\n"
   ],
   "metadata": {
    "collapsed": false,
    "pycharm": {
     "name": "#%%\n"
    }
   }
  },
  {
   "cell_type": "markdown",
   "source": [
    "## Теперь нужно определить нашу модель"
   ],
   "metadata": {
    "collapsed": false
   }
  },
  {
   "cell_type": "code",
   "execution_count": 149,
   "outputs": [],
   "source": [
    "def seed_everything(seed: int):\n",
    "    import random, os\n",
    "    import numpy as np\n",
    "    import torch\n",
    "\n",
    "    random.seed(seed)\n",
    "    os.environ['PYTHONHASHSEED'] = str(seed)\n",
    "    np.random.seed(seed)\n",
    "    torch.manual_seed(seed)\n",
    "    torch.cuda.manual_seed(seed)\n",
    "    torch.backends.cudnn.deterministic = True\n",
    "    torch.backends.cudnn.benchmark = True\n",
    "\n",
    "seed_everything(333)"
   ],
   "metadata": {
    "collapsed": false,
    "pycharm": {
     "name": "#%%\n"
    }
   }
  },
  {
   "cell_type": "code",
   "execution_count": 150,
   "outputs": [],
   "source": [
    "class TimeSeriesModel(nn.Module):\n",
    "    def __init__(self, hidden_size: int, input_sizes: tuple):\n",
    "        super().__init__()\n",
    "        self.mon_emb = nn.Embedding(12+1, input_sizes[0])\n",
    "        self.day_emb = nn.Embedding(31+1, input_sizes[1])\n",
    "\n",
    "        # self._rnn = nn.LSTM(input_sizes[0] + input_sizes[1]+1,  hidden_size,  batch_first=True)\n",
    "        self._rnn = nn.GRU(input_sizes[0] + input_sizes[1]+1,  hidden_size,  batch_first=True)\n",
    "        self._output = nn.Linear(hidden_size, 1)\n",
    "\n",
    "    def forward(self, batch, ctx = None):\n",
    "        days, mons, years, targets = batch\n",
    "        mon_tensor = self.mon_emb(mons)\n",
    "        day_tensor = self.day_emb(days)\n",
    "        rnn_input  = torch.cat([mon_tensor, day_tensor], dim=-1)\n",
    "        targets = targets.unsqueeze(-1)\n",
    "        rnn_input = torch.cat([rnn_input, targets ], dim=-1)\n",
    "        rnn_input = rnn_input[:, :-1, :] if ctx is None else rnn_input\n",
    "        output, ctx = self._rnn(rnn_input, ctx)\n",
    "        output = self._output(output).squeeze()\n",
    "        return output, ctx"
   ],
   "metadata": {
    "collapsed": false,
    "pycharm": {
     "name": "#%%\n"
    }
   }
  },
  {
   "cell_type": "markdown",
   "source": [
    "### Определяем даталоадеры для теста и трейна"
   ],
   "metadata": {
    "collapsed": false
   }
  },
  {
   "cell_type": "code",
   "execution_count": 151,
   "outputs": [],
   "source": [
    "dl_train = DataLoader(ds_train, 8 , True)\n",
    "dl_test = DataLoader(ds_test, 8 , False)"
   ],
   "metadata": {
    "collapsed": false,
    "pycharm": {
     "name": "#%%\n"
    }
   }
  },
  {
   "cell_type": "code",
   "execution_count": 152,
   "outputs": [],
   "source": [
    "series_model = TimeSeriesModel(256, (16,32))"
   ],
   "metadata": {
    "collapsed": false,
    "pycharm": {
     "name": "#%%\n"
    }
   }
  },
  {
   "cell_type": "code",
   "execution_count": 153,
   "outputs": [],
   "source": [
    "loss = nn.L1Loss()\n",
    "optimizer = Adam(series_model.parameters(), lr=5e-4)"
   ],
   "metadata": {
    "collapsed": false,
    "pycharm": {
     "name": "#%%\n"
    }
   }
  },
  {
   "cell_type": "code",
   "execution_count": 154,
   "outputs": [],
   "source": [
    "# инициализируем тензорборд, для вывода графиков\n",
    "writer = SummaryWriter(log_dir='./rnn_hw')"
   ],
   "metadata": {
    "collapsed": false,
    "pycharm": {
     "name": "#%%\n"
    }
   }
  },
  {
   "cell_type": "markdown",
   "source": [
    "### Обучаем модель"
   ],
   "metadata": {
    "collapsed": false
   }
  },
  {
   "cell_type": "code",
   "execution_count": 155,
   "outputs": [],
   "source": [
    "global_epoch = 0\n",
    "global_iter = 0"
   ],
   "metadata": {
    "collapsed": false,
    "pycharm": {
     "name": "#%%\n"
    }
   }
  },
  {
   "cell_type": "code",
   "execution_count": 156,
   "outputs": [],
   "source": [
    "def test_model(epoch):\n",
    "    test_iter  = tqdm(dl_test)\n",
    "    sum_loss = 0\n",
    "    num_batches = 0\n",
    "    for i, batch in enumerate(test_iter):\n",
    "        # Чтобы сохранялась временная зависимость\n",
    "        # для предсказания таргет должен быть смешен на один временной шаг\n",
    "        # относительно входа модели\n",
    "        target = batch[-1][:, 1:]\n",
    "        result, _ = series_model(batch)\n",
    "        batch_loss = loss(result, target)\n",
    "        sum_loss += batch_loss\n",
    "        num_batches += 1\n",
    "    sum_loss /= num_batches\n",
    "    writer.add_scalar('Loss/val', sum_loss , epoch)\n",
    "    return sum_loss"
   ],
   "metadata": {
    "collapsed": false,
    "pycharm": {
     "name": "#%%\n"
    }
   }
  },
  {
   "cell_type": "code",
   "execution_count": 157,
   "outputs": [
    {
     "name": "stderr",
     "output_type": "stream",
     "text": [
      "Epoch: 0000, Iter Loss: 0.5028: 100%|██████████| 135/135 [00:03<00:00, 39.82it/s]\n",
      "100%|██████████| 44/44 [00:00<00:00, 98.72it/s] \n",
      "Epoch: 0001, Iter Loss: 0.3734: 100%|██████████| 135/135 [00:02<00:00, 49.24it/s]\n",
      "100%|██████████| 44/44 [00:00<00:00, 133.21it/s]\n",
      "Epoch: 0002, Iter Loss: 0.1830: 100%|██████████| 135/135 [00:02<00:00, 47.42it/s]\n",
      "100%|██████████| 44/44 [00:00<00:00, 132.69it/s]\n",
      "Epoch: 0003, Iter Loss: 0.2488: 100%|██████████| 135/135 [00:02<00:00, 50.16it/s]\n",
      "100%|██████████| 44/44 [00:00<00:00, 133.38it/s]\n",
      "Epoch: 0004, Iter Loss: 0.2175: 100%|██████████| 135/135 [00:02<00:00, 48.53it/s]\n",
      "100%|██████████| 44/44 [00:00<00:00, 123.41it/s]\n",
      "Epoch: 0005, Iter Loss: 0.1791: 100%|██████████| 135/135 [00:02<00:00, 48.09it/s]\n",
      "100%|██████████| 44/44 [00:00<00:00, 129.57it/s]\n",
      "Epoch: 0006, Iter Loss: 0.1876: 100%|██████████| 135/135 [00:02<00:00, 46.02it/s]\n",
      "100%|██████████| 44/44 [00:00<00:00, 94.92it/s]\n",
      "Epoch: 0007, Iter Loss: 0.1557: 100%|██████████| 135/135 [00:03<00:00, 44.59it/s]\n",
      "100%|██████████| 44/44 [00:00<00:00, 128.05it/s]\n",
      "Epoch: 0008, Iter Loss: 0.1315: 100%|██████████| 135/135 [00:02<00:00, 45.72it/s]\n",
      "100%|██████████| 44/44 [00:00<00:00, 114.82it/s]\n",
      "Epoch: 0009, Iter Loss: 0.1345: 100%|██████████| 135/135 [00:02<00:00, 47.00it/s]\n",
      "100%|██████████| 44/44 [00:00<00:00, 129.50it/s]\n",
      "Epoch: 0010, Iter Loss: 0.1393: 100%|██████████| 135/135 [00:03<00:00, 44.34it/s]\n",
      "100%|██████████| 44/44 [00:00<00:00, 116.01it/s]\n",
      "Epoch: 0011, Iter Loss: 0.1257: 100%|██████████| 135/135 [00:02<00:00, 46.37it/s]\n",
      "100%|██████████| 44/44 [00:00<00:00, 118.26it/s]\n",
      "Epoch: 0012, Iter Loss: 0.1103: 100%|██████████| 135/135 [00:03<00:00, 43.29it/s]\n",
      "100%|██████████| 44/44 [00:00<00:00, 114.11it/s]\n",
      "Epoch: 0013, Iter Loss: 0.1373: 100%|██████████| 135/135 [00:02<00:00, 45.63it/s]\n",
      "100%|██████████| 44/44 [00:00<00:00, 131.30it/s]\n",
      "Epoch: 0014, Iter Loss: 0.1127: 100%|██████████| 135/135 [00:03<00:00, 44.72it/s]\n",
      "100%|██████████| 44/44 [00:00<00:00, 115.80it/s]\n"
     ]
    }
   ],
   "source": [
    "# модель обучаем в режиме teacher forcing, т.е. на вход подаем сразу всю последовательность,\n",
    "# на выходе таргет должен быть смещен на один временной шаг, чтобы правильно считался лосс\n",
    "\n",
    "for epoch in range(0, 15):\n",
    "    epoch_iter = tqdm(dl_train)\n",
    "    series_model.train()\n",
    "    for batch in epoch_iter:\n",
    "        optimizer.zero_grad()\n",
    "        #print(batch)\n",
    "        #break\n",
    "        target = batch[-1][:,1:]\n",
    "        result, _ = series_model(batch)\n",
    "        batch_loss = loss(result, target)\n",
    "        batch_loss.backward()\n",
    "        epoch_iter.set_description(\"Epoch: %04d, Iter Loss: %.4f\"  %(epoch, batch_loss))\n",
    "        optimizer.step()\n",
    "        writer.add_scalar('Loss/train', batch_loss , global_iter)\n",
    "        global_iter += 1\n",
    "    with torch.no_grad():\n",
    "        series_model.eval()\n",
    "        test_model(global_epoch)\n",
    "    global_epoch += 1"
   ],
   "metadata": {
    "collapsed": false,
    "pycharm": {
     "name": "#%%\n"
    }
   }
  },
  {
   "cell_type": "markdown",
   "source": [
    "\n",
    "### TODO\n",
    "Теперь нам нужно для нашего тестового сета сгенерировать результат, и сделать правильный сабмишен. В отличии от режима обучения мы не должгны использовать значения таргетов в тесте, поэтому нам придется тут реализовывать инкрементальный режим генерации сети, т.е. когда на вход подаются фичи и таргет с предыдущего шага на каждоим шаге генерации."
   ],
   "metadata": {
    "collapsed": false
   }
  },
  {
   "cell_type": "code",
   "execution_count": 158,
   "outputs": [],
   "source": [
    "ds_evaluation = TSDataset(data_test, 1)\n",
    "dl_evaluation = DataLoader(ds_evaluation, 1 , False)"
   ],
   "metadata": {
    "collapsed": false,
    "pycharm": {
     "name": "#%%\n"
    }
   }
  },
  {
   "cell_type": "code",
   "execution_count": 159,
   "outputs": [],
   "source": [
    "for batch in DataLoader(ds_train, 1):\n",
    "    input = batch"
   ],
   "metadata": {
    "collapsed": false,
    "pycharm": {
     "name": "#%%\n"
    }
   }
  },
  {
   "cell_type": "code",
   "execution_count": 160,
   "outputs": [
    {
     "name": "stdout",
     "output_type": "stream",
     "text": [
      "[tensor([[12, 13, 14, 15, 16, 17, 18, 19, 20, 21, 22, 23, 24, 25, 26, 27, 28, 29,\n",
      "         30, 31]]), tensor([[12, 12, 12, 12, 12, 12, 12, 12, 12, 12, 12, 12, 12, 12, 12, 12, 12, 12,\n",
      "         12, 12]]), tensor([[2018, 2018, 2018, 2018, 2018, 2018, 2018, 2018, 2018, 2018, 2018, 2018,\n",
      "         2018, 2018, 2018, 2018, 2018, 2018, 2018, 2018]]), tensor([[-0.1291, -0.1936, -0.4293, -1.7672, -1.7341, -0.2415, -0.3038, -0.1620,\n",
      "         -0.2428, -0.5024, -1.7640, -1.7625, -0.2683, -0.4030, -0.4092, -0.4963,\n",
      "         -0.5780, -1.0860, -2.0020, -2.2004]])]\n"
     ]
    }
   ],
   "source": [
    "print(input)"
   ],
   "metadata": {
    "collapsed": false,
    "pycharm": {
     "name": "#%%\n"
    }
   }
  },
  {
   "cell_type": "code",
   "execution_count": 161,
   "outputs": [],
   "source": [
    "predicted_values = []\n",
    "with open('data/my_submission.csv', 'wt') as sf:\n",
    "    print('date,hits', file=sf)\n",
    "\n",
    "    target, ctx = series_model(input)\n",
    "    target = target[-1:]\n",
    "    for i, batch in enumerate(dl_evaluation):\n",
    "        batch[3] = target.unsqueeze(0)\n",
    "        target, ctx = series_model(batch, ctx)\n",
    "        target = torch.FloatTensor([target])\n",
    "        print('%d-%02d-%02d,%d' %(batch[2], batch[1], batch[0], float(batch[3])*stats.std + stats.mean), file=sf)"
   ],
   "metadata": {
    "collapsed": false,
    "pycharm": {
     "name": "#%%\n"
    }
   }
  },
  {
   "cell_type": "code",
   "execution_count": 162,
   "outputs": [
    {
     "data": {
      "text/plain": "26.493310254661445"
     },
     "execution_count": 162,
     "metadata": {},
     "output_type": "execute_result"
    }
   ],
   "source": [
    "data_nn_submission = read_set('data/my_submission.csv')\n",
    "MAPE(data_test, data_nn_submission)"
   ],
   "metadata": {
    "collapsed": false,
    "pycharm": {
     "name": "#%%\n"
    }
   }
  },
  {
   "cell_type": "code",
   "execution_count": 163,
   "outputs": [
    {
     "data": {
      "text/plain": "                value\ndate                 \n2019-01-01  108624560\n2019-01-02  130814504\n2019-01-03  147999398\n2019-01-04  148669766\n2019-01-05  131564540\n...               ...\n2019-12-27  248681252\n2019-12-28  139485986\n2019-12-29  122282606\n2019-12-30  225638432\n2019-12-31  130522880\n\n[365 rows x 1 columns]",
      "text/html": "<div>\n<style scoped>\n    .dataframe tbody tr th:only-of-type {\n        vertical-align: middle;\n    }\n\n    .dataframe tbody tr th {\n        vertical-align: top;\n    }\n\n    .dataframe thead th {\n        text-align: right;\n    }\n</style>\n<table border=\"1\" class=\"dataframe\">\n  <thead>\n    <tr style=\"text-align: right;\">\n      <th></th>\n      <th>value</th>\n    </tr>\n    <tr>\n      <th>date</th>\n      <th></th>\n    </tr>\n  </thead>\n  <tbody>\n    <tr>\n      <th>2019-01-01</th>\n      <td>108624560</td>\n    </tr>\n    <tr>\n      <th>2019-01-02</th>\n      <td>130814504</td>\n    </tr>\n    <tr>\n      <th>2019-01-03</th>\n      <td>147999398</td>\n    </tr>\n    <tr>\n      <th>2019-01-04</th>\n      <td>148669766</td>\n    </tr>\n    <tr>\n      <th>2019-01-05</th>\n      <td>131564540</td>\n    </tr>\n    <tr>\n      <th>...</th>\n      <td>...</td>\n    </tr>\n    <tr>\n      <th>2019-12-27</th>\n      <td>248681252</td>\n    </tr>\n    <tr>\n      <th>2019-12-28</th>\n      <td>139485986</td>\n    </tr>\n    <tr>\n      <th>2019-12-29</th>\n      <td>122282606</td>\n    </tr>\n    <tr>\n      <th>2019-12-30</th>\n      <td>225638432</td>\n    </tr>\n    <tr>\n      <th>2019-12-31</th>\n      <td>130522880</td>\n    </tr>\n  </tbody>\n</table>\n<p>365 rows × 1 columns</p>\n</div>"
     },
     "execution_count": 163,
     "metadata": {},
     "output_type": "execute_result"
    }
   ],
   "source": [
    "data_test"
   ],
   "metadata": {
    "collapsed": false,
    "pycharm": {
     "name": "#%%\n"
    }
   }
  },
  {
   "cell_type": "code",
   "execution_count": 164,
   "outputs": [
    {
     "data": {
      "text/plain": "<Figure size 432x288 with 1 Axes>",
      "image/png": "[encoded data removed]"
     },
     "metadata": {
      "needs_background": "light"
     },
     "output_type": "display_data"
    }
   ],
   "source": [
    "plt.figure()\n",
    "data_train['value'].plot(kind = 'line')\n",
    "data_test['value'].plot(kind = 'line')\n",
    "data_nn_submission['value'].plot(kind = 'line', color='m')\n",
    "plt.show()"
   ],
   "metadata": {
    "collapsed": false,
    "pycharm": {
     "name": "#%%\n"
    }
   }
  },
  {
   "cell_type": "code",
   "execution_count": 165,
   "outputs": [],
   "source": [
    "# seed: 111; model Lstm; hidden_size: 256: embedding (16; 32) - 28.5"
   ],
   "metadata": {
    "collapsed": false,
    "pycharm": {
     "name": "#%%\n"
    }
   }
  },
  {
   "cell_type": "code",
   "execution_count": 129,
   "outputs": [],
   "source": [
    "# seed: 222; model Gru; hidden_size: 256: embedding (16; 32) - 27.7"
   ],
   "metadata": {
    "collapsed": false,
    "pycharm": {
     "name": "#%%\n"
    }
   }
  },
  {
   "cell_type": "code",
   "execution_count": 130,
   "outputs": [],
   "source": [
    "# seed: 333; model Gru; hidden_size: 256: embedding (16; 32) - 26.4"
   ],
   "metadata": {
    "collapsed": false,
    "pycharm": {
     "name": "#%%\n"
    }
   }
  },
  {
   "cell_type": "code",
   "execution_count": 131,
   "outputs": [],
   "source": [
    "# seed: 355; model Lstm; hidden_size: 256: embedding (16; 32) - 32.4"
   ],
   "metadata": {
    "collapsed": false,
    "pycharm": {
     "name": "#%%\n"
    }
   }
  },
  {
   "cell_type": "code",
   "execution_count": 131,
   "outputs": [],
   "source": [],
   "metadata": {
    "collapsed": false,
    "pycharm": {
     "name": "#%%\n"
    }
   }
  },
  {
   "cell_type": "code",
   "execution_count": 131,
   "outputs": [],
   "source": [],
   "metadata": {
    "collapsed": false,
    "pycharm": {
     "name": "#%%\n"
    }
   }
  },
  {
   "cell_type": "code",
   "execution_count": null,
   "outputs": [],
   "source": [],
   "metadata": {
    "collapsed": false,
    "pycharm": {
     "name": "#%%\n"
    }
   }
  }
 ],
 "metadata": {
  "kernelspec": {
   "display_name": "Python 3",
   "language": "python",
   "name": "python3"
  },
  "language_info": {
   "codemirror_mode": {
    "name": "ipython",
    "version": 2
   },
   "file_extension": ".py",
   "mimetype": "text/x-python",
   "name": "python",
   "nbconvert_exporter": "python",
   "pygments_lexer": "ipython2",
   "version": "2.7.6"
  }
 },
 "nbformat": 4,
 "nbformat_minor": 0
}