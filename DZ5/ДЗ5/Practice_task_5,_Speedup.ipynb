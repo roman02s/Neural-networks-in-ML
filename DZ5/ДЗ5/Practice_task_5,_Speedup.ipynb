{
  "cells": [
    {
      "cell_type": "markdown",
      "metadata": {
        "id": "bn27NI7zaf9Z"
      },
      "source": [
        "## Семинар 5: \"Улучшение сходимости нейросетей\""
      ]
    },
    {
      "cell_type": "markdown",
      "metadata": {
        "id": "kY9vse7waf9b"
      },
      "source": [
        "ФИО:\n",
        "\n",
        "Сим Роман Дмитриевич"
      ]
    },
    {
      "cell_type": "code",
      "execution_count": 1,
      "metadata": {
        "id": "JdEAkdunaf9d"
      },
      "outputs": [],
      "source": [
        "import numpy as np\n",
        "from sklearn.model_selection import train_test_split\n",
        "import matplotlib.pyplot as plt\n",
        "import torch\n",
        "from torch import nn\n",
        "import torch.nn.functional as F\n",
        "from torch.autograd import Variable\n",
        "from torch.utils.data import DataLoader\n",
        "from torchvision.datasets import MNIST\n",
        "from torchvision import transforms\n",
        "%matplotlib inline"
      ]
    },
    {
      "cell_type": "markdown",
      "metadata": {
        "id": "iIgr4r2Haf9l"
      },
      "source": [
        "На этом семинаре мы попробуем улучшить результаты, полученные на предыдущем занятии\n",
        "Для этого нам понадобятся следующие вещи:\n",
        "* Dropout\n",
        "* Batch Normalization\n",
        "* Инициализация весов"
      ]
    },
    {
      "cell_type": "markdown",
      "metadata": {
        "id": "CZHtxmbUaf9m"
      },
      "source": [
        "### Часть 1: Инициализация весов"
      ]
    },
    {
      "cell_type": "markdown",
      "metadata": {
        "id": "W8dhNr-faf9n"
      },
      "source": [
        "На лекции доказывалось, что при инициализации He и Glorot дисперсия активаций градиентов в каждом слое будут примерно равны. Давайте проверим это. "
      ]
    },
    {
      "cell_type": "code",
      "execution_count": 2,
      "metadata": {
        "id": "216zZRJAaf9o",
        "colab": {
          "base_uri": "https://localhost:8080/",
          "height": 494,
          "referenced_widgets": [
            "e9f4d8f202684478a2ff9cf01f2bf956",
            "9e25d6d229e6460cb08a29d5f72475f0",
            "643b7fe5cd844747827eb7cd43f9961a",
            "3aaafb609e664cffba5302845655edcf",
            "eac3220a70b640d6b4cd3992f7744583",
            "8c5aaa040c714041a7bf1f1907d14b27",
            "58b2614c1b884c99939f634ed1b367b1",
            "0ae3c9a0672c4ee5ad2510d84612d554",
            "5959948c76664640a5e81b70c18e2572",
            "0063877bb07e4e018e8f41f5f3021542",
            "d620558f802c447d9c3a1c25f3461efb",
            "31c5fd0bef684d30bb742125a634a3ab",
            "941f44b7e24c475cae428961f09876f1",
            "b23171b4e2514d118ad84ff7844af55a",
            "cbe76caa36604a3999a1f1e9333ceb07",
            "8fb0f945f2704e5bb965c6848828f4b5",
            "dbd3db5c30be4f5e889769ad4e998cfd",
            "f5e6558a0b2145ca9f8e50942dd25642",
            "ec26cbc461b0421da1d0aabb84ebc0f0",
            "64544b30c2674c059a25942045ebcf83",
            "8f2f1c5f2bf44703ad7eeb128986f15a",
            "9ca39bd92d594a049b6efc1e62a26ff7",
            "5221de56b0154ac9884c453dcbca5840",
            "4685e89bf30342809b115f2c04ec04d9",
            "2e203f7026004f9489905f5fc708048d",
            "80f6f42ea0d5433880406d156b0d84f0",
            "f5ea191bb2f84187a5786a805e961a3f",
            "a82194505e9842c094518e376e67d50f",
            "fb2705daa8024cf98fec827735521322",
            "667fbc59a3f34a77a050f3fb32dc2d09",
            "8273df2adb384c319e4193bee566b44d",
            "2de0428061e34acebd76c124a3e9da81",
            "bfcb0f27ff8543ee9988004032b70703",
            "e1e001a5a3ef4ff8ab2da26eca74e2aa",
            "bb855ff099684f02980e89615332d78b",
            "ff26c09574844bdf973b524f968cab95",
            "48593e1567204ca983206c307715c25f",
            "1d645a503bff41099157a6b46d993849",
            "216d11225f9c44f4bc7d73c266a0e710",
            "377775d9e07f403888365de0ebebd724",
            "80e08b1d309646c982c4d8258282f2f4",
            "b68263695b02451d87ecc42605625dd9",
            "ffcd83a70c8e49b6aa2c761bab73a8e7",
            "1591e49565f5446b8835387ad66ae092"
          ]
        },
        "outputId": "6b7d21ed-f4a2-4e66-ee1d-e32f750454ac"
      },
      "outputs": [
        {
          "output_type": "stream",
          "name": "stdout",
          "text": [
            "Downloading http://yann.lecun.com/exdb/mnist/train-images-idx3-ubyte.gz\n",
            "Downloading http://yann.lecun.com/exdb/mnist/train-images-idx3-ubyte.gz to ./MNIST/raw/train-images-idx3-ubyte.gz\n"
          ]
        },
        {
          "output_type": "display_data",
          "data": {
            "text/plain": [
              "  0%|          | 0/9912422 [00:00<?, ?it/s]"
            ],
            "application/vnd.jupyter.widget-view+json": {
              "version_major": 2,
              "version_minor": 0,
              "model_id": "e9f4d8f202684478a2ff9cf01f2bf956"
            }
          },
          "metadata": {}
        },
        {
          "output_type": "stream",
          "name": "stdout",
          "text": [
            "Extracting ./MNIST/raw/train-images-idx3-ubyte.gz to ./MNIST/raw\n",
            "\n",
            "Downloading http://yann.lecun.com/exdb/mnist/train-labels-idx1-ubyte.gz\n",
            "Downloading http://yann.lecun.com/exdb/mnist/train-labels-idx1-ubyte.gz to ./MNIST/raw/train-labels-idx1-ubyte.gz\n"
          ]
        },
        {
          "output_type": "display_data",
          "data": {
            "text/plain": [
              "  0%|          | 0/28881 [00:00<?, ?it/s]"
            ],
            "application/vnd.jupyter.widget-view+json": {
              "version_major": 2,
              "version_minor": 0,
              "model_id": "31c5fd0bef684d30bb742125a634a3ab"
            }
          },
          "metadata": {}
        },
        {
          "output_type": "stream",
          "name": "stdout",
          "text": [
            "Extracting ./MNIST/raw/train-labels-idx1-ubyte.gz to ./MNIST/raw\n",
            "\n",
            "Downloading http://yann.lecun.com/exdb/mnist/t10k-images-idx3-ubyte.gz\n",
            "Downloading http://yann.lecun.com/exdb/mnist/t10k-images-idx3-ubyte.gz to ./MNIST/raw/t10k-images-idx3-ubyte.gz\n"
          ]
        },
        {
          "output_type": "display_data",
          "data": {
            "text/plain": [
              "  0%|          | 0/1648877 [00:00<?, ?it/s]"
            ],
            "application/vnd.jupyter.widget-view+json": {
              "version_major": 2,
              "version_minor": 0,
              "model_id": "5221de56b0154ac9884c453dcbca5840"
            }
          },
          "metadata": {}
        },
        {
          "output_type": "stream",
          "name": "stdout",
          "text": [
            "Extracting ./MNIST/raw/t10k-images-idx3-ubyte.gz to ./MNIST/raw\n",
            "\n",
            "Downloading http://yann.lecun.com/exdb/mnist/t10k-labels-idx1-ubyte.gz\n",
            "Downloading http://yann.lecun.com/exdb/mnist/t10k-labels-idx1-ubyte.gz to ./MNIST/raw/t10k-labels-idx1-ubyte.gz\n"
          ]
        },
        {
          "output_type": "display_data",
          "data": {
            "text/plain": [
              "  0%|          | 0/4542 [00:00<?, ?it/s]"
            ],
            "application/vnd.jupyter.widget-view+json": {
              "version_major": 2,
              "version_minor": 0,
              "model_id": "e1e001a5a3ef4ff8ab2da26eca74e2aa"
            }
          },
          "metadata": {}
        },
        {
          "output_type": "stream",
          "name": "stdout",
          "text": [
            "Extracting ./MNIST/raw/t10k-labels-idx1-ubyte.gz to ./MNIST/raw\n",
            "\n"
          ]
        }
      ],
      "source": [
        "# Dataloader\n",
        "to_numpy = lambda x: x.numpy()\n",
        "transform = transforms.Compose([\n",
        "                       transforms.ToTensor(),\n",
        "                       transforms.Normalize((0.1307,), (0.3081,))\n",
        "                    ])\n",
        "train_dataset = MNIST('.', train=True, download=True, transform=transform)\n",
        "test_dataset = MNIST('.', train=False, transform=transform)\n",
        "\n",
        "train_loader = DataLoader(train_dataset, batch_size=128, shuffle=True)\n",
        "test_loader = DataLoader(test_dataset, batch_size=128, shuffle=True)"
      ]
    },
    {
      "cell_type": "code",
      "execution_count": 3,
      "metadata": {
        "id": "EqpqV_pVaf9t"
      },
      "outputs": [],
      "source": [
        "images_train, labels_train = next(iter(train_loader))"
      ]
    },
    {
      "cell_type": "code",
      "execution_count": 4,
      "metadata": {
        "id": "agAN6Tyfaf9x"
      },
      "outputs": [],
      "source": [
        "## Usage example:\n",
        "for X, y in train_loader:\n",
        "    X = X.view(X.size(0), -1)\n",
        "    X = X.numpy() ### Converts torch.Tensor to numpy array\n",
        "    y = y.numpy()\n",
        "    pass"
      ]
    },
    {
      "cell_type": "code",
      "execution_count": 5,
      "metadata": {
        "colab": {
          "base_uri": "https://localhost:8080/",
          "height": 420
        },
        "id": "71k9eU4Caf91",
        "outputId": "a9ed44a3-e989-4137-989d-ed9e2134a7e8"
      },
      "outputs": [
        {
          "output_type": "display_data",
          "data": {
            "text/plain": [
              "<Figure size 432x504 with 25 Axes>"
            ],
            "image/png": "[encoded data removed]"
          },
          "metadata": {
            "needs_background": "light"
          }
        }
      ],
      "source": [
        "plt.figure(figsize=(6, 7))\n",
        "for i in range(25):\n",
        "    plt.subplot(5, 5, i+1)\n",
        "    plt.imshow(X[i].reshape(28, 28), cmap=plt.cm.Greys_r)\n",
        "    plt.title(y[i])\n",
        "    plt.axis('off')"
      ]
    },
    {
      "cell_type": "markdown",
      "metadata": {
        "id": "CjxGvxs8af98"
      },
      "source": [
        "<i> 1.1 </i> Инициализируйте полносвязную сеть нормальным шумом N(0, 0.1) с архитектурой 784 -> 500 x (10 раз) -> 10. В качестве активации возьмите tanh"
      ]
    },
    {
      "cell_type": "code",
      "execution_count": 6,
      "metadata": {
        "id": "DgCP_qclaf99"
      },
      "outputs": [],
      "source": [
        "def init_layer(layer, mean=0, std=1):\n",
        "    # Тут надо быть аккуратным — можно случайно создать копию и менять значения у копии\n",
        "    weight = layer.state_dict()['weight']\n",
        "    bias = layer.state_dict()['bias']\n",
        "    bias.zero_()\n",
        "    weight.normal_(mean=0, std=std)\n",
        "\n",
        "def forward_hook(self, input_, output):\n",
        "    std = input_[0].std().item()\n",
        "    print('forward', std)\n",
        "\n",
        "def backward_hook(self, grad_input, grad_output):\n",
        "    std = grad_input[0].std().item()\n",
        "    print('backward', std)\n",
        "\n",
        "    \n",
        "# пример:\n",
        "layer = nn.Linear(28*28, 10)\n",
        "layer.register_forward_hook(forward_hook)\n",
        "layer.register_backward_hook(backward_hook)\n",
        "init_layer(layer, 0.0, 0.1) # сюда надо подставить другие параметры"
      ]
    },
    {
      "cell_type": "markdown",
      "metadata": {
        "id": "SsjtA7N_af-G"
      },
      "source": [
        "<i>1.2 Пропустите батч изображений через нейронную сеть и вычислите дисперсию активаций. Затем вычислите градиент и получите дисперсию градиентов. Сравните эти значения между собой для разных слоев.</i>"
      ]
    },
    {
      "cell_type": "code",
      "execution_count": 7,
      "metadata": {
        "colab": {
          "base_uri": "https://localhost:8080/"
        },
        "id": "7Ri1Tvuyaf-K",
        "outputId": "f0cd7121-45e8-44ca-b09f-4b8f0320efcd",
        "scrolled": true
      },
      "outputs": [
        {
          "output_type": "stream",
          "name": "stdout",
          "text": [
            "forward 0.9972742795944214\n",
            "backward 0.033665020018815994\n"
          ]
        },
        {
          "output_type": "stream",
          "name": "stderr",
          "text": [
            "/usr/local/lib/python3.7/dist-packages/torch/nn/modules/module.py:1053: UserWarning: Using a non-full backward hook when the forward contains multiple autograd Nodes is deprecated and will be removed in future versions. This hook will be missing some grad_input. Please use register_full_backward_hook to get the documented behavior.\n",
            "  warnings.warn(\"Using a non-full backward hook when the forward contains multiple autograd Nodes \"\n"
          ]
        }
      ],
      "source": [
        "network = nn.Sequential(layer)\n",
        "\n",
        "#пример:\n",
        "n_objects = 100\n",
        "X = images_train[:n_objects].view(n_objects, -1).data\n",
        "y = labels_train[:n_objects].data\n",
        "activations = network(X)\n",
        "loss_fn = torch.nn.NLLLoss()\n",
        "optimizer = torch.optim.Adam(network.parameters(), lr=0.001) \n",
        "loss = loss_fn(activations, y)\n",
        "loss.backward()"
      ]
    },
    {
      "cell_type": "markdown",
      "metadata": {
        "id": "aUJG1Dbqaf-R"
      },
      "source": [
        "<i>1.3 Повторите эксперимент для инициализаций He и Xavier (формулы есть в лекции).</i>"
      ]
    },
    {
      "cell_type": "code",
      "execution_count": 8,
      "metadata": {
        "id": "FyD1lPKwaf-T",
        "colab": {
          "base_uri": "https://localhost:8080/"
        },
        "outputId": "ef65dbef-33aa-4ce9-b79c-da32ee367fba"
      },
      "outputs": [
        {
          "output_type": "stream",
          "name": "stdout",
          "text": [
            "66\n"
          ]
        }
      ],
      "source": [
        "sizes = [28*28, 64, 32] + [16] * 30 + [10]\n",
        "layers = []\n",
        "\n",
        "def normal(size_input, size_output):\n",
        "    return 0.1\n",
        "    #return 1\n",
        "\n",
        "def xavier(size_input, size_output):\n",
        "    d = 2 / (size_input + size_output)\n",
        "    return np.sqrt(d)\n",
        "\n",
        "def good_grad(size_input, size_output):\n",
        "    d = 1 / size_output\n",
        "    return np.sqrt(d)\n",
        "\n",
        "#init_func = normal\n",
        "init_func = xavier\n",
        "#init_func = good_grad\n",
        "\n",
        "for size_input, size_output in zip(sizes, sizes[1:]):\n",
        "    \n",
        "    layer = nn.Linear(size_input, size_output)\n",
        "    layer.register_forward_hook(forward_hook)\n",
        "    layer.register_backward_hook(backward_hook)\n",
        "    init_layer(layer, 0.0, init_func(size_input, size_output)) # сюда надо подставить другие параметры\n",
        "    \n",
        "    layers.append(layer)\n",
        "    #layers.append(nn.Tanh())\n",
        "    #layers.append(nn.Sigmoid())\n",
        "    layers.append(nn.ReLU())\n",
        "    \n",
        "print(len(layers))\n",
        "del layers[-1]"
      ]
    },
    {
      "cell_type": "code",
      "source": [
        "def init_he(size_input, size_output):\n",
        "    d = 2 / size_output\n",
        "    return np.sqrt(d)\n",
        "\n",
        "\n",
        "init_func = init_he\n",
        "layers = []  \n",
        "for size_input, size_output in zip(sizes, sizes[1:]):\n",
        "    \n",
        "    layer = nn.Linear(size_input, size_output)\n",
        "    layer.register_forward_hook(forward_hook)\n",
        "    layer.register_backward_hook(backward_hook)\n",
        "    init_layer(layer, 0.0, init_func(size_input, size_output)) \n",
        "    \n",
        "    layers.append(layer)\n",
        "    layers.append(nn.ReLU())\n",
        "\n",
        "network = nn.Sequential(*layers)\n",
        "\n",
        "#пример:\n",
        "n_objects = 100\n",
        "X = images_train[:n_objects].view(n_objects, -1).data\n",
        "y = labels_train[:n_objects].data\n",
        "activations = network(X)\n",
        "loss_fn = torch.nn.NLLLoss()\n",
        "optimizer = torch.optim.Adam(network.parameters(), lr=0.001) \n",
        "loss = loss_fn(activations, y)\n",
        "loss.backward()"
      ],
      "metadata": {
        "colab": {
          "base_uri": "https://localhost:8080/"
        },
        "id": "FJPPQjhhENMb",
        "outputId": "993efea3-b4d8-4a6f-e73a-f8b97d9e3cd8"
      },
      "execution_count": 9,
      "outputs": [
        {
          "output_type": "stream",
          "name": "stdout",
          "text": [
            "forward 0.9972742795944214\n",
            "forward 2.859571933746338\n",
            "forward 3.8701236248016357\n",
            "forward 6.167248249053955\n",
            "forward 8.041150093078613\n",
            "forward 8.464607238769531\n",
            "forward 10.17035961151123\n",
            "forward 12.732316017150879\n",
            "forward 15.639808654785156\n",
            "forward 8.587307929992676\n",
            "forward 11.810242652893066\n",
            "forward 17.45517921447754\n",
            "forward 14.638630867004395\n",
            "forward 19.80579948425293\n",
            "forward 17.297090530395508\n",
            "forward 14.56014633178711\n",
            "forward 10.454488754272461\n",
            "forward 13.223057746887207\n",
            "forward 8.926915168762207\n",
            "forward 7.342095375061035\n",
            "forward 6.975790500640869\n",
            "forward 9.41104507446289\n",
            "forward 6.952357769012451\n",
            "forward 6.093955993652344\n",
            "forward 6.987386226654053\n",
            "forward 3.453732490539551\n",
            "forward 3.2895448207855225\n",
            "forward 3.414858341217041\n",
            "forward 3.545534372329712\n",
            "forward 4.181499481201172\n",
            "forward 2.9716286659240723\n",
            "forward 2.7194507122039795\n",
            "forward 4.056319713592529\n",
            "backward 0.060378432273864746\n",
            "backward 0.08041766285896301\n",
            "backward 0.0923982784152031\n",
            "backward 0.10002162307500839\n",
            "backward 0.1088225245475769\n",
            "backward 0.13029365241527557\n",
            "backward 0.13583028316497803\n",
            "backward 0.13013102114200592\n",
            "backward 0.18056856095790863\n",
            "backward 0.16829518973827362\n",
            "backward 0.23740793764591217\n",
            "backward 0.15310722589492798\n",
            "backward 0.13010065257549286\n",
            "backward 0.1311691552400589\n",
            "backward 0.13984131813049316\n",
            "backward 0.07645038515329361\n",
            "backward 0.0813530832529068\n",
            "backward 0.08165773004293442\n",
            "backward 0.07297701388597488\n",
            "backward 0.04646895453333855\n",
            "backward 0.04196960851550102\n",
            "backward 0.03971379995346069\n",
            "backward 0.02773953601717949\n",
            "backward 0.03544316440820694\n",
            "backward 0.029598766937851906\n",
            "backward 0.029894685372710228\n",
            "backward 0.037786856293678284\n",
            "backward 0.05888877436518669\n",
            "backward 0.046935588121414185\n",
            "backward 0.04897218570113182\n",
            "backward 0.06415173411369324\n",
            "backward 0.0598200224339962\n",
            "backward 0.04905388876795769\n"
          ]
        }
      ]
    },
    {
      "cell_type": "code",
      "source": [
        "def xavier(size_input, size_output):\n",
        "    d = 2 / (size_input + size_output)\n",
        "    return np.sqrt(d)\n",
        "\n",
        "init_func = xavier\n",
        "layers = []  \n",
        "for size_input, size_output in zip(sizes, sizes[1:]):\n",
        "    \n",
        "    layer = nn.Linear(size_input, size_output)\n",
        "    layer.register_forward_hook(forward_hook)\n",
        "    layer.register_backward_hook(backward_hook)\n",
        "    init_layer(layer, 0.0, init_func(size_input, size_output)) \n",
        "    \n",
        "    layers.append(layer)\n",
        "    layers.append(nn.ReLU())\n",
        "\n",
        "network = nn.Sequential(*layers)\n",
        "\n",
        "#пример:\n",
        "n_objects = 100\n",
        "X = images_train[:n_objects].view(n_objects, -1).data\n",
        "y = labels_train[:n_objects].data\n",
        "activations = network(X)\n",
        "loss_fn = torch.nn.NLLLoss()\n",
        "optimizer = torch.optim.Adam(network.parameters(), lr=0.001) \n",
        "loss = loss_fn(activations, y)\n",
        "loss.backward()"
      ],
      "metadata": {
        "colab": {
          "base_uri": "https://localhost:8080/"
        },
        "id": "-AEcMRbOEgOq",
        "outputId": "1f2e45a6-5f25-4171-a2ca-41f4f6304955"
      },
      "execution_count": 10,
      "outputs": [
        {
          "output_type": "stream",
          "name": "stdout",
          "text": [
            "forward 0.9972742795944214\n",
            "forward 0.8576235771179199\n",
            "forward 0.5859848260879517\n",
            "forward 0.42658331990242004\n",
            "forward 0.34293806552886963\n",
            "forward 0.24021989107131958\n",
            "forward 0.10615768283605576\n",
            "forward 0.08310434222221375\n",
            "forward 0.06621167063713074\n",
            "forward 0.050577953457832336\n",
            "forward 0.03885885328054428\n",
            "forward 0.027416376397013664\n",
            "forward 0.019420191645622253\n",
            "forward 0.013355477713048458\n",
            "forward 0.010283240117132664\n",
            "forward 0.008960571140050888\n",
            "forward 0.0052626607939600945\n",
            "forward 0.004153423476964235\n",
            "forward 0.00277872197329998\n",
            "forward 0.002341262297704816\n",
            "forward 0.0020912429317831993\n",
            "forward 0.0010917712934315205\n",
            "forward 0.0007392113911919296\n",
            "forward 0.0006143731880001724\n",
            "forward 0.0006504534394480288\n",
            "forward 0.00047271704534068704\n",
            "forward 0.0005017658695578575\n",
            "forward 0.000363598286639899\n",
            "forward 0.00025330655626021326\n",
            "forward 0.00015797158994246274\n",
            "forward 0.00013658602256327868\n",
            "forward 0.00014077556261327118\n",
            "forward 0.00011325305240461603\n",
            "backward 0.055136192589998245\n",
            "backward 0.05475646257400513\n",
            "backward 0.04736596345901489\n",
            "backward 0.036116957664489746\n",
            "backward 0.0323321633040905\n",
            "backward 0.020890243351459503\n",
            "backward 0.012972582131624222\n",
            "backward 0.01498523447662592\n",
            "backward 0.012692393735051155\n",
            "backward 0.010221193544566631\n",
            "backward 0.011853893287479877\n",
            "backward 0.006608734373003244\n",
            "backward 0.00607371935620904\n",
            "backward 0.005058040842413902\n",
            "backward 0.0031241965480148792\n",
            "backward 0.0022476755548268557\n",
            "backward 0.0015656185569241643\n",
            "backward 0.0008540002163499594\n",
            "backward 0.0006650767172686756\n",
            "backward 0.0005683373310603201\n",
            "backward 0.00040706651634536684\n",
            "backward 0.0002782859082799405\n",
            "backward 0.00013799725275021046\n",
            "backward 0.00013955462782178074\n",
            "backward 0.00011455473577370867\n",
            "backward 0.0001177189769805409\n",
            "backward 7.977824134286493e-05\n",
            "backward 5.294069342198782e-05\n",
            "backward 4.5631444663740695e-05\n",
            "backward 2.3624184905202128e-05\n",
            "backward 1.2850439816247672e-05\n",
            "backward 6.235807177290553e-06\n",
            "backward 2.9979698865645332e-06\n"
          ]
        }
      ]
    },
    {
      "cell_type": "markdown",
      "metadata": {
        "id": "7U2YSSw5af-Y"
      },
      "source": [
        "<i> 1.4 Сделайте выводы по первой части </i>"
      ]
    },
    {
      "cell_type": "markdown",
      "metadata": {
        "id": "NBQ7o-hjaf-a"
      },
      "source": []
    },
    {
      "cell_type": "markdown",
      "metadata": {
        "id": "4kYx-hwLaf-b"
      },
      "source": [
        "### Часть 2: Dropout"
      ]
    },
    {
      "cell_type": "markdown",
      "metadata": {
        "id": "mDoy5_yEaf-c"
      },
      "source": [
        "Другим полезным слоем является Dropout. В нем с вероятностью 1-p зануляется выход каждого нейрона. Этот слой уже реализован в pyTorch, поэтому вновь реализовывать его не интересно. Давайте реализуем DropConnect — аналог Dropout. В нем с вероятностью 1-p зануляется каждый вес слоя."
      ]
    },
    {
      "cell_type": "markdown",
      "metadata": {
        "id": "hxi77m72af-d"
      },
      "source": [
        "<i> 2.1 Реализуйте линейный слой с DropConnect </i>"
      ]
    },
    {
      "cell_type": "code",
      "execution_count": 11,
      "metadata": {
        "id": "Ee2ljeNCaf-f"
      },
      "outputs": [],
      "source": [
        "# полезная функция: .bernoulli_(p)\n",
        "# не забывайте делать requires_grad=False у маски\n",
        "# помните, что в вычислениях должны участвовать Variable, а не тензоры\n",
        "\n",
        "class DropConnect(nn.Module):\n",
        "    def __init__(self, input_dim, output_dim, p=0.5):\n",
        "        super(DropConnect, self).__init__()\n",
        "        self.linear = nn.Linear(input_dim, output_dim)\n",
        "        self.p = p\n",
        "\n",
        "    def forward(self, x):    \n",
        "        mask = torch.zeros_like(self.linear.weight, requires_grad=False) + self.p\n",
        "        if self.training:          \n",
        "            mask.bernoulli_()\n",
        "\n",
        "        mask = mask.data\n",
        "        output = F.linear(x, self.linear.weight * mask, self.linear.bias)\n",
        "        return output"
      ]
    },
    {
      "cell_type": "markdown",
      "metadata": {
        "id": "CCv4jdyoaf-k"
      },
      "source": [
        "<i> \n",
        "2.2 Сравните графики обучения нейроных сетей:\n",
        "1. Свертки из TestNetwork -> 128 -> 128 -> 10 с ReLU и Dropout между всеми слоями \n",
        "2. Свертки из TestNetwork -> 128 -> 128 -> 10 с ReLU DropConnect вместо всех линейных слоев\n",
        "</i>"
      ]
    },
    {
      "cell_type": "code",
      "execution_count": 12,
      "metadata": {
        "id": "uC3EYVlraf-m"
      },
      "outputs": [],
      "source": [
        "class TestNetwork(nn.Module):\n",
        "    def __init__(self, final_part):\n",
        "        super().__init__()    \n",
        "        \n",
        "        channels = 1\n",
        "        \n",
        "        self.conv_layers = nn.Sequential(\n",
        "            nn.Conv2d(channels, 2, 3, padding=1),    \n",
        "            nn.MaxPool2d(2),\n",
        "            nn.ReLU(),\n",
        "            nn.Conv2d(2, 4, 3, padding=1),            \n",
        "            nn.MaxPool2d(2),\n",
        "            nn.ReLU(),\n",
        "        )\n",
        "        \n",
        "        #input_size = 7 * 7 * 4 = 196\n",
        "        self.flatten = nn.Flatten()\n",
        "        \n",
        "        self.final_part = final_part\n",
        "        \n",
        "        self.log_softmax = nn.LogSoftmax(1)        \n",
        "        \n",
        "    def forward(self, x):\n",
        "        x = self.conv_layers(x)\n",
        "        x = self.flatten(x)\n",
        "        x = self.final_part(x)\n",
        "        return self.log_softmax(x)"
      ]
    },
    {
      "cell_type": "code",
      "source": [
        "sizes = [196, 128, 128, 10]\n",
        "layers = []\n",
        "for size_input, size_output in zip(sizes, sizes[1:]):\n",
        "    layers.append(nn.Linear(size_input, size_output))\n",
        "    layers.append(nn.ReLU())\n",
        "    layers.append(nn.Dropout())\n",
        "\n",
        "# исключим активационную на последнем слое\n",
        "del layers[-1]\n",
        "[print(f'{i}: {layer}') for i, layer in enumerate(layers)]"
      ],
      "metadata": {
        "colab": {
          "base_uri": "https://localhost:8080/"
        },
        "id": "CZ3ExQw7JFe9",
        "outputId": "406e76d3-ad5d-4eb8-cdf3-fe82be98900c"
      },
      "execution_count": 13,
      "outputs": [
        {
          "output_type": "stream",
          "name": "stdout",
          "text": [
            "0: Linear(in_features=196, out_features=128, bias=True)\n",
            "1: ReLU()\n",
            "2: Dropout(p=0.5, inplace=False)\n",
            "3: Linear(in_features=128, out_features=128, bias=True)\n",
            "4: ReLU()\n",
            "5: Dropout(p=0.5, inplace=False)\n",
            "6: Linear(in_features=128, out_features=10, bias=True)\n",
            "7: ReLU()\n"
          ]
        },
        {
          "output_type": "execute_result",
          "data": {
            "text/plain": [
              "[None, None, None, None, None, None, None, None]"
            ]
          },
          "metadata": {},
          "execution_count": 13
        }
      ]
    },
    {
      "cell_type": "code",
      "execution_count": 15,
      "metadata": {
        "colab": {
          "base_uri": "https://localhost:8080/",
          "height": 1000
        },
        "id": "QRoKM7rtbGXr",
        "outputId": "c950ad5d-d2c0-4ef5-ba51-9ce0f4cbc03d"
      },
      "outputs": [
        {
          "output_type": "stream",
          "name": "stdout",
          "text": [
            "Epoch 9... (Train/Test) NLL: 0.125/0.067\tAccuracy: 0.963/0.978\n"
          ]
        },
        {
          "output_type": "display_data",
          "data": {
            "text/plain": [
              "<Figure size 864x360 with 2 Axes>"
            ],
            "image/png": "[encoded data removed]"
          },
          "metadata": {
            "needs_background": "light"
          }
        },
        {
          "output_type": "execute_result",
          "data": {
            "text/plain": [
              "([0.7227476120376384,\n",
              "  0.2565527342752353,\n",
              "  0.2036684605199645,\n",
              "  0.17977998179318047,\n",
              "  0.1643957925011227,\n",
              "  0.15162246868903959,\n",
              "  0.14788064384844893,\n",
              "  0.13750413605081502,\n",
              "  0.1320787343277987,\n",
              "  0.12541047346267872],\n",
              " [0.17533984124849114,\n",
              "  0.12145994254682638,\n",
              "  0.09952682029172967,\n",
              "  0.08724179442366291,\n",
              "  0.08389501073220863,\n",
              "  0.07410474430439593,\n",
              "  0.07534225045738718,\n",
              "  0.07265255494703408,\n",
              "  0.0668301964886015,\n",
              "  0.06707844219488811],\n",
              " [0.7693008,\n",
              "  0.9244292,\n",
              "  0.9414923,\n",
              "  0.9474392,\n",
              "  0.95340264,\n",
              "  0.9569785,\n",
              "  0.9570674,\n",
              "  0.9592051,\n",
              "  0.9611652,\n",
              "  0.9633029],\n",
              " [0.9453125,\n",
              "  0.9636076,\n",
              "  0.96934336,\n",
              "  0.97171676,\n",
              "  0.9740902,\n",
              "  0.97685915,\n",
              "  0.9755736,\n",
              "  0.9769581,\n",
              "  0.9790348,\n",
              "  0.9780459])"
            ]
          },
          "metadata": {},
          "execution_count": 15
        }
      ],
      "source": [
        "from train_utils import train\n",
        "\n",
        "network = TestNetwork(nn.Sequential(*layers))\n",
        "\n",
        "train(network, train_loader, test_loader, 10, 0.001, device='cuda')"
      ]
    },
    {
      "cell_type": "code",
      "source": [
        "sizes = [196, 128, 128, 10]\n",
        "layers = []\n",
        "for size_input, size_output in zip(sizes, sizes[1:]):\n",
        "    layers.append(DropConnect(size_input, size_output))\n",
        "    layers.append(nn.ReLU())\n",
        "\n",
        "# исключим активационную на последнем слое\n",
        "del layers[-1]\n",
        "[print(f'{i}: {layer}') for i, layer in enumerate(layers)]"
      ],
      "metadata": {
        "colab": {
          "base_uri": "https://localhost:8080/"
        },
        "id": "XudHz3ZoKpsM",
        "outputId": "f9198791-de3b-41da-bcaa-0adf85ba6da4"
      },
      "execution_count": 16,
      "outputs": [
        {
          "output_type": "stream",
          "name": "stdout",
          "text": [
            "0: DropConnect(\n",
            "  (linear): Linear(in_features=196, out_features=128, bias=True)\n",
            ")\n",
            "1: ReLU()\n",
            "2: DropConnect(\n",
            "  (linear): Linear(in_features=128, out_features=128, bias=True)\n",
            ")\n",
            "3: ReLU()\n",
            "4: DropConnect(\n",
            "  (linear): Linear(in_features=128, out_features=10, bias=True)\n",
            ")\n"
          ]
        },
        {
          "output_type": "execute_result",
          "data": {
            "text/plain": [
              "[None, None, None, None, None]"
            ]
          },
          "metadata": {},
          "execution_count": 16
        }
      ]
    },
    {
      "cell_type": "code",
      "source": [
        "from train_utils import train\n",
        "\n",
        "network = TestNetwork(nn.Sequential(*layers))\n",
        "\n",
        "train(network, train_loader, test_loader, 10, 0.001, device='cuda')"
      ],
      "metadata": {
        "colab": {
          "base_uri": "https://localhost:8080/",
          "height": 358
        },
        "id": "MoL69HVpLxgu",
        "outputId": "eacbe0e7-e200-423c-b6ef-2f4fb9a27066"
      },
      "execution_count": null,
      "outputs": [
        {
          "output_type": "stream",
          "name": "stdout",
          "text": [
            "Epoch 5... (Train/Test) NLL: 0.266/0.160\tAccuracy: 0.920/0.950\n"
          ]
        },
        {
          "output_type": "display_data",
          "data": {
            "text/plain": [
              "<Figure size 864x360 with 2 Axes>"
            ],
            "image/png": "[encoded data removed]"
          },
          "metadata": {
            "needs_background": "light"
          }
        }
      ]
    },
    {
      "cell_type": "markdown",
      "metadata": {
        "id": "pooEVZFbaf_L"
      },
      "source": [
        "В test-time стохастичность Dropout убирают и заменяют все веса на их ожидаемое значение: $\\mathbb{E}w = pw + (1-p)0 = pw$."
      ]
    },
    {
      "cell_type": "markdown",
      "metadata": {
        "id": "yfBC8qS4af_K"
      },
      "source": [
        "<i> 2.3 Сделайте выводы по третьей части. </i>"
      ]
    },
    {
      "cell_type": "markdown",
      "metadata": {
        "id": "zFTfYoSSvm5h"
      },
      "source": [
        "Точность с Dropout лучше, чем с DropConnect.\n",
        "\n",
        "Точность на тесте значительно лучше, чем на тренировочных данных,\n",
        "из-за зануления выходов нейрона при обучении и каждого веса по отдельности.\n"
      ]
    },
    {
      "cell_type": "markdown",
      "metadata": {
        "id": "if-VP-I4af_M"
      },
      "source": [
        "### Часть 3: Batch Normalization"
      ]
    },
    {
      "cell_type": "markdown",
      "metadata": {
        "id": "Vba0rSy-af_N"
      },
      "source": [
        "Наконец, давайте рассмотрим Batch Normalization. Этот слой вычитает среднее и делит на стандартное отклонение. Среднее и дисперсия вычисляются по батчу независимо для каждого нейрона. У этого слоя есть две важные проблемы: его нельзя использовать при обучении с размером батча 1 и он делает элементы батча зависимыми. Давайте реализуем аналог батч нормализации: <a href=https://arxiv.org/pdf/1607.06450.pdf>Layer normalization</a>. В layer normalization среднее и дисперсия вычисляются по активациям нейронов, независимо для каждого объекта."
      ]
    },
    {
      "cell_type": "markdown",
      "metadata": {
        "id": "cqUTAtjIaf_O"
      },
      "source": [
        "<i> 3.1 Реализуйте Layer Normalization </i>"
      ]
    },
    {
      "cell_type": "code",
      "execution_count": 18,
      "metadata": {
        "id": "e2H4VX4_af_O"
      },
      "outputs": [],
      "source": [
        "# полезные функции: .std(dim), .mean(dim)\n",
        "\n",
        "class LayerNormalization(nn.Module):\n",
        "    def __init__(self, input_dim):\n",
        "        super().__init__()\n",
        "        self.alpha = nn.Parameter(torch.ones(input_dim))\n",
        "        self.beta = nn.Parameter(torch.zeros(input_dim))\n",
        "        \n",
        "    def forward(self, x):\n",
        "        output = self.alpha * (x - x.mean()) / (x.std() + 1e-8) +  self.beta\n",
        "        return output"
      ]
    },
    {
      "cell_type": "markdown",
      "metadata": {
        "id": "g2sTZ7h5af_T"
      },
      "source": [
        "<i> \n",
        "3.2 Сравните графики обучения нейроных сетей:\n",
        "1. Свертки из TestNetwork -> 128 -> 128 -> 10 с ReLU и Batch normalization между всеми слоями \n",
        "2. Свертки из TestNetwork -> 128 -> 128 -> 10 с ReLU и Layer normalization между всеми слоями \n",
        "</i>"
      ]
    },
    {
      "cell_type": "code",
      "execution_count": 19,
      "metadata": {
        "id": "q1PPqKRZaf_U",
        "colab": {
          "base_uri": "https://localhost:8080/"
        },
        "outputId": "500ac93f-7b6b-4ff8-921d-0d2262ee1033"
      },
      "outputs": [
        {
          "output_type": "stream",
          "name": "stdout",
          "text": [
            "0: Linear(in_features=196, out_features=128, bias=True)\n",
            "1: BatchNorm1d(128, eps=1e-05, momentum=0.1, affine=True, track_running_stats=True)\n",
            "2: ReLU()\n",
            "3: Linear(in_features=128, out_features=128, bias=True)\n",
            "4: BatchNorm1d(128, eps=1e-05, momentum=0.1, affine=True, track_running_stats=True)\n",
            "5: ReLU()\n",
            "6: Linear(in_features=128, out_features=10, bias=True)\n",
            "7: BatchNorm1d(10, eps=1e-05, momentum=0.1, affine=True, track_running_stats=True)\n"
          ]
        },
        {
          "output_type": "execute_result",
          "data": {
            "text/plain": [
              "[None, None, None, None, None, None, None, None]"
            ]
          },
          "metadata": {},
          "execution_count": 19
        }
      ],
      "source": [
        "sizes = [196, 128, 128, 10]\n",
        "layers = []\n",
        "for size_input, size_output in zip(sizes, sizes[1:]):\n",
        "  layers.append(nn.Linear(size_input, size_output))\n",
        "  layers.append(nn.BatchNorm1d(size_output))\n",
        "  layers.append(nn.ReLU())\n",
        "\n",
        "# исключим активационную на последнем слое\n",
        "del layers[-1]\n",
        "[print(f'{i}: {layer}') for i, layer in enumerate(layers)]"
      ]
    },
    {
      "cell_type": "code",
      "source": [
        "from train_utils import train\n",
        "\n",
        "network = TestNetwork(nn.Sequential(*layers))\n",
        "\n",
        "train(network, train_loader, test_loader, 10, 0.001, device='cuda')"
      ],
      "metadata": {
        "colab": {
          "base_uri": "https://localhost:8080/",
          "height": 1000
        },
        "id": "fSjejlPOglCG",
        "outputId": "f6ce5c91-b5ed-4ad2-ea40-9dcc9bfd8e3b"
      },
      "execution_count": 20,
      "outputs": [
        {
          "output_type": "stream",
          "name": "stdout",
          "text": [
            "Epoch 9... (Train/Test) NLL: 0.030/0.048\tAccuracy: 0.993/0.986\n"
          ]
        },
        {
          "output_type": "display_data",
          "data": {
            "text/plain": [
              "<Figure size 864x360 with 2 Axes>"
            ],
            "image/png": "[encoded data removed]"
          },
          "metadata": {
            "needs_background": "light"
          }
        },
        {
          "output_type": "execute_result",
          "data": {
            "text/plain": [
              "([0.43266129061611475,\n",
              "  0.187115622513584,\n",
              "  0.122056547043992,\n",
              "  0.090750766651971,\n",
              "  0.06954662906907515,\n",
              "  0.05515381523461611,\n",
              "  0.04608714403803033,\n",
              "  0.0397955373958198,\n",
              "  0.035565619462175665,\n",
              "  0.030172223222257294],\n",
              " [0.21697152358821675,\n",
              "  0.13196506653028198,\n",
              "  0.09269780877836142,\n",
              "  0.08530841032160988,\n",
              "  0.06834562518928625,\n",
              "  0.05934899984092652,\n",
              "  0.055445997079810766,\n",
              "  0.05201986306523786,\n",
              "  0.05230064265123462,\n",
              "  0.0477343861225851],\n",
              " [0.93244714,\n",
              "  0.9729811,\n",
              "  0.97977746,\n",
              "  0.9832478,\n",
              "  0.9865627,\n",
              "  0.98902804,\n",
              "  0.9907383,\n",
              "  0.99141574,\n",
              "  0.99161,\n",
              "  0.99305373],\n",
              " [0.97211236,\n",
              "  0.9756725,\n",
              "  0.9831883,\n",
              "  0.98140824,\n",
              "  0.9844739,\n",
              "  0.98635286,\n",
              "  0.985265,\n",
              "  0.9856606,\n",
              "  0.9847706,\n",
              "  0.98595726])"
            ]
          },
          "metadata": {},
          "execution_count": 20
        }
      ]
    },
    {
      "cell_type": "code",
      "source": [
        "sizes = [196, 128, 128, 10]\n",
        "layers = []\n",
        "for size_input, size_output in zip(sizes, sizes[1:]):\n",
        "  layers.append(nn.Linear(size_input, size_output))\n",
        "  layers.append(LayerNormalization(size_output))\n",
        "  layers.append(nn.ReLU())\n",
        "\n",
        "# исключим активационную на последнем слое\n",
        "del layers[-1]\n",
        "[print(f'{i}: {layer}') for i, layer in enumerate(layers)]"
      ],
      "metadata": {
        "colab": {
          "base_uri": "https://localhost:8080/"
        },
        "id": "GiGefFtBgv-2",
        "outputId": "a22cd2a0-6889-4bb9-dd8a-5cce29f5a08f"
      },
      "execution_count": 21,
      "outputs": [
        {
          "output_type": "stream",
          "name": "stdout",
          "text": [
            "0: Linear(in_features=196, out_features=128, bias=True)\n",
            "1: LayerNormalization()\n",
            "2: ReLU()\n",
            "3: Linear(in_features=128, out_features=128, bias=True)\n",
            "4: LayerNormalization()\n",
            "5: ReLU()\n",
            "6: Linear(in_features=128, out_features=10, bias=True)\n",
            "7: LayerNormalization()\n"
          ]
        },
        {
          "output_type": "execute_result",
          "data": {
            "text/plain": [
              "[None, None, None, None, None, None, None, None]"
            ]
          },
          "metadata": {},
          "execution_count": 21
        }
      ]
    },
    {
      "cell_type": "code",
      "source": [
        "from train_utils import train\n",
        "\n",
        "network = TestNetwork(nn.Sequential(*layers))\n",
        "\n",
        "train(network, train_loader, test_loader, 10, 0.001, device='cuda')"
      ],
      "metadata": {
        "colab": {
          "base_uri": "https://localhost:8080/",
          "height": 1000
        },
        "id": "8HJUeRslhOs3",
        "outputId": "ebeaa2f3-101e-44d8-b25e-4aca0e7bf8e2"
      },
      "execution_count": 22,
      "outputs": [
        {
          "output_type": "stream",
          "name": "stdout",
          "text": [
            "Epoch 9... (Train/Test) NLL: 0.029/0.055\tAccuracy: 0.992/0.984\n"
          ]
        },
        {
          "output_type": "display_data",
          "data": {
            "text/plain": [
              "<Figure size 864x360 with 2 Axes>"
            ],
            "image/png": "[encoded data removed]"
          },
          "metadata": {
            "needs_background": "light"
          }
        },
        {
          "output_type": "execute_result",
          "data": {
            "text/plain": [
              "([0.4111099287645141,\n",
              "  0.1597961330655287,\n",
              "  0.10340042949231194,\n",
              "  0.07602466665891441,\n",
              "  0.06080981019113872,\n",
              "  0.049656653105577174,\n",
              "  0.04275911489028984,\n",
              "  0.03639791705913699,\n",
              "  0.03264590398843355,\n",
              "  0.02934502219177608],\n",
              " [0.2153482731384567,\n",
              "  0.12810428242517424,\n",
              "  0.09350030539156515,\n",
              "  0.09547543115442313,\n",
              "  0.07226535312454158,\n",
              "  0.06413473969301846,\n",
              "  0.054364856415062765,\n",
              "  0.05893535271899987,\n",
              "  0.059315410654850395,\n",
              "  0.05450912016809364],\n",
              " [0.93544555,\n",
              "  0.97691786,\n",
              "  0.9817264,\n",
              "  0.98542994,\n",
              "  0.98724014,\n",
              "  0.9889504,\n",
              "  0.9897499,\n",
              "  0.99139905,\n",
              "  0.99180436,\n",
              "  0.9921875],\n",
              " [0.9728046,\n",
              "  0.97992486,\n",
              "  0.98328716,\n",
              "  0.9774525,\n",
              "  0.9821994,\n",
              "  0.98239714,\n",
              "  0.9853639,\n",
              "  0.9831883,\n",
              "  0.9830894,\n",
              "  0.98368275])"
            ]
          },
          "metadata": {},
          "execution_count": 22
        }
      ]
    },
    {
      "cell_type": "markdown",
      "metadata": {
        "id": "CudyBOIgaf_X"
      },
      "source": [
        "<i> 3.3 Сделайте выводы по третьей части </i>"
      ]
    },
    {
      "cell_type": "markdown",
      "metadata": {
        "id": "PgZh16-IvluR"
      },
      "source": [
        "Точность с Batch normalization и Layer normalization не отличается друг от друга явно: в 2-х режимах наблюдается неустойчивость на тестовых данных.\n"
      ]
    },
    {
      "cell_type": "code",
      "source": [],
      "metadata": {
        "id": "4xH-Z-bFjG3G"
      },
      "execution_count": null,
      "outputs": []
    }
  ],
  "metadata": {
    "accelerator": "GPU",
    "colab": {
      "collapsed_sections": [],
      "provenance": []
    },
    "kernelspec": {
      "display_name": "Python 3",
      "language": "python",
      "name": "python3"
    },
    "language_info": {
      "codemirror_mode": {
        "name": "ipython",
        "version": 3
      },
      "file_extension": ".py",
      "mimetype": "text/x-python",
      "name": "python",
      "nbconvert_exporter": "python",
      "pygments_lexer": "ipython3",
      "version": "3.7.0"
    },
    "latex_envs": {
      "bibliofile": "biblio.bib",
      "cite_by": "apalike",
      "current_citInitial": 1,
      "eqLabelWithNumbers": true,
      "eqNumInitial": 0
    },
    "widgets": {
      "application/vnd.jupyter.widget-state+json": {
        "e9f4d8f202684478a2ff9cf01f2bf956": {
          "model_module": "@jupyter-widgets/controls",
          "model_name": "HBoxModel",
          "model_module_version": "1.5.0",
          "state": {
            "_dom_classes": [],
            "_model_module": "@jupyter-widgets/controls",
            "_model_module_version": "1.5.0",
            "_model_name": "HBoxModel",
            "_view_count": null,
            "_view_module": "@jupyter-widgets/controls",
            "_view_module_version": "1.5.0",
            "_view_name": "HBoxView",
            "box_style": "",
            "children": [
              "IPY_MODEL_9e25d6d229e6460cb08a29d5f72475f0",
              "IPY_MODEL_643b7fe5cd844747827eb7cd43f9961a",
              "IPY_MODEL_3aaafb609e664cffba5302845655edcf"
            ],
            "layout": "IPY_MODEL_eac3220a70b640d6b4cd3992f7744583"
          }
        },
        "9e25d6d229e6460cb08a29d5f72475f0": {
          "model_module": "@jupyter-widgets/controls",
          "model_name": "HTMLModel",
          "model_module_version": "1.5.0",
          "state": {
            "_dom_classes": [],
            "_model_module": "@jupyter-widgets/controls",
            "_model_module_version": "1.5.0",
            "_model_name": "HTMLModel",
            "_view_count": null,
            "_view_module": "@jupyter-widgets/controls",
            "_view_module_version": "1.5.0",
            "_view_name": "HTMLView",
            "description": "",
            "description_tooltip": null,
            "layout": "IPY_MODEL_8c5aaa040c714041a7bf1f1907d14b27",
            "placeholder": "​",
            "style": "IPY_MODEL_58b2614c1b884c99939f634ed1b367b1",
            "value": "100%"
          }
        },
        "643b7fe5cd844747827eb7cd43f9961a": {
          "model_module": "@jupyter-widgets/controls",
          "model_name": "FloatProgressModel",
          "model_module_version": "1.5.0",
          "state": {
            "_dom_classes": [],
            "_model_module": "@jupyter-widgets/controls",
            "_model_module_version": "1.5.0",
            "_model_name": "FloatProgressModel",
            "_view_count": null,
            "_view_module": "@jupyter-widgets/controls",
            "_view_module_version": "1.5.0",
            "_view_name": "ProgressView",
            "bar_style": "success",
            "description": "",
            "description_tooltip": null,
            "layout": "IPY_MODEL_0ae3c9a0672c4ee5ad2510d84612d554",
            "max": 9912422,
            "min": 0,
            "orientation": "horizontal",
            "style": "IPY_MODEL_5959948c76664640a5e81b70c18e2572",
            "value": 9912422
          }
        },
        "3aaafb609e664cffba5302845655edcf": {
          "model_module": "@jupyter-widgets/controls",
          "model_name": "HTMLModel",
          "model_module_version": "1.5.0",
          "state": {
            "_dom_classes": [],
            "_model_module": "@jupyter-widgets/controls",
            "_model_module_version": "1.5.0",
            "_model_name": "HTMLModel",
            "_view_count": null,
            "_view_module": "@jupyter-widgets/controls",
            "_view_module_version": "1.5.0",
            "_view_name": "HTMLView",
            "description": "",
            "description_tooltip": null,
            "layout": "IPY_MODEL_0063877bb07e4e018e8f41f5f3021542",
            "placeholder": "​",
            "style": "IPY_MODEL_d620558f802c447d9c3a1c25f3461efb",
            "value": " 9912422/9912422 [00:00&lt;00:00, 24283952.19it/s]"
          }
        },
        "eac3220a70b640d6b4cd3992f7744583": {
          "model_module": "@jupyter-widgets/base",
          "model_name": "LayoutModel",
          "model_module_version": "1.2.0",
          "state": {
            "_model_module": "@jupyter-widgets/base",
            "_model_module_version": "1.2.0",
            "_model_name": "LayoutModel",
            "_view_count": null,
            "_view_module": "@jupyter-widgets/base",
            "_view_module_version": "1.2.0",
            "_view_name": "LayoutView",
            "align_content": null,
            "align_items": null,
            "align_self": null,
            "border": null,
            "bottom": null,
            "display": null,
            "flex": null,
            "flex_flow": null,
            "grid_area": null,
            "grid_auto_columns": null,
            "grid_auto_flow": null,
            "grid_auto_rows": null,
            "grid_column": null,
            "grid_gap": null,
            "grid_row": null,
            "grid_template_areas": null,
            "grid_template_columns": null,
            "grid_template_rows": null,
            "height": null,
            "justify_content": null,
            "justify_items": null,
            "left": null,
            "margin": null,
            "max_height": null,
            "max_width": null,
            "min_height": null,
            "min_width": null,
            "object_fit": null,
            "object_position": null,
            "order": null,
            "overflow": null,
            "overflow_x": null,
            "overflow_y": null,
            "padding": null,
            "right": null,
            "top": null,
            "visibility": null,
            "width": null
          }
        },
        "8c5aaa040c714041a7bf1f1907d14b27": {
          "model_module": "@jupyter-widgets/base",
          "model_name": "LayoutModel",
          "model_module_version": "1.2.0",
          "state": {
            "_model_module": "@jupyter-widgets/base",
            "_model_module_version": "1.2.0",
            "_model_name": "LayoutModel",
            "_view_count": null,
            "_view_module": "@jupyter-widgets/base",
            "_view_module_version": "1.2.0",
            "_view_name": "LayoutView",
            "align_content": null,
            "align_items": null,
            "align_self": null,
            "border": null,
            "bottom": null,
            "display": null,
            "flex": null,
            "flex_flow": null,
            "grid_area": null,
            "grid_auto_columns": null,
            "grid_auto_flow": null,
            "grid_auto_rows": null,
            "grid_column": null,
            "grid_gap": null,
            "grid_row": null,
            "grid_template_areas": null,
            "grid_template_columns": null,
            "grid_template_rows": null,
            "height": null,
            "justify_content": null,
            "justify_items": null,
            "left": null,
            "margin": null,
            "max_height": null,
            "max_width": null,
            "min_height": null,
            "min_width": null,
            "object_fit": null,
            "object_position": null,
            "order": null,
            "overflow": null,
            "overflow_x": null,
            "overflow_y": null,
            "padding": null,
            "right": null,
            "top": null,
            "visibility": null,
            "width": null
          }
        },
        "58b2614c1b884c99939f634ed1b367b1": {
          "model_module": "@jupyter-widgets/controls",
          "model_name": "DescriptionStyleModel",
          "model_module_version": "1.5.0",
          "state": {
            "_model_module": "@jupyter-widgets/controls",
            "_model_module_version": "1.5.0",
            "_model_name": "DescriptionStyleModel",
            "_view_count": null,
            "_view_module": "@jupyter-widgets/base",
            "_view_module_version": "1.2.0",
            "_view_name": "StyleView",
            "description_width": ""
          }
        },
        "0ae3c9a0672c4ee5ad2510d84612d554": {
          "model_module": "@jupyter-widgets/base",
          "model_name": "LayoutModel",
          "model_module_version": "1.2.0",
          "state": {
            "_model_module": "@jupyter-widgets/base",
            "_model_module_version": "1.2.0",
            "_model_name": "LayoutModel",
            "_view_count": null,
            "_view_module": "@jupyter-widgets/base",
            "_view_module_version": "1.2.0",
            "_view_name": "LayoutView",
            "align_content": null,
            "align_items": null,
            "align_self": null,
            "border": null,
            "bottom": null,
            "display": null,
            "flex": null,
            "flex_flow": null,
            "grid_area": null,
            "grid_auto_columns": null,
            "grid_auto_flow": null,
            "grid_auto_rows": null,
            "grid_column": null,
            "grid_gap": null,
            "grid_row": null,
            "grid_template_areas": null,
            "grid_template_columns": null,
            "grid_template_rows": null,
            "height": null,
            "justify_content": null,
            "justify_items": null,
            "left": null,
            "margin": null,
            "max_height": null,
            "max_width": null,
            "min_height": null,
            "min_width": null,
            "object_fit": null,
            "object_position": null,
            "order": null,
            "overflow": null,
            "overflow_x": null,
            "overflow_y": null,
            "padding": null,
            "right": null,
            "top": null,
            "visibility": null,
            "width": null
          }
        },
        "5959948c76664640a5e81b70c18e2572": {
          "model_module": "@jupyter-widgets/controls",
          "model_name": "ProgressStyleModel",
          "model_module_version": "1.5.0",
          "state": {
            "_model_module": "@jupyter-widgets/controls",
            "_model_module_version": "1.5.0",
            "_model_name": "ProgressStyleModel",
            "_view_count": null,
            "_view_module": "@jupyter-widgets/base",
            "_view_module_version": "1.2.0",
            "_view_name": "StyleView",
            "bar_color": null,
            "description_width": ""
          }
        },
        "0063877bb07e4e018e8f41f5f3021542": {
          "model_module": "@jupyter-widgets/base",
          "model_name": "LayoutModel",
          "model_module_version": "1.2.0",
          "state": {
            "_model_module": "@jupyter-widgets/base",
            "_model_module_version": "1.2.0",
            "_model_name": "LayoutModel",
            "_view_count": null,
            "_view_module": "@jupyter-widgets/base",
            "_view_module_version": "1.2.0",
            "_view_name": "LayoutView",
            "align_content": null,
            "align_items": null,
            "align_self": null,
            "border": null,
            "bottom": null,
            "display": null,
            "flex": null,
            "flex_flow": null,
            "grid_area": null,
            "grid_auto_columns": null,
            "grid_auto_flow": null,
            "grid_auto_rows": null,
            "grid_column": null,
            "grid_gap": null,
            "grid_row": null,
            "grid_template_areas": null,
            "grid_template_columns": null,
            "grid_template_rows": null,
            "height": null,
            "justify_content": null,
            "justify_items": null,
            "left": null,
            "margin": null,
            "max_height": null,
            "max_width": null,
            "min_height": null,
            "min_width": null,
            "object_fit": null,
            "object_position": null,
            "order": null,
            "overflow": null,
            "overflow_x": null,
            "overflow_y": null,
            "padding": null,
            "right": null,
            "top": null,
            "visibility": null,
            "width": null
          }
        },
        "d620558f802c447d9c3a1c25f3461efb": {
          "model_module": "@jupyter-widgets/controls",
          "model_name": "DescriptionStyleModel",
          "model_module_version": "1.5.0",
          "state": {
            "_model_module": "@jupyter-widgets/controls",
            "_model_module_version": "1.5.0",
            "_model_name": "DescriptionStyleModel",
            "_view_count": null,
            "_view_module": "@jupyter-widgets/base",
            "_view_module_version": "1.2.0",
            "_view_name": "StyleView",
            "description_width": ""
          }
        },
        "31c5fd0bef684d30bb742125a634a3ab": {
          "model_module": "@jupyter-widgets/controls",
          "model_name": "HBoxModel",
          "model_module_version": "1.5.0",
          "state": {
            "_dom_classes": [],
            "_model_module": "@jupyter-widgets/controls",
            "_model_module_version": "1.5.0",
            "_model_name": "HBoxModel",
            "_view_count": null,
            "_view_module": "@jupyter-widgets/controls",
            "_view_module_version": "1.5.0",
            "_view_name": "HBoxView",
            "box_style": "",
            "children": [
              "IPY_MODEL_941f44b7e24c475cae428961f09876f1",
              "IPY_MODEL_b23171b4e2514d118ad84ff7844af55a",
              "IPY_MODEL_cbe76caa36604a3999a1f1e9333ceb07"
            ],
            "layout": "IPY_MODEL_8fb0f945f2704e5bb965c6848828f4b5"
          }
        },
        "941f44b7e24c475cae428961f09876f1": {
          "model_module": "@jupyter-widgets/controls",
          "model_name": "HTMLModel",
          "model_module_version": "1.5.0",
          "state": {
            "_dom_classes": [],
            "_model_module": "@jupyter-widgets/controls",
            "_model_module_version": "1.5.0",
            "_model_name": "HTMLModel",
            "_view_count": null,
            "_view_module": "@jupyter-widgets/controls",
            "_view_module_version": "1.5.0",
            "_view_name": "HTMLView",
            "description": "",
            "description_tooltip": null,
            "layout": "IPY_MODEL_dbd3db5c30be4f5e889769ad4e998cfd",
            "placeholder": "​",
            "style": "IPY_MODEL_f5e6558a0b2145ca9f8e50942dd25642",
            "value": "100%"
          }
        },
        "b23171b4e2514d118ad84ff7844af55a": {
          "model_module": "@jupyter-widgets/controls",
          "model_name": "FloatProgressModel",
          "model_module_version": "1.5.0",
          "state": {
            "_dom_classes": [],
            "_model_module": "@jupyter-widgets/controls",
            "_model_module_version": "1.5.0",
            "_model_name": "FloatProgressModel",
            "_view_count": null,
            "_view_module": "@jupyter-widgets/controls",
            "_view_module_version": "1.5.0",
            "_view_name": "ProgressView",
            "bar_style": "success",
            "description": "",
            "description_tooltip": null,
            "layout": "IPY_MODEL_ec26cbc461b0421da1d0aabb84ebc0f0",
            "max": 28881,
            "min": 0,
            "orientation": "horizontal",
            "style": "IPY_MODEL_64544b30c2674c059a25942045ebcf83",
            "value": 28881
          }
        },
        "cbe76caa36604a3999a1f1e9333ceb07": {
          "model_module": "@jupyter-widgets/controls",
          "model_name": "HTMLModel",
          "model_module_version": "1.5.0",
          "state": {
            "_dom_classes": [],
            "_model_module": "@jupyter-widgets/controls",
            "_model_module_version": "1.5.0",
            "_model_name": "HTMLModel",
            "_view_count": null,
            "_view_module": "@jupyter-widgets/controls",
            "_view_module_version": "1.5.0",
            "_view_name": "HTMLView",
            "description": "",
            "description_tooltip": null,
            "layout": "IPY_MODEL_8f2f1c5f2bf44703ad7eeb128986f15a",
            "placeholder": "​",
            "style": "IPY_MODEL_9ca39bd92d594a049b6efc1e62a26ff7",
            "value": " 28881/28881 [00:00&lt;00:00, 670610.31it/s]"
          }
        },
        "8fb0f945f2704e5bb965c6848828f4b5": {
          "model_module": "@jupyter-widgets/base",
          "model_name": "LayoutModel",
          "model_module_version": "1.2.0",
          "state": {
            "_model_module": "@jupyter-widgets/base",
            "_model_module_version": "1.2.0",
            "_model_name": "LayoutModel",
            "_view_count": null,
            "_view_module": "@jupyter-widgets/base",
            "_view_module_version": "1.2.0",
            "_view_name": "LayoutView",
            "align_content": null,
            "align_items": null,
            "align_self": null,
            "border": null,
            "bottom": null,
            "display": null,
            "flex": null,
            "flex_flow": null,
            "grid_area": null,
            "grid_auto_columns": null,
            "grid_auto_flow": null,
            "grid_auto_rows": null,
            "grid_column": null,
            "grid_gap": null,
            "grid_row": null,
            "grid_template_areas": null,
            "grid_template_columns": null,
            "grid_template_rows": null,
            "height": null,
            "justify_content": null,
            "justify_items": null,
            "left": null,
            "margin": null,
            "max_height": null,
            "max_width": null,
            "min_height": null,
            "min_width": null,
            "object_fit": null,
            "object_position": null,
            "order": null,
            "overflow": null,
            "overflow_x": null,
            "overflow_y": null,
            "padding": null,
            "right": null,
            "top": null,
            "visibility": null,
            "width": null
          }
        },
        "dbd3db5c30be4f5e889769ad4e998cfd": {
          "model_module": "@jupyter-widgets/base",
          "model_name": "LayoutModel",
          "model_module_version": "1.2.0",
          "state": {
            "_model_module": "@jupyter-widgets/base",
            "_model_module_version": "1.2.0",
            "_model_name": "LayoutModel",
            "_view_count": null,
            "_view_module": "@jupyter-widgets/base",
            "_view_module_version": "1.2.0",
            "_view_name": "LayoutView",
            "align_content": null,
            "align_items": null,
            "align_self": null,
            "border": null,
            "bottom": null,
            "display": null,
            "flex": null,
            "flex_flow": null,
            "grid_area": null,
            "grid_auto_columns": null,
            "grid_auto_flow": null,
            "grid_auto_rows": null,
            "grid_column": null,
            "grid_gap": null,
            "grid_row": null,
            "grid_template_areas": null,
            "grid_template_columns": null,
            "grid_template_rows": null,
            "height": null,
            "justify_content": null,
            "justify_items": null,
            "left": null,
            "margin": null,
            "max_height": null,
            "max_width": null,
            "min_height": null,
            "min_width": null,
            "object_fit": null,
            "object_position": null,
            "order": null,
            "overflow": null,
            "overflow_x": null,
            "overflow_y": null,
            "padding": null,
            "right": null,
            "top": null,
            "visibility": null,
            "width": null
          }
        },
        "f5e6558a0b2145ca9f8e50942dd25642": {
          "model_module": "@jupyter-widgets/controls",
          "model_name": "DescriptionStyleModel",
          "model_module_version": "1.5.0",
          "state": {
            "_model_module": "@jupyter-widgets/controls",
            "_model_module_version": "1.5.0",
            "_model_name": "DescriptionStyleModel",
            "_view_count": null,
            "_view_module": "@jupyter-widgets/base",
            "_view_module_version": "1.2.0",
            "_view_name": "StyleView",
            "description_width": ""
          }
        },
        "ec26cbc461b0421da1d0aabb84ebc0f0": {
          "model_module": "@jupyter-widgets/base",
          "model_name": "LayoutModel",
          "model_module_version": "1.2.0",
          "state": {
            "_model_module": "@jupyter-widgets/base",
            "_model_module_version": "1.2.0",
            "_model_name": "LayoutModel",
            "_view_count": null,
            "_view_module": "@jupyter-widgets/base",
            "_view_module_version": "1.2.0",
            "_view_name": "LayoutView",
            "align_content": null,
            "align_items": null,
            "align_self": null,
            "border": null,
            "bottom": null,
            "display": null,
            "flex": null,
            "flex_flow": null,
            "grid_area": null,
            "grid_auto_columns": null,
            "grid_auto_flow": null,
            "grid_auto_rows": null,
            "grid_column": null,
            "grid_gap": null,
            "grid_row": null,
            "grid_template_areas": null,
            "grid_template_columns": null,
            "grid_template_rows": null,
            "height": null,
            "justify_content": null,
            "justify_items": null,
            "left": null,
            "margin": null,
            "max_height": null,
            "max_width": null,
            "min_height": null,
            "min_width": null,
            "object_fit": null,
            "object_position": null,
            "order": null,
            "overflow": null,
            "overflow_x": null,
            "overflow_y": null,
            "padding": null,
            "right": null,
            "top": null,
            "visibility": null,
            "width": null
          }
        },
        "64544b30c2674c059a25942045ebcf83": {
          "model_module": "@jupyter-widgets/controls",
          "model_name": "ProgressStyleModel",
          "model_module_version": "1.5.0",
          "state": {
            "_model_module": "@jupyter-widgets/controls",
            "_model_module_version": "1.5.0",
            "_model_name": "ProgressStyleModel",
            "_view_count": null,
            "_view_module": "@jupyter-widgets/base",
            "_view_module_version": "1.2.0",
            "_view_name": "StyleView",
            "bar_color": null,
            "description_width": ""
          }
        },
        "8f2f1c5f2bf44703ad7eeb128986f15a": {
          "model_module": "@jupyter-widgets/base",
          "model_name": "LayoutModel",
          "model_module_version": "1.2.0",
          "state": {
            "_model_module": "@jupyter-widgets/base",
            "_model_module_version": "1.2.0",
            "_model_name": "LayoutModel",
            "_view_count": null,
            "_view_module": "@jupyter-widgets/base",
            "_view_module_version": "1.2.0",
            "_view_name": "LayoutView",
            "align_content": null,
            "align_items": null,
            "align_self": null,
            "border": null,
            "bottom": null,
            "display": null,
            "flex": null,
            "flex_flow": null,
            "grid_area": null,
            "grid_auto_columns": null,
            "grid_auto_flow": null,
            "grid_auto_rows": null,
            "grid_column": null,
            "grid_gap": null,
            "grid_row": null,
            "grid_template_areas": null,
            "grid_template_columns": null,
            "grid_template_rows": null,
            "height": null,
            "justify_content": null,
            "justify_items": null,
            "left": null,
            "margin": null,
            "max_height": null,
            "max_width": null,
            "min_height": null,
            "min_width": null,
            "object_fit": null,
            "object_position": null,
            "order": null,
            "overflow": null,
            "overflow_x": null,
            "overflow_y": null,
            "padding": null,
            "right": null,
            "top": null,
            "visibility": null,
            "width": null
          }
        },
        "9ca39bd92d594a049b6efc1e62a26ff7": {
          "model_module": "@jupyter-widgets/controls",
          "model_name": "DescriptionStyleModel",
          "model_module_version": "1.5.0",
          "state": {
            "_model_module": "@jupyter-widgets/controls",
            "_model_module_version": "1.5.0",
            "_model_name": "DescriptionStyleModel",
            "_view_count": null,
            "_view_module": "@jupyter-widgets/base",
            "_view_module_version": "1.2.0",
            "_view_name": "StyleView",
            "description_width": ""
          }
        },
        "5221de56b0154ac9884c453dcbca5840": {
          "model_module": "@jupyter-widgets/controls",
          "model_name": "HBoxModel",
          "model_module_version": "1.5.0",
          "state": {
            "_dom_classes": [],
            "_model_module": "@jupyter-widgets/controls",
            "_model_module_version": "1.5.0",
            "_model_name": "HBoxModel",
            "_view_count": null,
            "_view_module": "@jupyter-widgets/controls",
            "_view_module_version": "1.5.0",
            "_view_name": "HBoxView",
            "box_style": "",
            "children": [
              "IPY_MODEL_4685e89bf30342809b115f2c04ec04d9",
              "IPY_MODEL_2e203f7026004f9489905f5fc708048d",
              "IPY_MODEL_80f6f42ea0d5433880406d156b0d84f0"
            ],
            "layout": "IPY_MODEL_f5ea191bb2f84187a5786a805e961a3f"
          }
        },
        "4685e89bf30342809b115f2c04ec04d9": {
          "model_module": "@jupyter-widgets/controls",
          "model_name": "HTMLModel",
          "model_module_version": "1.5.0",
          "state": {
            "_dom_classes": [],
            "_model_module": "@jupyter-widgets/controls",
            "_model_module_version": "1.5.0",
            "_model_name": "HTMLModel",
            "_view_count": null,
            "_view_module": "@jupyter-widgets/controls",
            "_view_module_version": "1.5.0",
            "_view_name": "HTMLView",
            "description": "",
            "description_tooltip": null,
            "layout": "IPY_MODEL_a82194505e9842c094518e376e67d50f",
            "placeholder": "​",
            "style": "IPY_MODEL_fb2705daa8024cf98fec827735521322",
            "value": "100%"
          }
        },
        "2e203f7026004f9489905f5fc708048d": {
          "model_module": "@jupyter-widgets/controls",
          "model_name": "FloatProgressModel",
          "model_module_version": "1.5.0",
          "state": {
            "_dom_classes": [],
            "_model_module": "@jupyter-widgets/controls",
            "_model_module_version": "1.5.0",
            "_model_name": "FloatProgressModel",
            "_view_count": null,
            "_view_module": "@jupyter-widgets/controls",
            "_view_module_version": "1.5.0",
            "_view_name": "ProgressView",
            "bar_style": "success",
            "description": "",
            "description_tooltip": null,
            "layout": "IPY_MODEL_667fbc59a3f34a77a050f3fb32dc2d09",
            "max": 1648877,
            "min": 0,
            "orientation": "horizontal",
            "style": "IPY_MODEL_8273df2adb384c319e4193bee566b44d",
            "value": 1648877
          }
        },
        "80f6f42ea0d5433880406d156b0d84f0": {
          "model_module": "@jupyter-widgets/controls",
          "model_name": "HTMLModel",
          "model_module_version": "1.5.0",
          "state": {
            "_dom_classes": [],
            "_model_module": "@jupyter-widgets/controls",
            "_model_module_version": "1.5.0",
            "_model_name": "HTMLModel",
            "_view_count": null,
            "_view_module": "@jupyter-widgets/controls",
            "_view_module_version": "1.5.0",
            "_view_name": "HTMLView",
            "description": "",
            "description_tooltip": null,
            "layout": "IPY_MODEL_2de0428061e34acebd76c124a3e9da81",
            "placeholder": "​",
            "style": "IPY_MODEL_bfcb0f27ff8543ee9988004032b70703",
            "value": " 1648877/1648877 [00:00&lt;00:00, 5463338.36it/s]"
          }
        },
        "f5ea191bb2f84187a5786a805e961a3f": {
          "model_module": "@jupyter-widgets/base",
          "model_name": "LayoutModel",
          "model_module_version": "1.2.0",
          "state": {
            "_model_module": "@jupyter-widgets/base",
            "_model_module_version": "1.2.0",
            "_model_name": "LayoutModel",
            "_view_count": null,
            "_view_module": "@jupyter-widgets/base",
            "_view_module_version": "1.2.0",
            "_view_name": "LayoutView",
            "align_content": null,
            "align_items": null,
            "align_self": null,
            "border": null,
            "bottom": null,
            "display": null,
            "flex": null,
            "flex_flow": null,
            "grid_area": null,
            "grid_auto_columns": null,
            "grid_auto_flow": null,
            "grid_auto_rows": null,
            "grid_column": null,
            "grid_gap": null,
            "grid_row": null,
            "grid_template_areas": null,
            "grid_template_columns": null,
            "grid_template_rows": null,
            "height": null,
            "justify_content": null,
            "justify_items": null,
            "left": null,
            "margin": null,
            "max_height": null,
            "max_width": null,
            "min_height": null,
            "min_width": null,
            "object_fit": null,
            "object_position": null,
            "order": null,
            "overflow": null,
            "overflow_x": null,
            "overflow_y": null,
            "padding": null,
            "right": null,
            "top": null,
            "visibility": null,
            "width": null
          }
        },
        "a82194505e9842c094518e376e67d50f": {
          "model_module": "@jupyter-widgets/base",
          "model_name": "LayoutModel",
          "model_module_version": "1.2.0",
          "state": {
            "_model_module": "@jupyter-widgets/base",
            "_model_module_version": "1.2.0",
            "_model_name": "LayoutModel",
            "_view_count": null,
            "_view_module": "@jupyter-widgets/base",
            "_view_module_version": "1.2.0",
            "_view_name": "LayoutView",
            "align_content": null,
            "align_items": null,
            "align_self": null,
            "border": null,
            "bottom": null,
            "display": null,
            "flex": null,
            "flex_flow": null,
            "grid_area": null,
            "grid_auto_columns": null,
            "grid_auto_flow": null,
            "grid_auto_rows": null,
            "grid_column": null,
            "grid_gap": null,
            "grid_row": null,
            "grid_template_areas": null,
            "grid_template_columns": null,
            "grid_template_rows": null,
            "height": null,
            "justify_content": null,
            "justify_items": null,
            "left": null,
            "margin": null,
            "max_height": null,
            "max_width": null,
            "min_height": null,
            "min_width": null,
            "object_fit": null,
            "object_position": null,
            "order": null,
            "overflow": null,
            "overflow_x": null,
            "overflow_y": null,
            "padding": null,
            "right": null,
            "top": null,
            "visibility": null,
            "width": null
          }
        },
        "fb2705daa8024cf98fec827735521322": {
          "model_module": "@jupyter-widgets/controls",
          "model_name": "DescriptionStyleModel",
          "model_module_version": "1.5.0",
          "state": {
            "_model_module": "@jupyter-widgets/controls",
            "_model_module_version": "1.5.0",
            "_model_name": "DescriptionStyleModel",
            "_view_count": null,
            "_view_module": "@jupyter-widgets/base",
            "_view_module_version": "1.2.0",
            "_view_name": "StyleView",
            "description_width": ""
          }
        },
        "667fbc59a3f34a77a050f3fb32dc2d09": {
          "model_module": "@jupyter-widgets/base",
          "model_name": "LayoutModel",
          "model_module_version": "1.2.0",
          "state": {
            "_model_module": "@jupyter-widgets/base",
            "_model_module_version": "1.2.0",
            "_model_name": "LayoutModel",
            "_view_count": null,
            "_view_module": "@jupyter-widgets/base",
            "_view_module_version": "1.2.0",
            "_view_name": "LayoutView",
            "align_content": null,
            "align_items": null,
            "align_self": null,
            "border": null,
            "bottom": null,
            "display": null,
            "flex": null,
            "flex_flow": null,
            "grid_area": null,
            "grid_auto_columns": null,
            "grid_auto_flow": null,
            "grid_auto_rows": null,
            "grid_column": null,
            "grid_gap": null,
            "grid_row": null,
            "grid_template_areas": null,
            "grid_template_columns": null,
            "grid_template_rows": null,
            "height": null,
            "justify_content": null,
            "justify_items": null,
            "left": null,
            "margin": null,
            "max_height": null,
            "max_width": null,
            "min_height": null,
            "min_width": null,
            "object_fit": null,
            "object_position": null,
            "order": null,
            "overflow": null,
            "overflow_x": null,
            "overflow_y": null,
            "padding": null,
            "right": null,
            "top": null,
            "visibility": null,
            "width": null
          }
        },
        "8273df2adb384c319e4193bee566b44d": {
          "model_module": "@jupyter-widgets/controls",
          "model_name": "ProgressStyleModel",
          "model_module_version": "1.5.0",
          "state": {
            "_model_module": "@jupyter-widgets/controls",
            "_model_module_version": "1.5.0",
            "_model_name": "ProgressStyleModel",
            "_view_count": null,
            "_view_module": "@jupyter-widgets/base",
            "_view_module_version": "1.2.0",
            "_view_name": "StyleView",
            "bar_color": null,
            "description_width": ""
          }
        },
        "2de0428061e34acebd76c124a3e9da81": {
          "model_module": "@jupyter-widgets/base",
          "model_name": "LayoutModel",
          "model_module_version": "1.2.0",
          "state": {
            "_model_module": "@jupyter-widgets/base",
            "_model_module_version": "1.2.0",
            "_model_name": "LayoutModel",
            "_view_count": null,
            "_view_module": "@jupyter-widgets/base",
            "_view_module_version": "1.2.0",
            "_view_name": "LayoutView",
            "align_content": null,
            "align_items": null,
            "align_self": null,
            "border": null,
            "bottom": null,
            "display": null,
            "flex": null,
            "flex_flow": null,
            "grid_area": null,
            "grid_auto_columns": null,
            "grid_auto_flow": null,
            "grid_auto_rows": null,
            "grid_column": null,
            "grid_gap": null,
            "grid_row": null,
            "grid_template_areas": null,
            "grid_template_columns": null,
            "grid_template_rows": null,
            "height": null,
            "justify_content": null,
            "justify_items": null,
            "left": null,
            "margin": null,
            "max_height": null,
            "max_width": null,
            "min_height": null,
            "min_width": null,
            "object_fit": null,
            "object_position": null,
            "order": null,
            "overflow": null,
            "overflow_x": null,
            "overflow_y": null,
            "padding": null,
            "right": null,
            "top": null,
            "visibility": null,
            "width": null
          }
        },
        "bfcb0f27ff8543ee9988004032b70703": {
          "model_module": "@jupyter-widgets/controls",
          "model_name": "DescriptionStyleModel",
          "model_module_version": "1.5.0",
          "state": {
            "_model_module": "@jupyter-widgets/controls",
            "_model_module_version": "1.5.0",
            "_model_name": "DescriptionStyleModel",
            "_view_count": null,
            "_view_module": "@jupyter-widgets/base",
            "_view_module_version": "1.2.0",
            "_view_name": "StyleView",
            "description_width": ""
          }
        },
        "e1e001a5a3ef4ff8ab2da26eca74e2aa": {
          "model_module": "@jupyter-widgets/controls",
          "model_name": "HBoxModel",
          "model_module_version": "1.5.0",
          "state": {
            "_dom_classes": [],
            "_model_module": "@jupyter-widgets/controls",
            "_model_module_version": "1.5.0",
            "_model_name": "HBoxModel",
            "_view_count": null,
            "_view_module": "@jupyter-widgets/controls",
            "_view_module_version": "1.5.0",
            "_view_name": "HBoxView",
            "box_style": "",
            "children": [
              "IPY_MODEL_bb855ff099684f02980e89615332d78b",
              "IPY_MODEL_ff26c09574844bdf973b524f968cab95",
              "IPY_MODEL_48593e1567204ca983206c307715c25f"
            ],
            "layout": "IPY_MODEL_1d645a503bff41099157a6b46d993849"
          }
        },
        "bb855ff099684f02980e89615332d78b": {
          "model_module": "@jupyter-widgets/controls",
          "model_name": "HTMLModel",
          "model_module_version": "1.5.0",
          "state": {
            "_dom_classes": [],
            "_model_module": "@jupyter-widgets/controls",
            "_model_module_version": "1.5.0",
            "_model_name": "HTMLModel",
            "_view_count": null,
            "_view_module": "@jupyter-widgets/controls",
            "_view_module_version": "1.5.0",
            "_view_name": "HTMLView",
            "description": "",
            "description_tooltip": null,
            "layout": "IPY_MODEL_216d11225f9c44f4bc7d73c266a0e710",
            "placeholder": "​",
            "style": "IPY_MODEL_377775d9e07f403888365de0ebebd724",
            "value": "100%"
          }
        },
        "ff26c09574844bdf973b524f968cab95": {
          "model_module": "@jupyter-widgets/controls",
          "model_name": "FloatProgressModel",
          "model_module_version": "1.5.0",
          "state": {
            "_dom_classes": [],
            "_model_module": "@jupyter-widgets/controls",
            "_model_module_version": "1.5.0",
            "_model_name": "FloatProgressModel",
            "_view_count": null,
            "_view_module": "@jupyter-widgets/controls",
            "_view_module_version": "1.5.0",
            "_view_name": "ProgressView",
            "bar_style": "success",
            "description": "",
            "description_tooltip": null,
            "layout": "IPY_MODEL_80e08b1d309646c982c4d8258282f2f4",
            "max": 4542,
            "min": 0,
            "orientation": "horizontal",
            "style": "IPY_MODEL_b68263695b02451d87ecc42605625dd9",
            "value": 4542
          }
        },
        "48593e1567204ca983206c307715c25f": {
          "model_module": "@jupyter-widgets/controls",
          "model_name": "HTMLModel",
          "model_module_version": "1.5.0",
          "state": {
            "_dom_classes": [],
            "_model_module": "@jupyter-widgets/controls",
            "_model_module_version": "1.5.0",
            "_model_name": "HTMLModel",
            "_view_count": null,
            "_view_module": "@jupyter-widgets/controls",
            "_view_module_version": "1.5.0",
            "_view_name": "HTMLView",
            "description": "",
            "description_tooltip": null,
            "layout": "IPY_MODEL_ffcd83a70c8e49b6aa2c761bab73a8e7",
            "placeholder": "​",
            "style": "IPY_MODEL_1591e49565f5446b8835387ad66ae092",
            "value": " 4542/4542 [00:00&lt;00:00, 108149.47it/s]"
          }
        },
        "1d645a503bff41099157a6b46d993849": {
          "model_module": "@jupyter-widgets/base",
          "model_name": "LayoutModel",
          "model_module_version": "1.2.0",
          "state": {
            "_model_module": "@jupyter-widgets/base",
            "_model_module_version": "1.2.0",
            "_model_name": "LayoutModel",
            "_view_count": null,
            "_view_module": "@jupyter-widgets/base",
            "_view_module_version": "1.2.0",
            "_view_name": "LayoutView",
            "align_content": null,
            "align_items": null,
            "align_self": null,
            "border": null,
            "bottom": null,
            "display": null,
            "flex": null,
            "flex_flow": null,
            "grid_area": null,
            "grid_auto_columns": null,
            "grid_auto_flow": null,
            "grid_auto_rows": null,
            "grid_column": null,
            "grid_gap": null,
            "grid_row": null,
            "grid_template_areas": null,
            "grid_template_columns": null,
            "grid_template_rows": null,
            "height": null,
            "justify_content": null,
            "justify_items": null,
            "left": null,
            "margin": null,
            "max_height": null,
            "max_width": null,
            "min_height": null,
            "min_width": null,
            "object_fit": null,
            "object_position": null,
            "order": null,
            "overflow": null,
            "overflow_x": null,
            "overflow_y": null,
            "padding": null,
            "right": null,
            "top": null,
            "visibility": null,
            "width": null
          }
        },
        "216d11225f9c44f4bc7d73c266a0e710": {
          "model_module": "@jupyter-widgets/base",
          "model_name": "LayoutModel",
          "model_module_version": "1.2.0",
          "state": {
            "_model_module": "@jupyter-widgets/base",
            "_model_module_version": "1.2.0",
            "_model_name": "LayoutModel",
            "_view_count": null,
            "_view_module": "@jupyter-widgets/base",
            "_view_module_version": "1.2.0",
            "_view_name": "LayoutView",
            "align_content": null,
            "align_items": null,
            "align_self": null,
            "border": null,
            "bottom": null,
            "display": null,
            "flex": null,
            "flex_flow": null,
            "grid_area": null,
            "grid_auto_columns": null,
            "grid_auto_flow": null,
            "grid_auto_rows": null,
            "grid_column": null,
            "grid_gap": null,
            "grid_row": null,
            "grid_template_areas": null,
            "grid_template_columns": null,
            "grid_template_rows": null,
            "height": null,
            "justify_content": null,
            "justify_items": null,
            "left": null,
            "margin": null,
            "max_height": null,
            "max_width": null,
            "min_height": null,
            "min_width": null,
            "object_fit": null,
            "object_position": null,
            "order": null,
            "overflow": null,
            "overflow_x": null,
            "overflow_y": null,
            "padding": null,
            "right": null,
            "top": null,
            "visibility": null,
            "width": null
          }
        },
        "377775d9e07f403888365de0ebebd724": {
          "model_module": "@jupyter-widgets/controls",
          "model_name": "DescriptionStyleModel",
          "model_module_version": "1.5.0",
          "state": {
            "_model_module": "@jupyter-widgets/controls",
            "_model_module_version": "1.5.0",
            "_model_name": "DescriptionStyleModel",
            "_view_count": null,
            "_view_module": "@jupyter-widgets/base",
            "_view_module_version": "1.2.0",
            "_view_name": "StyleView",
            "description_width": ""
          }
        },
        "80e08b1d309646c982c4d8258282f2f4": {
          "model_module": "@jupyter-widgets/base",
          "model_name": "LayoutModel",
          "model_module_version": "1.2.0",
          "state": {
            "_model_module": "@jupyter-widgets/base",
            "_model_module_version": "1.2.0",
            "_model_name": "LayoutModel",
            "_view_count": null,
            "_view_module": "@jupyter-widgets/base",
            "_view_module_version": "1.2.0",
            "_view_name": "LayoutView",
            "align_content": null,
            "align_items": null,
            "align_self": null,
            "border": null,
            "bottom": null,
            "display": null,
            "flex": null,
            "flex_flow": null,
            "grid_area": null,
            "grid_auto_columns": null,
            "grid_auto_flow": null,
            "grid_auto_rows": null,
            "grid_column": null,
            "grid_gap": null,
            "grid_row": null,
            "grid_template_areas": null,
            "grid_template_columns": null,
            "grid_template_rows": null,
            "height": null,
            "justify_content": null,
            "justify_items": null,
            "left": null,
            "margin": null,
            "max_height": null,
            "max_width": null,
            "min_height": null,
            "min_width": null,
            "object_fit": null,
            "object_position": null,
            "order": null,
            "overflow": null,
            "overflow_x": null,
            "overflow_y": null,
            "padding": null,
            "right": null,
            "top": null,
            "visibility": null,
            "width": null
          }
        },
        "b68263695b02451d87ecc42605625dd9": {
          "model_module": "@jupyter-widgets/controls",
          "model_name": "ProgressStyleModel",
          "model_module_version": "1.5.0",
          "state": {
            "_model_module": "@jupyter-widgets/controls",
            "_model_module_version": "1.5.0",
            "_model_name": "ProgressStyleModel",
            "_view_count": null,
            "_view_module": "@jupyter-widgets/base",
            "_view_module_version": "1.2.0",
            "_view_name": "StyleView",
            "bar_color": null,
            "description_width": ""
          }
        },
        "ffcd83a70c8e49b6aa2c761bab73a8e7": {
          "model_module": "@jupyter-widgets/base",
          "model_name": "LayoutModel",
          "model_module_version": "1.2.0",
          "state": {
            "_model_module": "@jupyter-widgets/base",
            "_model_module_version": "1.2.0",
            "_model_name": "LayoutModel",
            "_view_count": null,
            "_view_module": "@jupyter-widgets/base",
            "_view_module_version": "1.2.0",
            "_view_name": "LayoutView",
            "align_content": null,
            "align_items": null,
            "align_self": null,
            "border": null,
            "bottom": null,
            "display": null,
            "flex": null,
            "flex_flow": null,
            "grid_area": null,
            "grid_auto_columns": null,
            "grid_auto_flow": null,
            "grid_auto_rows": null,
            "grid_column": null,
            "grid_gap": null,
            "grid_row": null,
            "grid_template_areas": null,
            "grid_template_columns": null,
            "grid_template_rows": null,
            "height": null,
            "justify_content": null,
            "justify_items": null,
            "left": null,
            "margin": null,
            "max_height": null,
            "max_width": null,
            "min_height": null,
            "min_width": null,
            "object_fit": null,
            "object_position": null,
            "order": null,
            "overflow": null,
            "overflow_x": null,
            "overflow_y": null,
            "padding": null,
            "right": null,
            "top": null,
            "visibility": null,
            "width": null
          }
        },
        "1591e49565f5446b8835387ad66ae092": {
          "model_module": "@jupyter-widgets/controls",
          "model_name": "DescriptionStyleModel",
          "model_module_version": "1.5.0",
          "state": {
            "_model_module": "@jupyter-widgets/controls",
            "_model_module_version": "1.5.0",
            "_model_name": "DescriptionStyleModel",
            "_view_count": null,
            "_view_module": "@jupyter-widgets/base",
            "_view_module_version": "1.2.0",
            "_view_name": "StyleView",
            "description_width": ""
          }
        }
      }
    }
  },
  "nbformat": 4,
  "nbformat_minor": 0
}