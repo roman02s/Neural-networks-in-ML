{
 "cells": [
  {
   "cell_type": "markdown",
   "id": "3801d352",
   "metadata": {},
   "source": [
    "## Домашнее задание : \"Обучение с подкреплением\""
   ]
  },
  {
   "cell_type": "markdown",
   "id": "e0c3d037",
   "metadata": {},
   "source": [
    "ФИО:"
   ]
  },
  {
   "cell_type": "markdown",
   "id": "9528f5be",
   "metadata": {},
   "source": [
    "# Задание 1\n",
    "\n",
    "Обучите алгоритм Q-learning для сред FrozenLake-v1 и Blackjack-v1, в частности подберите оптимальную alpha. (1 балл)"
   ]
  },
  {
   "cell_type": "markdown",
   "id": "89eab25f",
   "metadata": {},
   "source": [
    "# Задание 2\n",
    "\n",
    "Обучите алгоритм Policy Gradients (или Actor Critic) для среды https://www.gymlibrary.dev/environments/atari/breakout/ . Продемонстрируйте, что для обученного агента растет время игры. (2 балла)"
   ]
  },
  {
   "cell_type": "code",
   "execution_count": null,
   "id": "0fd0b061",
   "metadata": {},
   "outputs": [],
   "source": []
  }
 ],
 "metadata": {
  "kernelspec": {
   "display_name": "Python 3 (ipykernel)",
   "language": "python",
   "name": "python3"
  },
  "language_info": {
   "codemirror_mode": {
    "name": "ipython",
    "version": 3
   },
   "file_extension": ".py",
   "mimetype": "text/x-python",
   "name": "python",
   "nbconvert_exporter": "python",
   "pygments_lexer": "ipython3",
   "version": "3.9.15"
  }
 },
 "nbformat": 4,
 "nbformat_minor": 5
}
