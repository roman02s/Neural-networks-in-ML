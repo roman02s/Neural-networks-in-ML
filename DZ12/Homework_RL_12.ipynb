{
  "cells": [
    {
      "cell_type": "markdown",
      "id": "3801d352",
      "metadata": {
        "id": "3801d352"
      },
      "source": [
        "## Домашнее задание : \"Обучение с подкреплением\""
      ]
    },
    {
      "cell_type": "markdown",
      "id": "e0c3d037",
      "metadata": {
        "id": "e0c3d037"
      },
      "source": [
        "ФИО: Сим Роман Дмитриевич"
      ]
    },
    {
      "cell_type": "markdown",
      "id": "89eab25f",
      "metadata": {
        "id": "89eab25f"
      },
      "source": [
        "# Задание\n",
        "\n",
        "Следуя шаблонам функций реализуйте алгоритм Policy iteration.\n",
        "Протестируйте его с помощью функции __evaluate_policy__.\n",
        "Попробуйте разные значение для gamma и сравните результаты."
      ]
    },
    {
      "cell_type": "code",
      "source": [
        "from google.colab import drive\n",
        "drive.mount('/content/drive')"
      ],
      "metadata": {
        "colab": {
          "base_uri": "https://localhost:8080/"
        },
        "id": "HU91cffYEYfL",
        "outputId": "953e3a94-8491-41ab-f0e8-ff8934ef219e"
      },
      "id": "HU91cffYEYfL",
      "execution_count": null,
      "outputs": [
        {
          "output_type": "stream",
          "name": "stdout",
          "text": [
            "Mounted at /content/drive\n"
          ]
        }
      ]
    },
    {
      "cell_type": "code",
      "source": [
        "%pip install atari-py\n",
        "!python -m atari_py.import_roms drive/MyDrive/Roms"
      ],
      "metadata": {
        "colab": {
          "base_uri": "https://localhost:8080/"
        },
        "id": "froZ64c7EXM4",
        "outputId": "95064ca7-31e0-410a-fc2a-4087110c2148"
      },
      "id": "froZ64c7EXM4",
      "execution_count": null,
      "outputs": [
        {
          "output_type": "stream",
          "name": "stdout",
          "text": [
            "Looking in indexes: https://pypi.org/simple, https://us-python.pkg.dev/colab-wheels/public/simple/\n",
            "Requirement already satisfied: atari-py in /usr/local/lib/python3.8/dist-packages (0.2.9)\n",
            "Requirement already satisfied: numpy in /usr/local/lib/python3.8/dist-packages (from atari-py) (1.21.6)\n",
            "Requirement already satisfied: six in /usr/local/lib/python3.8/dist-packages (from atari-py) (1.15.0)\n",
            "copying breakout.bin from drive/MyDrive/Roms/Breakout - Breakaway IV (Paddle) (1978) (Atari, Brad Stewart - Sears) (CX2622 - 6-99813, 49-75107) ~.bin to /usr/local/lib/python3.8/dist-packages/atari_py/atari_roms/breakout.bin\n"
          ]
        }
      ]
    },
    {
      "cell_type": "code",
      "source": [
        "%pip install ale-py"
      ],
      "metadata": {
        "colab": {
          "base_uri": "https://localhost:8080/"
        },
        "id": "HLLenvM8afOX",
        "outputId": "1d22c185-cd27-41af-bf41-03b5abad5bc0"
      },
      "id": "HLLenvM8afOX",
      "execution_count": null,
      "outputs": [
        {
          "output_type": "stream",
          "name": "stdout",
          "text": [
            "Looking in indexes: https://pypi.org/simple, https://us-python.pkg.dev/colab-wheels/public/simple/\n",
            "Collecting ale-py\n",
            "  Downloading ale_py-0.8.0-cp38-cp38-manylinux_2_17_x86_64.manylinux2014_x86_64.whl (1.7 MB)\n",
            "\u001b[K     |████████████████████████████████| 1.7 MB 4.2 MB/s \n",
            "\u001b[?25hRequirement already satisfied: importlib-metadata>=4.10.0 in /usr/local/lib/python3.8/dist-packages (from ale-py) (4.13.0)\n",
            "Requirement already satisfied: importlib-resources in /usr/local/lib/python3.8/dist-packages (from ale-py) (5.10.0)\n",
            "Requirement already satisfied: numpy in /usr/local/lib/python3.8/dist-packages (from ale-py) (1.21.6)\n",
            "Requirement already satisfied: typing-extensions in /usr/local/lib/python3.8/dist-packages (from ale-py) (4.4.0)\n",
            "Requirement already satisfied: zipp>=0.5 in /usr/local/lib/python3.8/dist-packages (from importlib-metadata>=4.10.0->ale-py) (3.11.0)\n",
            "Installing collected packages: ale-py\n",
            "Successfully installed ale-py-0.8.0\n"
          ]
        }
      ]
    },
    {
      "cell_type": "code",
      "source": [
        "from ale_py import ALEInterface\n",
        "\n",
        "ale = ALEInterface()"
      ],
      "metadata": {
        "id": "ndZ3kb_lal8C"
      },
      "id": "ndZ3kb_lal8C",
      "execution_count": null,
      "outputs": []
    },
    {
      "cell_type": "code",
      "source": [
        "from ale_py.roms import Breakout\n",
        "\n",
        "ale.loadROM(Breakout)"
      ],
      "metadata": {
        "id": "7TLzJUAWarw8",
        "colab": {
          "base_uri": "https://localhost:8080/"
        },
        "outputId": "61213cf0-dc08-43fe-a7cb-ceeecfd3a301"
      },
      "id": "7TLzJUAWarw8",
      "execution_count": null,
      "outputs": [
        {
          "output_type": "stream",
          "name": "stderr",
          "text": [
            "/usr/local/lib/python3.8/dist-packages/ale_py/roms/__init__.py:119: DeprecationWarning: Automatic importing of atari-py roms won't be supported in future releases of ale-py. Please migrate over to using `ale-import-roms` OR an ALE-supported ROM package. To make this warning disappear you can run `ale-import-roms --import-from-pkg atari_py.atari_roms`. For more information see: https://github.com/mgbellemare/Arcade-Learning-Environment#rom-management\n",
            "  path = _resolve_rom(name)\n"
          ]
        }
      ]
    },
    {
      "cell_type": "code",
      "source": [
        "import torch\n",
        "import torch.nn.functional as F\n",
        "from torch.distributions import Bernoulli\n",
        "from torch.autograd import Variable\n",
        "from itertools import count\n",
        "import matplotlib.pyplot as plt\n",
        "import numpy as np\n",
        "from IPython.display import clear_output\n",
        "import matplotlib.pyplot as plt\n",
        "import os\n",
        "import numpy as np\n",
        "from tqdm.notebook import tqdm\n",
        "import cv2"
      ],
      "metadata": {
        "id": "4WMND1rPEnMW"
      },
      "id": "4WMND1rPEnMW",
      "execution_count": null,
      "outputs": []
    },
    {
      "cell_type": "code",
      "execution_count": null,
      "id": "0fd0b061",
      "metadata": {
        "colab": {
          "base_uri": "https://localhost:8080/"
        },
        "id": "0fd0b061",
        "outputId": "cee56558-1a88-4a3e-c5ef-e0efb03bbd05"
      },
      "outputs": [
        {
          "output_type": "stream",
          "name": "stderr",
          "text": [
            "/usr/local/lib/python3.8/dist-packages/gym/core.py:317: DeprecationWarning: \u001b[33mWARN: Initializing wrapper in old step API which returns one bool instead of two. It is recommended to set `new_step_api=True` to use new step API. This will be the default behaviour in future.\u001b[0m\n",
            "  deprecation(\n",
            "/usr/local/lib/python3.8/dist-packages/gym/wrappers/step_api_compatibility.py:39: DeprecationWarning: \u001b[33mWARN: Initializing environment in old step API which returns one bool instead of two. It is recommended to set `new_step_api=True` to use new step API. This will be the default behaviour in future.\u001b[0m\n",
            "  deprecation(\n",
            "/usr/local/lib/python3.8/dist-packages/gym/utils/passive_env_checker.py:190: UserWarning: \u001b[33mWARN: Future gym versions will require that `Env.reset` can be passed `return_info` to return information from the environment resetting.\u001b[0m\n",
            "  logger.warn(\n",
            "/usr/local/lib/python3.8/dist-packages/gym/utils/passive_env_checker.py:137: UserWarning: \u001b[33mWARN: The obs returned by the `reset()` method was expecting a numpy array, actual type: <class 'tuple'>\u001b[0m\n",
            "  logger.warn(\n",
            "/usr/local/lib/python3.8/dist-packages/gym/spaces/box.py:226: UserWarning: \u001b[33mWARN: Casting input x to numpy array.\u001b[0m\n",
            "  logger.warn(\"Casting input x to numpy array.\")\n",
            "/usr/local/lib/python3.8/dist-packages/gym/utils/passive_env_checker.py:167: UserWarning: \u001b[33mWARN: The obs returned by the `reset()` method is not within the observation space with exception: setting an array element with a sequence. The requested array has an inhomogeneous shape after 1 dimensions. The detected shape was (2,) + inhomogeneous part.\u001b[0m\n",
            "  logger.warn(f\"{pre} is not within the observation space with exception: {e}\")\n"
          ]
        }
      ],
      "source": [
        "import gym\n",
        "os.environ[\"SDL_VIDEODRIVER\"] = \"dummy\"\n",
        "\n",
        "env = gym.make('ALE/Breakout-v5', render_mode='rgb_array')\n",
        "\n",
        "env.reset()"
      ]
    },
    {
      "cell_type": "code",
      "source": [
        "env.observation_space"
      ],
      "metadata": {
        "colab": {
          "base_uri": "https://localhost:8080/"
        },
        "id": "OvTiPhecbKsI",
        "outputId": "cb1c9843-4f28-4cbd-8ce3-c0d7b78fa523"
      },
      "id": "OvTiPhecbKsI",
      "execution_count": null,
      "outputs": [
        {
          "output_type": "execute_result",
          "data": {
            "text/plain": [
              "Box(0, 255, (210, 160, 3), uint8)"
            ]
          },
          "metadata": {},
          "execution_count": 8
        }
      ]
    },
    {
      "cell_type": "code",
      "source": [
        "plt.imshow(env.render())"
      ],
      "metadata": {
        "colab": {
          "base_uri": "https://localhost:8080/",
          "height": 337
        },
        "id": "zXOxWujAHx3r",
        "outputId": "62d93122-e584-448a-c95e-7a30fab1be1f"
      },
      "id": "zXOxWujAHx3r",
      "execution_count": null,
      "outputs": [
        {
          "output_type": "stream",
          "name": "stderr",
          "text": [
            "/usr/local/lib/python3.8/dist-packages/gym/utils/passive_env_checker.py:297: UserWarning: \u001b[33mWARN: No render fps was declared in the environment (env.metadata['render_fps'] is None or not defined), rendering may occur at inconsistent fps.\u001b[0m\n",
            "  logger.warn(\n"
          ]
        },
        {
          "output_type": "execute_result",
          "data": {
            "text/plain": [
              "<matplotlib.image.AxesImage at 0x7fef3275ea00>"
            ]
          },
          "metadata": {},
          "execution_count": 9
        },
        {
          "output_type": "display_data",
          "data": {
            "text/plain": [
              "<Figure size 432x288 with 1 Axes>"
            ],
            "image/png": "[encoded data removed]"
          },
          "metadata": {
            "needs_background": "light"
          }
        }
      ]
    },
    {
      "cell_type": "code",
      "source": [
        "def preprocess(screen, width=env.observation_space.shape[0], height=env.observation_space.shape[1], targetWidth=84, targetHeight=84):\n",
        "\tscreen = cv2.cvtColor(screen, cv2.COLOR_BGR2GRAY)\n",
        "\tscreen = screen[20:300, 0:200]  # crop off score\n",
        "\tscreen = cv2.resize(screen, (targetWidth, targetHeight))\n",
        "\tscreen = screen.reshape(targetWidth, targetHeight) / 255\n",
        "\treturn screen"
      ],
      "metadata": {
        "id": "fVYFcdmjQQsX"
      },
      "id": "fVYFcdmjQQsX",
      "execution_count": null,
      "outputs": []
    },
    {
      "cell_type": "code",
      "source": [
        "env.reset()\n",
        "new_state, _, _, _ = env.step(1)"
      ],
      "metadata": {
        "id": "rgX5KvJjQQkA"
      },
      "id": "rgX5KvJjQQkA",
      "execution_count": null,
      "outputs": []
    },
    {
      "cell_type": "code",
      "source": [
        "plt.imshow(new_state)"
      ],
      "metadata": {
        "colab": {
          "base_uri": "https://localhost:8080/",
          "height": 284
        },
        "id": "ikDUmZFVQTJK",
        "outputId": "4562db36-17ee-4ede-f534-a26114edc8b4"
      },
      "id": "ikDUmZFVQTJK",
      "execution_count": null,
      "outputs": [
        {
          "output_type": "execute_result",
          "data": {
            "text/plain": [
              "<matplotlib.image.AxesImage at 0x7fef322a6ca0>"
            ]
          },
          "metadata": {},
          "execution_count": 12
        },
        {
          "output_type": "display_data",
          "data": {
            "text/plain": [
              "<Figure size 432x288 with 1 Axes>"
            ],
            "image/png": "[encoded data removed]"
          },
          "metadata": {
            "needs_background": "light"
          }
        }
      ]
    },
    {
      "cell_type": "code",
      "source": [
        "plt.imshow(preprocess(new_state))"
      ],
      "metadata": {
        "colab": {
          "base_uri": "https://localhost:8080/",
          "height": 283
        },
        "id": "G_rP_L59QQem",
        "outputId": "3758621b-a200-4328-c263-8cc54db64cf1"
      },
      "id": "G_rP_L59QQem",
      "execution_count": null,
      "outputs": [
        {
          "output_type": "execute_result",
          "data": {
            "text/plain": [
              "<matplotlib.image.AxesImage at 0x7fef3228d6a0>"
            ]
          },
          "metadata": {},
          "execution_count": 13
        },
        {
          "output_type": "display_data",
          "data": {
            "text/plain": [
              "<Figure size 432x288 with 1 Axes>"
            ],
            "image/png": "[encoded data removed]"
          },
          "metadata": {
            "needs_background": "light"
          }
        }
      ]
    },
    {
      "cell_type": "markdown",
      "source": [
        "## save gifs"
      ],
      "metadata": {
        "id": "K5oYj4yIVRiC"
      },
      "id": "K5oYj4yIVRiC"
    },
    {
      "cell_type": "code",
      "source": [
        "import imageio"
      ],
      "metadata": {
        "id": "OwGFCpX7VFXz"
      },
      "id": "OwGFCpX7VFXz",
      "execution_count": null,
      "outputs": []
    },
    {
      "cell_type": "code",
      "source": [
        "def save_gif(state_list, gif_name):\n",
        "    imageio.mimsave(\n",
        "    f\"drive/MyDrive/atari/{gif_name}.gif\",\n",
        "    state_list,\n",
        "    fps=24,\n",
        ")"
      ],
      "metadata": {
        "id": "cwuy4rE6VF0b"
      },
      "id": "cwuy4rE6VF0b",
      "execution_count": null,
      "outputs": []
    },
    {
      "cell_type": "code",
      "source": [
        "def make_game(env, atari_nn, gif_name, max_repeat=2000):\n",
        "    state = env.reset()\n",
        "    done = False\n",
        "    renders = []\n",
        "    i = 0\n",
        "    repeat_cnt = 0\n",
        "    env.step(1)\n",
        "\n",
        "    for i in tqdm(range(max_repeat)):\n",
        "        renders.append(env.render(mode='rgb_array'))\n",
        "        state = torch.from_numpy(state).float()\n",
        "        state = torch.moveaxis(state, 2, 0)\n",
        "        action = atari_nn.get_next_state(state)\n",
        "        if action is None:\n",
        "            next_state, reward, done, _ = env.step(np.random.randint(0, 4))\n",
        "            state = next_state\n",
        "            continue\n",
        "\n",
        "        next_state, reward, done, _ = env.step(action)\n",
        "        if next_state == state:\n",
        "            repeat_cnt += 1\n",
        "        if done:\n",
        "            break\n",
        "        state = next_state\n",
        "        i += 1\n",
        "    save_gif(renders, gif_name)\n",
        "    return renders"
      ],
      "metadata": {
        "id": "oW-oxk-KVFtJ"
      },
      "id": "oW-oxk-KVFtJ",
      "execution_count": null,
      "outputs": []
    },
    {
      "cell_type": "markdown",
      "source": [
        "## AtariNet"
      ],
      "metadata": {
        "id": "OyOv2bCpP83p"
      },
      "id": "OyOv2bCpP83p"
    },
    {
      "cell_type": "code",
      "execution_count": null,
      "outputs": [],
      "source": [
        "class AtariNet(torch.nn.Module):\n",
        "    def __init__(self, gamma=0.9, loss_coeff=0.4, entropy_coeff=0.6):\n",
        "        super(AtariNet, self).__init__()\n",
        "        self.gamma = gamma\n",
        "        self.loss_coeff = loss_coeff\n",
        "        self.entropy_coeff = entropy_coeff\n",
        "        self.action_probs = []\n",
        "        self.rewards = []\n",
        "\n",
        "        self.convLayer1 = torch.nn.Sequential(\n",
        "            torch.nn.Conv2d(4, 8, kernel_size=3),\n",
        "            torch.nn.ReLU(),\n",
        "            torch.nn.MaxPool2d(kernel_size=2),\n",
        "        )\n",
        "        self.convLayer2 = torch.nn.Sequential(\n",
        "            torch.nn.Conv2d(8, 16, kernel_size=3),\n",
        "            torch.nn.ReLU(),\n",
        "            torch.nn.MaxPool2d(kernel_size=2),\n",
        "        )\n",
        "        self.convLayer3 = torch.nn.Sequential(\n",
        "            torch.nn.Conv2d(16, 32, kernel_size=3),\n",
        "            torch.nn.ReLU(),\n",
        "            torch.nn.MaxPool2d(kernel_size=2),\n",
        "        )\n",
        "        # 27*40*32\n",
        "\n",
        "        self.fc1 = torch.nn.Linear(2048, 100)\n",
        "        self.fc2 = torch.nn.Linear(100, 100)\n",
        "        self.fc3 = torch.nn.Linear(100, 4)\n",
        "\n",
        "    def forward(self, x):\n",
        "        x = self.convLayer1(x)\n",
        "        x = self.convLayer2(x)\n",
        "        x = self.convLayer3(x)\n",
        "        x = x.flatten()\n",
        "        x = torch.nn.ReLU()(self.fc1(x))\n",
        "        x = torch.nn.ReLU()(self.fc2(x))\n",
        "        x = torch.nn.Softmax()(self.fc3(x))\n",
        "        return x\n",
        "    \n",
        "    def get_next_state(self, env_state):\n",
        "        env_state = Variable(env_state)\n",
        "        prob = self.forward(env_state)\n",
        "\n",
        "        prob = torch.distributions.Categorical(prob) \n",
        "        action = prob.sample()\n",
        "        self.action_probs.append(prob.log_prob(action))\n",
        "\n",
        "        return action.item()\n",
        "\n",
        "    def get_loss(self, rewards):\n",
        "        policy_losses = torch.zeros(len(rewards))\n",
        "    \n",
        "        for i, log_prob, reward in zip(np.arange(len(rewards)), self.action_probs, rewards):\n",
        "            policy_losses[i] = -log_prob*reward\n",
        "\n",
        "        m = torch.distributions.Categorical(\n",
        "        logits=torch.cat([x.view(-1) for x in self.action_probs]))\n",
        "        entropy_loss = (-0.05 * m.entropy()).mean()\n",
        "        return self.loss_coeff*policy_losses.sum() + self.entropy_coeff*entropy_loss\n",
        "\n",
        "    def get_discounted_reward(self):\n",
        "\n",
        "        discounted_reward = np.zeros_like(self.rewards)\n",
        "\n",
        "        mediate_sum = 0\n",
        "        for t in reversed(range(len(self.rewards))):\n",
        "            mediate_sum = mediate_sum * self.gamma + self.rewards[t]\n",
        "            discounted_reward[t] = mediate_sum\n",
        "        return discounted_reward\n",
        "    \n"
      ],
      "metadata": {
        "pycharm": {
          "name": "#%%\n"
        },
        "id": "jGF7DDnKqosl"
      },
      "id": "jGF7DDnKqosl"
    },
    {
      "cell_type": "markdown",
      "source": [
        "## train_function"
      ],
      "metadata": {
        "id": "wc36N_lQnHoq"
      },
      "id": "wc36N_lQnHoq"
    },
    {
      "cell_type": "code",
      "execution_count": null,
      "outputs": [],
      "source": [
        "def train(env, atari_nn, num_episodes=10, repeat_number = 2000):\n",
        "    max_reward = -999\n",
        "    batch_size = 5\n",
        "    learning_rate = 0.01\n",
        "    optimizer = torch.optim.Adam(atari_nn.parameters(), lr=learning_rate)\n",
        "    episode_durations = []\n",
        "    state_pool = []\n",
        "    steps = 0\n",
        "\n",
        "    for e in range(num_episodes):\n",
        "        renders = []\n",
        "        states = []\n",
        "        state = env.reset()\n",
        "        state, reward, done, info = env.step(1)\n",
        "        renders.append(env.render())\n",
        "        state = torch.from_numpy(state).float()\n",
        "        if state.__class__ != np.ndarray:\n",
        "                state = state.numpy()\n",
        "        state = torch.from_numpy(preprocess(state)).float().unsqueeze(0)\n",
        "        states.append(state)\n",
        "        for i in range(3):\n",
        "          state, reward, done, info = env.step(np.random.randint(0, 4))\n",
        "          renders.append(env.render())\n",
        "          state = torch.from_numpy(state).float()\n",
        "          if state.__class__ != np.ndarray:\n",
        "                  state = state.numpy()\n",
        "          state = torch.from_numpy(preprocess(state)).float().unsqueeze(0)\n",
        "          states.append(state)\n",
        "        lives = 5\n",
        "\n",
        "        for t in tqdm(range(repeat_number)):\n",
        "            renders.append(env.render())\n",
        "            action = atari_nn.get_next_state(torch.cat(states, 0))\n",
        "            \n",
        "            next_state, reward, done, info = env.step(action)\n",
        "            if info['lives'] < lives:\n",
        "                lives = info['lives']\n",
        "                next_state, _, done, info = env.step(1)\n",
        "            atari_nn.rewards.append(reward)\n",
        "            state = next_state\n",
        "            state = torch.from_numpy(preprocess(state)).float().unsqueeze(0)\n",
        "            del states[0]\n",
        "            states.append(state)\n",
        "            if done:\n",
        "                break\n",
        "        episode_durations.append(t)\n",
        "\n",
        "        if sum(atari_nn.rewards) > max_reward:\n",
        "          max_reward = sum(atari_nn.rewards)\n",
        "          save_gif(renders, f'best')\n",
        "        if e%5 == 0:\n",
        "          save_gif(renders, f'game_{e}')\n",
        "\n",
        "        optimizer.zero_grad()\n",
        "        loss = atari_nn.get_loss(atari_nn.get_discounted_reward())\n",
        "        loss.backward()\n",
        "            \n",
        "        optimizer.step()\n",
        "\n",
        "        # clear_output()\n",
        "        print(f'Iteration: {e}; rewards={sum(atari_nn.rewards)}, loss={loss.item()}')\n",
        "        atari_nn.rewards = []\n",
        "        atari_nn.action_probs = []\n",
        "\n",
        "    return episode_durations\n"
      ],
      "metadata": {
        "pycharm": {
          "name": "#%%\n"
        },
        "id": "ew9J8i--qosm"
      },
      "id": "ew9J8i--qosm"
    },
    {
      "cell_type": "code",
      "source": [
        "net = AtariNet(loss_coeff=0.9, entropy_coeff=1.2)\n"
      ],
      "metadata": {
        "id": "Fgw0NUTJkLvm"
      },
      "id": "Fgw0NUTJkLvm",
      "execution_count": null,
      "outputs": []
    },
    {
      "cell_type": "code",
      "source": [
        "episode_durations = train(env, net, num_episodes=50)"
      ],
      "metadata": {
        "id": "BtJx398zkOze"
      },
      "id": "BtJx398zkOze",
      "execution_count": null,
      "outputs": []
    },
    {
      "cell_type": "code",
      "source": [],
      "metadata": {
        "id": "2bu0ZSb0agIr"
      },
      "id": "2bu0ZSb0agIr",
      "execution_count": null,
      "outputs": []
    }
  ],
  "metadata": {
    "kernelspec": {
      "display_name": "Python 3 (ipykernel)",
      "language": "python",
      "name": "python3"
    },
    "language_info": {
      "codemirror_mode": {
        "name": "ipython",
        "version": 3
      },
      "file_extension": ".py",
      "mimetype": "text/x-python",
      "name": "python",
      "nbconvert_exporter": "python",
      "pygments_lexer": "ipython3",
      "version": "3.9.15"
    },
    "colab": {
      "provenance": []
    }
  },
  "nbformat": 4,
  "nbformat_minor": 5
}