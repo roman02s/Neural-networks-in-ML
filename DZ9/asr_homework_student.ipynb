{
  "cells": [
    {
      "cell_type": "code",
      "execution_count": 1,
      "metadata": {
        "colab": {
          "base_uri": "https://localhost:8080/"
        },
        "id": "Ne9-zUwATwgm",
        "outputId": "82670c05-2730-4c02-8d49-75cdd46a0b8d"
      },
      "outputs": [
        {
          "name": "stdout",
          "output_type": "stream",
          "text": [
            "Looking in indexes: https://pypi.org/simple, https://us-python.pkg.dev/colab-wheels/public/simple/\n",
            "Collecting mpire\n",
            "  Downloading mpire-2.6.0-py3-none-any.whl (291 kB)\n",
            "\u001b[K     |████████████████████████████████| 291 kB 4.0 MB/s \n",
            "\u001b[?25hRequirement already satisfied: pygments>=2.0 in /usr/local/lib/python3.8/dist-packages (from mpire) (2.6.1)\n",
            "Requirement already satisfied: tqdm>=4.27 in /usr/local/lib/python3.8/dist-packages (from mpire) (4.64.1)\n",
            "Installing collected packages: mpire\n",
            "Successfully installed mpire-2.6.0\n",
            "Looking in indexes: https://pypi.org/simple, https://us-python.pkg.dev/colab-wheels/public/simple/\n",
            "Collecting Levenshtein\n",
            "  Downloading Levenshtein-0.20.8-cp38-cp38-manylinux_2_17_x86_64.manylinux2014_x86_64.whl (174 kB)\n",
            "\u001b[K     |████████████████████████████████| 174 kB 4.8 MB/s \n",
            "\u001b[?25hCollecting rapidfuzz<3.0.0,>=2.3.0\n",
            "  Downloading rapidfuzz-2.13.6-cp38-cp38-manylinux_2_17_x86_64.manylinux2014_x86_64.whl (2.2 MB)\n",
            "\u001b[K     |████████████████████████████████| 2.2 MB 47.7 MB/s \n",
            "\u001b[?25hInstalling collected packages: rapidfuzz, Levenshtein\n",
            "Successfully installed Levenshtein-0.20.8 rapidfuzz-2.13.6\n",
            "Looking in indexes: https://pypi.org/simple, https://us-python.pkg.dev/colab-wheels/public/simple/\n",
            "Collecting pickle5\n",
            "  Downloading pickle5-0.0.11.tar.gz (132 kB)\n",
            "\u001b[K     |████████████████████████████████| 132 kB 4.5 MB/s \n",
            "\u001b[?25hBuilding wheels for collected packages: pickle5\n",
            "  Building wheel for pickle5 (setup.py) ... \u001b[?25l\u001b[?25hdone\n",
            "  Created wheel for pickle5: filename=pickle5-0.0.11-cp38-cp38-linux_x86_64.whl size=236286 sha256=15b8d024fe33b2f6c0041c38f3e4e235acd1b648cf069cc8a0857b0097c9fb7a\n",
            "  Stored in directory: /root/.cache/pip/wheels/25/d4/61/dbd8edd1a0d656be7b4267c85db3b61951eb60016a0154a122\n",
            "Successfully built pickle5\n",
            "Installing collected packages: pickle5\n",
            "Successfully installed pickle5-0.0.11\n"
          ]
        }
      ],
      "source": [
        "! pip install mpire\n",
        "! pip install Levenshtein\n",
        "! pip3 install pickle5"
      ]
    },
    {
      "cell_type": "code",
      "execution_count": 2,
      "metadata": {
        "colab": {
          "base_uri": "https://localhost:8080/"
        },
        "id": "6TdGE4mjMcXN",
        "outputId": "b7526549-9072-43f0-d993-e747d7824d26"
      },
      "outputs": [
        {
          "name": "stdout",
          "output_type": "stream",
          "text": [
            "Mounted at /content/gdrive\n"
          ]
        }
      ],
      "source": [
        "from google.colab import drive\n",
        "drive.mount('/content/gdrive')"
      ]
    },
    {
      "cell_type": "code",
      "execution_count": 3,
      "metadata": {
        "id": "7UjYqp0MT7Qf"
      },
      "outputs": [],
      "source": [
        "from typing import List\n",
        "import math\n",
        "from math import log\n",
        "import re\n",
        "import pickle5 as pickle\n",
        "from collections import defaultdict\n",
        "\n",
        "import torch\n",
        "import numpy as np\n",
        "from matplotlib import pyplot as plt\n",
        "from tqdm.auto import tqdm\n",
        "from mpire import WorkerPool\n",
        "import resource\n",
        "\n",
        "\n",
        "# будем использовать mpire для ускорения\n",
        "# на некоторых системах есть проблема с кол-вом открываемвых\n",
        "# файловы дескрипторов, поэтому разрешим нашему процессу\n",
        "# создавать их в большЕм количестве\n",
        "\n",
        "soft, hard = resource.getrlimit(resource.RLIMIT_NOFILE)\n",
        "resource.setrlimit(resource.RLIMIT_NOFILE, (hard, hard))"
      ]
    },
    {
      "cell_type": "code",
      "execution_count": 4,
      "metadata": {
        "id": "t7bmIM9zT_UJ"
      },
      "outputs": [],
      "source": [
        "TEST_CTC_DATASET_PATH = '/content/gdrive/MyDrive/nn/dz9/test_data.pt'\n",
        "VOCAB_PKL_PATH = '/content/gdrive/MyDrive/nn/dz9/vocab.pkl'"
      ]
    },
    {
      "cell_type": "code",
      "execution_count": 5,
      "metadata": {
        "id": "GgbQCS5rUDoI"
      },
      "outputs": [],
      "source": [
        "dataset = torch.load(TEST_CTC_DATASET_PATH)\n",
        "with open(VOCAB_PKL_PATH, 'rb') as fin:\n",
        "    vocab_dict = pickle.load(fin)"
      ]
    },
    {
      "cell_type": "code",
      "execution_count": 6,
      "metadata": {
        "colab": {
          "base_uri": "https://localhost:8080/"
        },
        "id": "oo19vzBFNfTT",
        "outputId": "4c9cb517-1f73-407a-e928-19093d52a284"
      },
      "outputs": [
        {
          "name": "stdout",
          "output_type": "stream",
          "text": [
            "/content\n"
          ]
        }
      ],
      "source": [
        "!pwd"
      ]
    },
    {
      "cell_type": "code",
      "execution_count": 7,
      "metadata": {
        "colab": {
          "base_uri": "https://localhost:8080/"
        },
        "id": "RMSQ0H2Ulg4l",
        "outputId": "37aaaab7-f156-4526-c364-e862643f5b27"
      },
      "outputs": [
        {
          "data": {
            "text/plain": [
              "torch.Size([1, 291, 39])"
            ]
          },
          "execution_count": 7,
          "metadata": {},
          "output_type": "execute_result"
        }
      ],
      "source": [
        "dataset[0][0].shape"
      ]
    },
    {
      "cell_type": "code",
      "execution_count": 8,
      "metadata": {
        "colab": {
          "base_uri": "https://localhost:8080/"
        },
        "id": "kyJgZ4GlmyX8",
        "outputId": "2986bc7e-f3e2-4e22-d899-27825d7cbb15"
      },
      "outputs": [
        {
          "data": {
            "text/plain": [
              "39"
            ]
          },
          "execution_count": 8,
          "metadata": {},
          "output_type": "execute_result"
        }
      ],
      "source": [
        "len(vocab_dict)"
      ]
    },
    {
      "cell_type": "markdown",
      "metadata": {
        "id": "aMT85W3qUPz4"
      },
      "source": [
        "# Часть 1. Метрики."
      ]
    },
    {
      "cell_type": "code",
      "execution_count": 9,
      "metadata": {
        "id": "j6woCiTBUDmT"
      },
      "outputs": [],
      "source": [
        "# поможем себе с расстоянием Левенштейна\n",
        "import Levenshtein\n",
        "\n",
        "# Будем использовать эту функцию для нормализации текстов перед замером CER / WER\n",
        "ALLOWED_SYMBOLS = re.compile(r\"(^[a-zа-я\\s]+$)\")\n",
        "def normalize_text(text: str) -> str:\n",
        "    \"\"\"\n",
        "    В датасетах, иногда встречается '-', 'ё', апострофы и большие буквы. А мы хотим, чтобы:\n",
        "        WER(\"Ростов-на-дону\", \"ростов на дону\") == 0\n",
        "        WER(\"It's\", \"it s\") == 0\n",
        "        WER(\"ёлки палки\", \"елки палки\") == 0\n",
        "    Поэтому заменяем в target'ах 'ё' на 'е', а '-' на ' ' и т. д.\n",
        "    Кроме того на всякий случай удаляем лишние пробелы.\n",
        "    И проверяем что в получившейся строке только допустимые символы.\n",
        "    \"\"\"\n",
        "    assert isinstance(text, str)\n",
        "    text = text.lower().strip().replace(\"ё\", \"е\")\n",
        "    text = re.sub(r\"\\W+\", \" \", text)\n",
        "    text = re.sub(r\"\\s+\", \" \", text)\n",
        "    text = text.strip().split(\" \")\n",
        "    text = \" \".join(word for word in text if len(word) > 0)\n",
        "    assert (text == \"\") or ALLOWED_SYMBOLS.match(text)\n",
        "    return text\n",
        "\n",
        "def wer(ground_truth: str, predicted: str) -> float:\n",
        "    ground_truth = ground_truth.split(' ')\n",
        "    predicted = predicted.split(' ')\n",
        "    return Levenshtein.distance(ground_truth, predicted)\n",
        "\n",
        "def cer(ground_truth: str, predicted: str) -> float:\n",
        "    return Levenshtein.distance(ground_truth, predicted)\n",
        "\n",
        "# Функции для расчета relative CER / WER\n",
        "# В функции нужно подавать строки обработанные методом normalize_text\n",
        "def relative_cer(ground_truth: str, predicted: str) -> float:\n",
        "    assert isinstance(ground_truth, str)\n",
        "    assert isinstance(predicted, str)\n",
        "    return min(1, cer(ground_truth, predicted) / (len(ground_truth) + 1e-10))\n",
        "\n",
        "def relative_wer(ground_truth: str, predicted: str) -> float:\n",
        "    assert isinstance(ground_truth, str)\n",
        "    assert isinstance(predicted, str)\n",
        "    gt_len = ground_truth.count(\" \") + 1\n",
        "    return min(1, wer(ground_truth, predicted) / (gt_len + 1e-10))\n",
        "\n",
        "# Функции для расчета ORACLE relative CER / WER - тут мы выбираем лучшую гипотезу из beam'a\n",
        "# В функции нужно подавать строки обработанные методом normalize_text\n",
        "def oracle_relative_cer(ground_truth: str, predicted: List[str]) -> float:\n",
        "    return min(relative_cer(normalize_text(ground_truth), normalize_text(hypo)) for hypo in predicted)\n",
        "\n",
        "def oracle_relative_wer(ground_truth: str, predicted: List[str]) -> float:\n",
        "    return min(relative_wer(normalize_text(ground_truth), normalize_text(hypo)) for hypo in predicted)"
      ]
    },
    {
      "cell_type": "code",
      "execution_count": 10,
      "metadata": {
        "id": "BCPYGvKzUDju"
      },
      "outputs": [],
      "source": [
        "# Тесты для проверки правильности реализации cer/wer \n",
        "assert(cer(normalize_text(\"алёнка родила девчёнку\"), normalize_text(\"аленка радила девченку Инну\")) == 6)\n",
        "assert(wer(normalize_text(\"алёнка родила девчёнку\"), normalize_text(\"аленка радила девченку Инну\")) == 2)\n",
        "\n",
        "assert(cer(normalize_text(\"\"), normalize_text(\"\")) == 0)\n",
        "assert(wer(normalize_text(\"\"), normalize_text(\"\")) == 0)\n",
        "\n",
        "assert(cer(normalize_text(\"Ростов-на-дону\"), normalize_text(\"ростов на дону\")) == 0)\n",
        "assert(wer(normalize_text(\"Ростов-на-дону\"), normalize_text(\"ростов на дону\")) == 0)\n",
        "\n",
        "assert(cer(normalize_text(\"It's\"), normalize_text(\"it s\")) == 0)\n",
        "assert(wer(normalize_text(\"It's\"), normalize_text(\"it s\")) == 0)"
      ]
    },
    {
      "cell_type": "markdown",
      "metadata": {
        "id": "1HAZBGoTUSPl"
      },
      "source": [
        "# Часть 2. CTC декодинг."
      ]
    },
    {
      "cell_type": "code",
      "execution_count": 11,
      "metadata": {
        "id": "gtopQMKoUIT5"
      },
      "outputs": [],
      "source": [
        "class CTCDecoder:\n",
        "    \n",
        "    def __init__(self, vocab_dict):\n",
        "        self.vocab = vocab_dict\n",
        "        \n",
        "        # Id специальных токенов в словаре\n",
        "        self.blank_id = 0\n",
        "        self.bos_id = 1\n",
        "        self.eos_id = 2\n",
        "        self.unk_id = 3\n",
        "        self.word_sep_id = 4 \n",
        "        # word_sep_id должен быть заменен на пробел при декодировании\n",
        "        # и не забудьте удалить пробелы в конце строки!\n",
        "\n",
        "    def process_symbols(self, symbols:list):\n",
        "      str = ''\n",
        "      for i in range(len(symbols)-1):\n",
        "        if symbols[i] == 0:\n",
        "          continue\n",
        "        if symbols[i+1] == symbols[i]:\n",
        "          continue\n",
        "        if symbols[i] == 4:\n",
        "          str += ' '\n",
        "          continue\n",
        "        str += self.vocab[symbols[i]]\n",
        "\n",
        "      return str\n",
        "        \n",
        "    def argmax_decode(self, ctc_logits: torch.tensor) -> str:\n",
        "        '''\n",
        "        ctc_logits - ctc-матрица логитов размерности [TIME, VOCAB]\n",
        "        '''\n",
        "        assert ctc_logits.shape[1] == len(self.vocab)\n",
        "        prob = torch.nn.functional.softmax(ctc_logits, dim=-1)\n",
        "        ids = prob.max(-1)[1]\n",
        "        return self.process_symbols(ids.numpy())\n",
        "    \n",
        "    def beam_search_decode(self, ctc_logits: torch.tensor, beam_size: int=16) -> List[str]:\n",
        "        '''\n",
        "        ctc_logits - ctc-матрица логитов размерности [TIME, VOCAB]\n",
        "        beam_size - размер бима(луча)\n",
        "        '''\n",
        "        # Здесь должен быть ваш код, который будет оцениваться\n",
        "        sequences = [[list(), 0.0]]\n",
        "        ctc_logits = torch.nn.functional.softmax(ctc_logits, dim=-1)\n",
        "        ctc_logits = ctc_logits.numpy()\n",
        "\t      # walk over each step in sequence\n",
        "        for row in ctc_logits:\n",
        "          all_candidates = list()\n",
        "\t\t      # expand each current candidate\n",
        "          for i in range(len(sequences)):\n",
        "            seq, score = sequences[i]\n",
        "            for j in range(len(row)):\n",
        "              candidate = [seq + [j], score - log(row[j])]\n",
        "              all_candidates.append(candidate)\n",
        "          ordered = sorted(all_candidates, key=lambda tup:tup[1])\n",
        "          sequences = ordered[:beam_size]\n",
        "        return [self.process_symbols(sequence[0]) for sequence in sequences]"
      ]
    },
    {
      "cell_type": "code",
      "execution_count": 12,
      "metadata": {
        "id": "wXrPcd0wUIMD"
      },
      "outputs": [],
      "source": [
        "ctc_decoder = CTCDecoder(vocab_dict)"
      ]
    },
    {
      "cell_type": "markdown",
      "metadata": {
        "id": "tZh0wks3UZGr"
      },
      "source": [
        "## <font color='red'>Внимание!</font> Далее ВЕЗДЕ используем только relative версии рассчета CER / WER и их oracle версии."
      ]
    },
    {
      "cell_type": "markdown",
      "metadata": {
        "id": "7dtDwgiTUbnq"
      },
      "source": [
        "### Argmax декодинг."
      ]
    },
    {
      "cell_type": "code",
      "execution_count": 13,
      "metadata": {
        "colab": {
          "base_uri": "https://localhost:8080/"
        },
        "id": "Wwjm41MDUICJ",
        "outputId": "9c3a0c9d-0221-4232-fc92-c3c614a9d58d"
      },
      "outputs": [
        {
          "name": "stdout",
          "output_type": "stream",
          "text": [
            "Mean CER in argmax decoding : 0.040561903129852875\n",
            "Mean WER in argmax decoding : 0.15567387844386432\n"
          ]
        }
      ],
      "source": [
        "# Рассчитаем усредненный по всему датасету relative CER / WER для ARGMAX варианта декодирования\n",
        "cer_argmax = 0\n",
        "wer_argmax = 0\n",
        "\n",
        "for i in range(len(dataset)):\n",
        "  predict = ctc_decoder.argmax_decode(dataset[i][0][0])\n",
        "  ground_truth = dataset[i][1]\n",
        "  cer_argmax += relative_cer(normalize_text(ground_truth), normalize_text(predict))\n",
        "  wer_argmax += relative_wer(normalize_text(ground_truth), normalize_text(predict))\n",
        "\n",
        "cer_argmax /= len(dataset)\n",
        "wer_argmax /= len(dataset)\n",
        "\n",
        "\n",
        "print(f\"Mean CER in argmax decoding : {cer_argmax}\")\n",
        "print(f\"Mean WER in argmax decoding : {wer_argmax}\")"
      ]
    },
    {
      "cell_type": "markdown",
      "metadata": {
        "id": "65xRXzc4UeLZ"
      },
      "source": [
        "## Вопрос №1: Как соотносятся WER и CER в задаче ASR?"
      ]
    },
    {
      "cell_type": "markdown",
      "metadata": {
        "id": "2PmnB91TUf4V"
      },
      "source": [
        "## Ответ: \n",
        "### - mean cer получился намного меньше из-за того, что слов с ошибкой на все слова намного больше чем на все символы, так как даже одна ошибка в одном слове сделает слово ошибочным   "
      ]
    },
    {
      "cell_type": "code",
      "execution_count": 14,
      "metadata": {
        "id": "fnYYzzq8Rhe1"
      },
      "outputs": [],
      "source": [
        "from tqdm.notebook import tqdm"
      ]
    },
    {
      "cell_type": "code",
      "execution_count": 15,
      "metadata": {
        "id": "li9_TijJWgd4"
      },
      "outputs": [],
      "source": [
        "forks_num = 50\n",
        "def beam_search_errors(fork_id):\n",
        "  cer_bs1 = 0\n",
        "  wer_bs1 = 0\n",
        "  # left = int(len(dataset)*fork_id/forks_num)\n",
        "  # right = int(len(dataset)*(fork_id+1)/forks_num)\n",
        "  left = 0\n",
        "  right = len(dataset)\n",
        "  for i in tqdm(range(left, right)):\n",
        "    predict = ctc_decoder.beam_search_decode(dataset[i][0][0], beam_size=1)\n",
        "    ground_truth = dataset[i][1]\n",
        "    cer_bs1 += oracle_relative_cer(ground_truth, predict)\n",
        "    wer_bs1 += oracle_relative_wer(ground_truth, predict)\n",
        "  return cer_bs1, wer_bs1"
      ]
    },
    {
      "cell_type": "code",
      "execution_count": 16,
      "metadata": {
        "colab": {
          "base_uri": "https://localhost:8080/",
          "height": 86,
          "referenced_widgets": [
            "6565d470c46948d89da80c1cc05db1e6",
            "e8a2f910b6a84554a51139020f076635",
            "118855a519874476bb709468f6b6c026",
            "080dbe8ef8df4d979679cbbcd402eb94",
            "3805b17f195b434e8fabc0973c9c1991",
            "cbc314173a1146f189ff16cd87dbf631",
            "f81073796a7b48a58a0d4a940b81d314",
            "8c82a6b695a5405cb31aa44d915687b7",
            "977d1595e78846b6aa5189d163e5f55a",
            "4f5b4dfdfc6c49d89fb00dfd2b4d18ce",
            "61e4eb4376fb4c9899a1d4ef4e987935"
          ]
        },
        "id": "T1jLZGc-UIAE",
        "outputId": "31ea9b0c-d33c-4a46-c2df-453918663209"
      },
      "outputs": [
        {
          "data": {
            "application/vnd.jupyter.widget-view+json": {
              "model_id": "6565d470c46948d89da80c1cc05db1e6",
              "version_major": 2,
              "version_minor": 0
            },
            "text/plain": [
              "  0%|          | 0/9630 [00:00<?, ?it/s]"
            ]
          },
          "metadata": {},
          "output_type": "display_data"
        },
        {
          "name": "stdout",
          "output_type": "stream",
          "text": [
            "CER in bs decoding : 0.040561903129852875\n",
            "WER in bs decoding : 0.15567387844386432\n"
          ]
        }
      ],
      "source": [
        "# Рассчитаем усредненный по всему датасету relative CER / WER для BEAM_SEARCH варианта декодирования\n",
        "# Для рассчета используем beam_size = 1 !!!\n",
        "# Hint : стоит использовать mpire для ускорения\n",
        "cer_bs1 = 0\n",
        "wer_bs1 = 0\n",
        "\n",
        "\n",
        "results = [beam_search_errors(0)]\n",
        "\n",
        "cer_bs1 = sum([result[0] for result in results]) / len(dataset)\n",
        "wer_bs1 = sum([result[1] for result in results]) / len(dataset)\n",
        "\n",
        "print(f\"CER in bs decoding : {cer_bs1}\")\n",
        "print(f\"WER in bs decoding : {wer_bs1}\")"
      ]
    },
    {
      "cell_type": "code",
      "execution_count": 17,
      "metadata": {
        "id": "c4A6RcAdUH8t"
      },
      "outputs": [],
      "source": [
        "# Проверим, что мы нигде не ошиблись в написании кода beam_search_decode\n",
        "np.testing.assert_almost_equal(cer_argmax, cer_bs1, decimal=4)\n",
        "np.testing.assert_almost_equal(wer_argmax, wer_bs1, decimal=4)"
      ]
    },
    {
      "cell_type": "code",
      "execution_count": 18,
      "metadata": {
        "id": "SqaAmOjkez4v"
      },
      "outputs": [],
      "source": [
        "forks_num = 200\n",
        "def beam_search_errors_top1(fork_id):\n",
        "  oracle_cer_bs1 = 0\n",
        "  oracle_wer_bs1 = 0\n",
        "  top1_cer = 0\n",
        "  top1_wer = 0\n",
        "  left = int(len(dataset)*fork_id/forks_num)\n",
        "  right = int(len(dataset)*(fork_id+1)/forks_num)\n",
        "\n",
        "  left = 0\n",
        "  right = len(dataset)\n",
        "  for i in tqdm(range(left, right)):\n",
        "    predict = ctc_decoder.beam_search_decode(dataset[i][0][0], beam_size=beam_size)\n",
        "    ground_truth = dataset[i][1]\n",
        "    top1_cer += relative_cer(ground_truth, predict[0])\n",
        "    top1_wer += relative_wer(ground_truth, predict[0])\n",
        "    oracle_cer_bs1 += oracle_relative_cer(ground_truth, predict)\n",
        "    oracle_wer_bs1 += oracle_relative_wer(ground_truth, predict)\n",
        "  return oracle_cer_bs1, oracle_wer_bs1, top1_cer, top1_wer"
      ]
    },
    {
      "cell_type": "code",
      "execution_count": 19,
      "metadata": {
        "colab": {
          "base_uri": "https://localhost:8080/",
          "height": 113,
          "referenced_widgets": [
            "79b5e887682c4c7283d1a3f29df7a576",
            "7c28a049bd9441d7a57b402ad1998c4e",
            "5a2e34d30a33483b919aefd53ec9d480",
            "d2957e2ae6224e98afec4fb1a108d822",
            "a2f227e59c13463bb41c19c6eab236ae",
            "acd239139a37455ebb6b1ab36632c20f",
            "2a6a6601ba2a4dd98ecb0815fd0c9e3f",
            "3e9b13f888824e4f9e99fcfdeb5af8fa",
            "e7b6f5d9c6f2408faa9d50e0f0844fdf",
            "06d5f29819954424a887acfa6c53a611",
            "d049f27323894ccc8250b6ad67eea96a",
            "3f7ba95b68eb40e0bd2e8d1f54254fdd",
            "9e5fb2399bf247308176e2118b297b51",
            "8435ee3306eb4509b2301cd68cf6ea1c",
            "e4d6f0a4782d4fb2affe803aed84f857",
            "7aac290ce35e40b0a8494c2b80145fce",
            "5799fa24a812409f978f17930a1d7e6f",
            "2d027e6250084ad6b0248afeb0b3b247",
            "75719e9e2a194ac9a73812f34be3f69f",
            "d568b856e0c741a6872d319ec6973e2e",
            "02feb029cb8c4b9aa00079116f46d8c3",
            "ef3d27d8e5e54689893239c68863a0d4",
            "352b619e7c5a45c1bd1a534e954c649d",
            "6a7151d9e1f54e85937de3b6bd53f2c9",
            "3615864f82e34470b141e170582738e1",
            "68d3ebe529024b94b0b945f19ebd80dd",
            "716edd0ca52e48e283ded2392c3652e7",
            "76e413754ccd4296807a0673c3125de1",
            "0aba6d9bf5f344dfa28b7f01fd4c391c",
            "170d7171792c4cbb843701025346bd38",
            "e1bba1f8c53048acbdc4e79d7b472fd0",
            "bb123325336b45ed8d5bd0c5f2a478d2",
            "d47f46b30831425dacb57d0b64ae1d44"
          ]
        },
        "id": "Xd6zxzXUUV2y",
        "outputId": "9249082f-d1da-49eb-d6af-0534c9c412bc"
      },
      "outputs": [
        {
          "data": {
            "application/vnd.jupyter.widget-view+json": {
              "model_id": "79b5e887682c4c7283d1a3f29df7a576",
              "version_major": 2,
              "version_minor": 0
            },
            "text/plain": [
              "  0%|          | 0/9630 [00:00<?, ?it/s]"
            ]
          },
          "metadata": {},
          "output_type": "display_data"
        },
        {
          "data": {
            "application/vnd.jupyter.widget-view+json": {
              "model_id": "3f7ba95b68eb40e0bd2e8d1f54254fdd",
              "version_major": 2,
              "version_minor": 0
            },
            "text/plain": [
              "  0%|          | 0/9630 [00:00<?, ?it/s]"
            ]
          },
          "metadata": {},
          "output_type": "display_data"
        },
        {
          "data": {
            "application/vnd.jupyter.widget-view+json": {
              "model_id": "352b619e7c5a45c1bd1a534e954c649d",
              "version_major": 2,
              "version_minor": 0
            },
            "text/plain": [
              "  0%|          | 0/9630 [00:00<?, ?it/s]"
            ]
          },
          "metadata": {},
          "output_type": "display_data"
        }
      ],
      "source": [
        "# Ок, значит все хорошо и можно приступить к построению графиков\n",
        "# зависимости усредненного CER / WER + oracle от beam_size.\n",
        "\n",
        "# Для этого будем использовать beam_size = [4, 8].\n",
        "# Заполним словарик усредненных по датасету relative wer / cer наиболее вероятной гипотезы - top1_wer, top1_cer.\n",
        "# Так же добавим в словарик relative oracle wer / cer - orcale_wer, oracle_cer\n",
        "graph_results = {'oracle_wer':[], 'oracle_cer':[], 'top1_wer':[], 'top1_cer': []}\n",
        "beam_sizes = [4, 8, 16]\n",
        "for beam_size in beam_sizes:\n",
        "    top1_wer, top1_cer, oracle_wer, oracle_cer = 0, 0, 0, 0\n",
        "\n",
        "\n",
        "    results = [beam_search_errors_top1(0)]\n",
        "\n",
        "    oracle_cer = sum([result[0] for result in results]) / len(dataset)\n",
        "    oracle_wer = sum([result[1] for result in results]) / len(dataset)\n",
        "    top1_cer = sum([result[2] for result in results]) / len(dataset)\n",
        "    top1_wer = sum([result[3] for result in results]) / len(dataset)\n",
        "    \n",
        "    graph_results['top1_cer'].append(top1_cer)\n",
        "    graph_results['top1_wer'].append(top1_wer)\n",
        "    graph_results['oracle_cer'].append(oracle_cer)\n",
        "    graph_results['oracle_wer'].append(oracle_wer)"
      ]
    },
    {
      "cell_type": "code",
      "execution_count": 20,
      "metadata": {
        "colab": {
          "base_uri": "https://localhost:8080/",
          "height": 375
        },
        "id": "sCBJvXSAUV0h",
        "outputId": "376c34d7-ce7a-4e9d-f480-c7f60b456057"
      },
      "outputs": [
        {
          "data": {
            "text/plain": [
              "<matplotlib.legend.Legend at 0x7fe058893760>"
            ]
          },
          "execution_count": 20,
          "metadata": {},
          "output_type": "execute_result"
        },
        {
          "data": {
            "image/png": "[encoded data removed]",
            "text/plain": [
              "<Figure size 720x360 with 2 Axes>"
            ]
          },
          "metadata": {
            "needs_background": "light"
          },
          "output_type": "display_data"
        }
      ],
      "source": [
        "fig, axs = plt.subplots(1, 2, figsize=(10, 5))\n",
        "fig.suptitle('Result of beam_search experiments')\n",
        "\n",
        "axs[0].axhline(y = cer_argmax, color = 'r', linestyle = '-', label='cer_argmax')\n",
        "axs[0].plot(beam_sizes, graph_results['top1_cer'], '--bo', label='top1_cer') \n",
        "axs[0].plot(beam_sizes, graph_results['oracle_cer'], '--go', label='oracle_cer')\n",
        "axs[0].set_title('CER')\n",
        "axs[0].legend()\n",
        "\n",
        "axs[1].axhline(y = wer_argmax, color = 'r', linestyle = '-', label='wer_argmax')\n",
        "axs[1].plot(beam_sizes, graph_results['top1_wer'], '--bo', label='top1_wer')\n",
        "axs[1].plot(beam_sizes, graph_results['oracle_wer'], '--go', label='oracle_wer')\n",
        "axs[1].set_title('WER')\n",
        "axs[1].legend()"
      ]
    },
    {
      "cell_type": "code",
      "execution_count": 20,
      "metadata": {
        "id": "sD9lkEPHmr27"
      },
      "outputs": [],
      "source": []
    }
  ],
  "metadata": {
    "colab": {
      "provenance": []
    },
    "kernelspec": {
      "display_name": "Python 3",
      "language": "python",
      "name": "python3"
    },
    "language_info": {
      "name": "python",
      "version": "3.11.0 (v3.11.0:deaf509e8f, Oct 24 2022, 14:43:23) [Clang 13.0.0 (clang-1300.0.29.30)]"
    },
    "vscode": {
      "interpreter": {
        "hash": "1a1af0ee75eeea9e2e1ee996c87e7a2b11a0bebd85af04bb136d915cefc0abce"
      }
    },
    "widgets": {
      "application/vnd.jupyter.widget-state+json": {
        "02feb029cb8c4b9aa00079116f46d8c3": {
          "model_module": "@jupyter-widgets/base",
          "model_module_version": "1.2.0",
          "model_name": "LayoutModel",
          "state": {
            "_model_module": "@jupyter-widgets/base",
            "_model_module_version": "1.2.0",
            "_model_name": "LayoutModel",
            "_view_count": null,
            "_view_module": "@jupyter-widgets/base",
            "_view_module_version": "1.2.0",
            "_view_name": "LayoutView",
            "align_content": null,
            "align_items": null,
            "align_self": null,
            "border": null,
            "bottom": null,
            "display": null,
            "flex": null,
            "flex_flow": null,
            "grid_area": null,
            "grid_auto_columns": null,
            "grid_auto_flow": null,
            "grid_auto_rows": null,
            "grid_column": null,
            "grid_gap": null,
            "grid_row": null,
            "grid_template_areas": null,
            "grid_template_columns": null,
            "grid_template_rows": null,
            "height": null,
            "justify_content": null,
            "justify_items": null,
            "left": null,
            "margin": null,
            "max_height": null,
            "max_width": null,
            "min_height": null,
            "min_width": null,
            "object_fit": null,
            "object_position": null,
            "order": null,
            "overflow": null,
            "overflow_x": null,
            "overflow_y": null,
            "padding": null,
            "right": null,
            "top": null,
            "visibility": null,
            "width": null
          }
        },
        "06d5f29819954424a887acfa6c53a611": {
          "model_module": "@jupyter-widgets/base",
          "model_module_version": "1.2.0",
          "model_name": "LayoutModel",
          "state": {
            "_model_module": "@jupyter-widgets/base",
            "_model_module_version": "1.2.0",
            "_model_name": "LayoutModel",
            "_view_count": null,
            "_view_module": "@jupyter-widgets/base",
            "_view_module_version": "1.2.0",
            "_view_name": "LayoutView",
            "align_content": null,
            "align_items": null,
            "align_self": null,
            "border": null,
            "bottom": null,
            "display": null,
            "flex": null,
            "flex_flow": null,
            "grid_area": null,
            "grid_auto_columns": null,
            "grid_auto_flow": null,
            "grid_auto_rows": null,
            "grid_column": null,
            "grid_gap": null,
            "grid_row": null,
            "grid_template_areas": null,
            "grid_template_columns": null,
            "grid_template_rows": null,
            "height": null,
            "justify_content": null,
            "justify_items": null,
            "left": null,
            "margin": null,
            "max_height": null,
            "max_width": null,
            "min_height": null,
            "min_width": null,
            "object_fit": null,
            "object_position": null,
            "order": null,
            "overflow": null,
            "overflow_x": null,
            "overflow_y": null,
            "padding": null,
            "right": null,
            "top": null,
            "visibility": null,
            "width": null
          }
        },
        "080dbe8ef8df4d979679cbbcd402eb94": {
          "model_module": "@jupyter-widgets/controls",
          "model_module_version": "1.5.0",
          "model_name": "HTMLModel",
          "state": {
            "_dom_classes": [],
            "_model_module": "@jupyter-widgets/controls",
            "_model_module_version": "1.5.0",
            "_model_name": "HTMLModel",
            "_view_count": null,
            "_view_module": "@jupyter-widgets/controls",
            "_view_module_version": "1.5.0",
            "_view_name": "HTMLView",
            "description": "",
            "description_tooltip": null,
            "layout": "IPY_MODEL_4f5b4dfdfc6c49d89fb00dfd2b4d18ce",
            "placeholder": "​",
            "style": "IPY_MODEL_61e4eb4376fb4c9899a1d4ef4e987935",
            "value": " 9630/9630 [02:16&lt;00:00, 76.52it/s]"
          }
        },
        "0aba6d9bf5f344dfa28b7f01fd4c391c": {
          "model_module": "@jupyter-widgets/controls",
          "model_module_version": "1.5.0",
          "model_name": "DescriptionStyleModel",
          "state": {
            "_model_module": "@jupyter-widgets/controls",
            "_model_module_version": "1.5.0",
            "_model_name": "DescriptionStyleModel",
            "_view_count": null,
            "_view_module": "@jupyter-widgets/base",
            "_view_module_version": "1.2.0",
            "_view_name": "StyleView",
            "description_width": ""
          }
        },
        "118855a519874476bb709468f6b6c026": {
          "model_module": "@jupyter-widgets/controls",
          "model_module_version": "1.5.0",
          "model_name": "FloatProgressModel",
          "state": {
            "_dom_classes": [],
            "_model_module": "@jupyter-widgets/controls",
            "_model_module_version": "1.5.0",
            "_model_name": "FloatProgressModel",
            "_view_count": null,
            "_view_module": "@jupyter-widgets/controls",
            "_view_module_version": "1.5.0",
            "_view_name": "ProgressView",
            "bar_style": "success",
            "description": "",
            "description_tooltip": null,
            "layout": "IPY_MODEL_8c82a6b695a5405cb31aa44d915687b7",
            "max": 9630,
            "min": 0,
            "orientation": "horizontal",
            "style": "IPY_MODEL_977d1595e78846b6aa5189d163e5f55a",
            "value": 9630
          }
        },
        "170d7171792c4cbb843701025346bd38": {
          "model_module": "@jupyter-widgets/base",
          "model_module_version": "1.2.0",
          "model_name": "LayoutModel",
          "state": {
            "_model_module": "@jupyter-widgets/base",
            "_model_module_version": "1.2.0",
            "_model_name": "LayoutModel",
            "_view_count": null,
            "_view_module": "@jupyter-widgets/base",
            "_view_module_version": "1.2.0",
            "_view_name": "LayoutView",
            "align_content": null,
            "align_items": null,
            "align_self": null,
            "border": null,
            "bottom": null,
            "display": null,
            "flex": null,
            "flex_flow": null,
            "grid_area": null,
            "grid_auto_columns": null,
            "grid_auto_flow": null,
            "grid_auto_rows": null,
            "grid_column": null,
            "grid_gap": null,
            "grid_row": null,
            "grid_template_areas": null,
            "grid_template_columns": null,
            "grid_template_rows": null,
            "height": null,
            "justify_content": null,
            "justify_items": null,
            "left": null,
            "margin": null,
            "max_height": null,
            "max_width": null,
            "min_height": null,
            "min_width": null,
            "object_fit": null,
            "object_position": null,
            "order": null,
            "overflow": null,
            "overflow_x": null,
            "overflow_y": null,
            "padding": null,
            "right": null,
            "top": null,
            "visibility": null,
            "width": null
          }
        },
        "2a6a6601ba2a4dd98ecb0815fd0c9e3f": {
          "model_module": "@jupyter-widgets/controls",
          "model_module_version": "1.5.0",
          "model_name": "DescriptionStyleModel",
          "state": {
            "_model_module": "@jupyter-widgets/controls",
            "_model_module_version": "1.5.0",
            "_model_name": "DescriptionStyleModel",
            "_view_count": null,
            "_view_module": "@jupyter-widgets/base",
            "_view_module_version": "1.2.0",
            "_view_name": "StyleView",
            "description_width": ""
          }
        },
        "2d027e6250084ad6b0248afeb0b3b247": {
          "model_module": "@jupyter-widgets/controls",
          "model_module_version": "1.5.0",
          "model_name": "DescriptionStyleModel",
          "state": {
            "_model_module": "@jupyter-widgets/controls",
            "_model_module_version": "1.5.0",
            "_model_name": "DescriptionStyleModel",
            "_view_count": null,
            "_view_module": "@jupyter-widgets/base",
            "_view_module_version": "1.2.0",
            "_view_name": "StyleView",
            "description_width": ""
          }
        },
        "352b619e7c5a45c1bd1a534e954c649d": {
          "model_module": "@jupyter-widgets/controls",
          "model_module_version": "1.5.0",
          "model_name": "HBoxModel",
          "state": {
            "_dom_classes": [],
            "_model_module": "@jupyter-widgets/controls",
            "_model_module_version": "1.5.0",
            "_model_name": "HBoxModel",
            "_view_count": null,
            "_view_module": "@jupyter-widgets/controls",
            "_view_module_version": "1.5.0",
            "_view_name": "HBoxView",
            "box_style": "",
            "children": [
              "IPY_MODEL_6a7151d9e1f54e85937de3b6bd53f2c9",
              "IPY_MODEL_3615864f82e34470b141e170582738e1",
              "IPY_MODEL_68d3ebe529024b94b0b945f19ebd80dd"
            ],
            "layout": "IPY_MODEL_716edd0ca52e48e283ded2392c3652e7"
          }
        },
        "3615864f82e34470b141e170582738e1": {
          "model_module": "@jupyter-widgets/controls",
          "model_module_version": "1.5.0",
          "model_name": "FloatProgressModel",
          "state": {
            "_dom_classes": [],
            "_model_module": "@jupyter-widgets/controls",
            "_model_module_version": "1.5.0",
            "_model_name": "FloatProgressModel",
            "_view_count": null,
            "_view_module": "@jupyter-widgets/controls",
            "_view_module_version": "1.5.0",
            "_view_name": "ProgressView",
            "bar_style": "success",
            "description": "",
            "description_tooltip": null,
            "layout": "IPY_MODEL_170d7171792c4cbb843701025346bd38",
            "max": 9630,
            "min": 0,
            "orientation": "horizontal",
            "style": "IPY_MODEL_e1bba1f8c53048acbdc4e79d7b472fd0",
            "value": 9630
          }
        },
        "3805b17f195b434e8fabc0973c9c1991": {
          "model_module": "@jupyter-widgets/base",
          "model_module_version": "1.2.0",
          "model_name": "LayoutModel",
          "state": {
            "_model_module": "@jupyter-widgets/base",
            "_model_module_version": "1.2.0",
            "_model_name": "LayoutModel",
            "_view_count": null,
            "_view_module": "@jupyter-widgets/base",
            "_view_module_version": "1.2.0",
            "_view_name": "LayoutView",
            "align_content": null,
            "align_items": null,
            "align_self": null,
            "border": null,
            "bottom": null,
            "display": null,
            "flex": null,
            "flex_flow": null,
            "grid_area": null,
            "grid_auto_columns": null,
            "grid_auto_flow": null,
            "grid_auto_rows": null,
            "grid_column": null,
            "grid_gap": null,
            "grid_row": null,
            "grid_template_areas": null,
            "grid_template_columns": null,
            "grid_template_rows": null,
            "height": null,
            "justify_content": null,
            "justify_items": null,
            "left": null,
            "margin": null,
            "max_height": null,
            "max_width": null,
            "min_height": null,
            "min_width": null,
            "object_fit": null,
            "object_position": null,
            "order": null,
            "overflow": null,
            "overflow_x": null,
            "overflow_y": null,
            "padding": null,
            "right": null,
            "top": null,
            "visibility": null,
            "width": null
          }
        },
        "3e9b13f888824e4f9e99fcfdeb5af8fa": {
          "model_module": "@jupyter-widgets/base",
          "model_module_version": "1.2.0",
          "model_name": "LayoutModel",
          "state": {
            "_model_module": "@jupyter-widgets/base",
            "_model_module_version": "1.2.0",
            "_model_name": "LayoutModel",
            "_view_count": null,
            "_view_module": "@jupyter-widgets/base",
            "_view_module_version": "1.2.0",
            "_view_name": "LayoutView",
            "align_content": null,
            "align_items": null,
            "align_self": null,
            "border": null,
            "bottom": null,
            "display": null,
            "flex": null,
            "flex_flow": null,
            "grid_area": null,
            "grid_auto_columns": null,
            "grid_auto_flow": null,
            "grid_auto_rows": null,
            "grid_column": null,
            "grid_gap": null,
            "grid_row": null,
            "grid_template_areas": null,
            "grid_template_columns": null,
            "grid_template_rows": null,
            "height": null,
            "justify_content": null,
            "justify_items": null,
            "left": null,
            "margin": null,
            "max_height": null,
            "max_width": null,
            "min_height": null,
            "min_width": null,
            "object_fit": null,
            "object_position": null,
            "order": null,
            "overflow": null,
            "overflow_x": null,
            "overflow_y": null,
            "padding": null,
            "right": null,
            "top": null,
            "visibility": null,
            "width": null
          }
        },
        "3f7ba95b68eb40e0bd2e8d1f54254fdd": {
          "model_module": "@jupyter-widgets/controls",
          "model_module_version": "1.5.0",
          "model_name": "HBoxModel",
          "state": {
            "_dom_classes": [],
            "_model_module": "@jupyter-widgets/controls",
            "_model_module_version": "1.5.0",
            "_model_name": "HBoxModel",
            "_view_count": null,
            "_view_module": "@jupyter-widgets/controls",
            "_view_module_version": "1.5.0",
            "_view_name": "HBoxView",
            "box_style": "",
            "children": [
              "IPY_MODEL_9e5fb2399bf247308176e2118b297b51",
              "IPY_MODEL_8435ee3306eb4509b2301cd68cf6ea1c",
              "IPY_MODEL_e4d6f0a4782d4fb2affe803aed84f857"
            ],
            "layout": "IPY_MODEL_7aac290ce35e40b0a8494c2b80145fce"
          }
        },
        "4f5b4dfdfc6c49d89fb00dfd2b4d18ce": {
          "model_module": "@jupyter-widgets/base",
          "model_module_version": "1.2.0",
          "model_name": "LayoutModel",
          "state": {
            "_model_module": "@jupyter-widgets/base",
            "_model_module_version": "1.2.0",
            "_model_name": "LayoutModel",
            "_view_count": null,
            "_view_module": "@jupyter-widgets/base",
            "_view_module_version": "1.2.0",
            "_view_name": "LayoutView",
            "align_content": null,
            "align_items": null,
            "align_self": null,
            "border": null,
            "bottom": null,
            "display": null,
            "flex": null,
            "flex_flow": null,
            "grid_area": null,
            "grid_auto_columns": null,
            "grid_auto_flow": null,
            "grid_auto_rows": null,
            "grid_column": null,
            "grid_gap": null,
            "grid_row": null,
            "grid_template_areas": null,
            "grid_template_columns": null,
            "grid_template_rows": null,
            "height": null,
            "justify_content": null,
            "justify_items": null,
            "left": null,
            "margin": null,
            "max_height": null,
            "max_width": null,
            "min_height": null,
            "min_width": null,
            "object_fit": null,
            "object_position": null,
            "order": null,
            "overflow": null,
            "overflow_x": null,
            "overflow_y": null,
            "padding": null,
            "right": null,
            "top": null,
            "visibility": null,
            "width": null
          }
        },
        "5799fa24a812409f978f17930a1d7e6f": {
          "model_module": "@jupyter-widgets/base",
          "model_module_version": "1.2.0",
          "model_name": "LayoutModel",
          "state": {
            "_model_module": "@jupyter-widgets/base",
            "_model_module_version": "1.2.0",
            "_model_name": "LayoutModel",
            "_view_count": null,
            "_view_module": "@jupyter-widgets/base",
            "_view_module_version": "1.2.0",
            "_view_name": "LayoutView",
            "align_content": null,
            "align_items": null,
            "align_self": null,
            "border": null,
            "bottom": null,
            "display": null,
            "flex": null,
            "flex_flow": null,
            "grid_area": null,
            "grid_auto_columns": null,
            "grid_auto_flow": null,
            "grid_auto_rows": null,
            "grid_column": null,
            "grid_gap": null,
            "grid_row": null,
            "grid_template_areas": null,
            "grid_template_columns": null,
            "grid_template_rows": null,
            "height": null,
            "justify_content": null,
            "justify_items": null,
            "left": null,
            "margin": null,
            "max_height": null,
            "max_width": null,
            "min_height": null,
            "min_width": null,
            "object_fit": null,
            "object_position": null,
            "order": null,
            "overflow": null,
            "overflow_x": null,
            "overflow_y": null,
            "padding": null,
            "right": null,
            "top": null,
            "visibility": null,
            "width": null
          }
        },
        "5a2e34d30a33483b919aefd53ec9d480": {
          "model_module": "@jupyter-widgets/controls",
          "model_module_version": "1.5.0",
          "model_name": "FloatProgressModel",
          "state": {
            "_dom_classes": [],
            "_model_module": "@jupyter-widgets/controls",
            "_model_module_version": "1.5.0",
            "_model_name": "FloatProgressModel",
            "_view_count": null,
            "_view_module": "@jupyter-widgets/controls",
            "_view_module_version": "1.5.0",
            "_view_name": "ProgressView",
            "bar_style": "success",
            "description": "",
            "description_tooltip": null,
            "layout": "IPY_MODEL_3e9b13f888824e4f9e99fcfdeb5af8fa",
            "max": 9630,
            "min": 0,
            "orientation": "horizontal",
            "style": "IPY_MODEL_e7b6f5d9c6f2408faa9d50e0f0844fdf",
            "value": 9630
          }
        },
        "61e4eb4376fb4c9899a1d4ef4e987935": {
          "model_module": "@jupyter-widgets/controls",
          "model_module_version": "1.5.0",
          "model_name": "DescriptionStyleModel",
          "state": {
            "_model_module": "@jupyter-widgets/controls",
            "_model_module_version": "1.5.0",
            "_model_name": "DescriptionStyleModel",
            "_view_count": null,
            "_view_module": "@jupyter-widgets/base",
            "_view_module_version": "1.2.0",
            "_view_name": "StyleView",
            "description_width": ""
          }
        },
        "6565d470c46948d89da80c1cc05db1e6": {
          "model_module": "@jupyter-widgets/controls",
          "model_module_version": "1.5.0",
          "model_name": "HBoxModel",
          "state": {
            "_dom_classes": [],
            "_model_module": "@jupyter-widgets/controls",
            "_model_module_version": "1.5.0",
            "_model_name": "HBoxModel",
            "_view_count": null,
            "_view_module": "@jupyter-widgets/controls",
            "_view_module_version": "1.5.0",
            "_view_name": "HBoxView",
            "box_style": "",
            "children": [
              "IPY_MODEL_e8a2f910b6a84554a51139020f076635",
              "IPY_MODEL_118855a519874476bb709468f6b6c026",
              "IPY_MODEL_080dbe8ef8df4d979679cbbcd402eb94"
            ],
            "layout": "IPY_MODEL_3805b17f195b434e8fabc0973c9c1991"
          }
        },
        "68d3ebe529024b94b0b945f19ebd80dd": {
          "model_module": "@jupyter-widgets/controls",
          "model_module_version": "1.5.0",
          "model_name": "HTMLModel",
          "state": {
            "_dom_classes": [],
            "_model_module": "@jupyter-widgets/controls",
            "_model_module_version": "1.5.0",
            "_model_name": "HTMLModel",
            "_view_count": null,
            "_view_module": "@jupyter-widgets/controls",
            "_view_module_version": "1.5.0",
            "_view_name": "HTMLView",
            "description": "",
            "description_tooltip": null,
            "layout": "IPY_MODEL_bb123325336b45ed8d5bd0c5f2a478d2",
            "placeholder": "​",
            "style": "IPY_MODEL_d47f46b30831425dacb57d0b64ae1d44",
            "value": " 9630/9630 [1:20:51&lt;00:00,  1.79it/s]"
          }
        },
        "6a7151d9e1f54e85937de3b6bd53f2c9": {
          "model_module": "@jupyter-widgets/controls",
          "model_module_version": "1.5.0",
          "model_name": "HTMLModel",
          "state": {
            "_dom_classes": [],
            "_model_module": "@jupyter-widgets/controls",
            "_model_module_version": "1.5.0",
            "_model_name": "HTMLModel",
            "_view_count": null,
            "_view_module": "@jupyter-widgets/controls",
            "_view_module_version": "1.5.0",
            "_view_name": "HTMLView",
            "description": "",
            "description_tooltip": null,
            "layout": "IPY_MODEL_76e413754ccd4296807a0673c3125de1",
            "placeholder": "​",
            "style": "IPY_MODEL_0aba6d9bf5f344dfa28b7f01fd4c391c",
            "value": "100%"
          }
        },
        "716edd0ca52e48e283ded2392c3652e7": {
          "model_module": "@jupyter-widgets/base",
          "model_module_version": "1.2.0",
          "model_name": "LayoutModel",
          "state": {
            "_model_module": "@jupyter-widgets/base",
            "_model_module_version": "1.2.0",
            "_model_name": "LayoutModel",
            "_view_count": null,
            "_view_module": "@jupyter-widgets/base",
            "_view_module_version": "1.2.0",
            "_view_name": "LayoutView",
            "align_content": null,
            "align_items": null,
            "align_self": null,
            "border": null,
            "bottom": null,
            "display": null,
            "flex": null,
            "flex_flow": null,
            "grid_area": null,
            "grid_auto_columns": null,
            "grid_auto_flow": null,
            "grid_auto_rows": null,
            "grid_column": null,
            "grid_gap": null,
            "grid_row": null,
            "grid_template_areas": null,
            "grid_template_columns": null,
            "grid_template_rows": null,
            "height": null,
            "justify_content": null,
            "justify_items": null,
            "left": null,
            "margin": null,
            "max_height": null,
            "max_width": null,
            "min_height": null,
            "min_width": null,
            "object_fit": null,
            "object_position": null,
            "order": null,
            "overflow": null,
            "overflow_x": null,
            "overflow_y": null,
            "padding": null,
            "right": null,
            "top": null,
            "visibility": null,
            "width": null
          }
        },
        "75719e9e2a194ac9a73812f34be3f69f": {
          "model_module": "@jupyter-widgets/base",
          "model_module_version": "1.2.0",
          "model_name": "LayoutModel",
          "state": {
            "_model_module": "@jupyter-widgets/base",
            "_model_module_version": "1.2.0",
            "_model_name": "LayoutModel",
            "_view_count": null,
            "_view_module": "@jupyter-widgets/base",
            "_view_module_version": "1.2.0",
            "_view_name": "LayoutView",
            "align_content": null,
            "align_items": null,
            "align_self": null,
            "border": null,
            "bottom": null,
            "display": null,
            "flex": null,
            "flex_flow": null,
            "grid_area": null,
            "grid_auto_columns": null,
            "grid_auto_flow": null,
            "grid_auto_rows": null,
            "grid_column": null,
            "grid_gap": null,
            "grid_row": null,
            "grid_template_areas": null,
            "grid_template_columns": null,
            "grid_template_rows": null,
            "height": null,
            "justify_content": null,
            "justify_items": null,
            "left": null,
            "margin": null,
            "max_height": null,
            "max_width": null,
            "min_height": null,
            "min_width": null,
            "object_fit": null,
            "object_position": null,
            "order": null,
            "overflow": null,
            "overflow_x": null,
            "overflow_y": null,
            "padding": null,
            "right": null,
            "top": null,
            "visibility": null,
            "width": null
          }
        },
        "76e413754ccd4296807a0673c3125de1": {
          "model_module": "@jupyter-widgets/base",
          "model_module_version": "1.2.0",
          "model_name": "LayoutModel",
          "state": {
            "_model_module": "@jupyter-widgets/base",
            "_model_module_version": "1.2.0",
            "_model_name": "LayoutModel",
            "_view_count": null,
            "_view_module": "@jupyter-widgets/base",
            "_view_module_version": "1.2.0",
            "_view_name": "LayoutView",
            "align_content": null,
            "align_items": null,
            "align_self": null,
            "border": null,
            "bottom": null,
            "display": null,
            "flex": null,
            "flex_flow": null,
            "grid_area": null,
            "grid_auto_columns": null,
            "grid_auto_flow": null,
            "grid_auto_rows": null,
            "grid_column": null,
            "grid_gap": null,
            "grid_row": null,
            "grid_template_areas": null,
            "grid_template_columns": null,
            "grid_template_rows": null,
            "height": null,
            "justify_content": null,
            "justify_items": null,
            "left": null,
            "margin": null,
            "max_height": null,
            "max_width": null,
            "min_height": null,
            "min_width": null,
            "object_fit": null,
            "object_position": null,
            "order": null,
            "overflow": null,
            "overflow_x": null,
            "overflow_y": null,
            "padding": null,
            "right": null,
            "top": null,
            "visibility": null,
            "width": null
          }
        },
        "79b5e887682c4c7283d1a3f29df7a576": {
          "model_module": "@jupyter-widgets/controls",
          "model_module_version": "1.5.0",
          "model_name": "HBoxModel",
          "state": {
            "_dom_classes": [],
            "_model_module": "@jupyter-widgets/controls",
            "_model_module_version": "1.5.0",
            "_model_name": "HBoxModel",
            "_view_count": null,
            "_view_module": "@jupyter-widgets/controls",
            "_view_module_version": "1.5.0",
            "_view_name": "HBoxView",
            "box_style": "",
            "children": [
              "IPY_MODEL_7c28a049bd9441d7a57b402ad1998c4e",
              "IPY_MODEL_5a2e34d30a33483b919aefd53ec9d480",
              "IPY_MODEL_d2957e2ae6224e98afec4fb1a108d822"
            ],
            "layout": "IPY_MODEL_a2f227e59c13463bb41c19c6eab236ae"
          }
        },
        "7aac290ce35e40b0a8494c2b80145fce": {
          "model_module": "@jupyter-widgets/base",
          "model_module_version": "1.2.0",
          "model_name": "LayoutModel",
          "state": {
            "_model_module": "@jupyter-widgets/base",
            "_model_module_version": "1.2.0",
            "_model_name": "LayoutModel",
            "_view_count": null,
            "_view_module": "@jupyter-widgets/base",
            "_view_module_version": "1.2.0",
            "_view_name": "LayoutView",
            "align_content": null,
            "align_items": null,
            "align_self": null,
            "border": null,
            "bottom": null,
            "display": null,
            "flex": null,
            "flex_flow": null,
            "grid_area": null,
            "grid_auto_columns": null,
            "grid_auto_flow": null,
            "grid_auto_rows": null,
            "grid_column": null,
            "grid_gap": null,
            "grid_row": null,
            "grid_template_areas": null,
            "grid_template_columns": null,
            "grid_template_rows": null,
            "height": null,
            "justify_content": null,
            "justify_items": null,
            "left": null,
            "margin": null,
            "max_height": null,
            "max_width": null,
            "min_height": null,
            "min_width": null,
            "object_fit": null,
            "object_position": null,
            "order": null,
            "overflow": null,
            "overflow_x": null,
            "overflow_y": null,
            "padding": null,
            "right": null,
            "top": null,
            "visibility": null,
            "width": null
          }
        },
        "7c28a049bd9441d7a57b402ad1998c4e": {
          "model_module": "@jupyter-widgets/controls",
          "model_module_version": "1.5.0",
          "model_name": "HTMLModel",
          "state": {
            "_dom_classes": [],
            "_model_module": "@jupyter-widgets/controls",
            "_model_module_version": "1.5.0",
            "_model_name": "HTMLModel",
            "_view_count": null,
            "_view_module": "@jupyter-widgets/controls",
            "_view_module_version": "1.5.0",
            "_view_name": "HTMLView",
            "description": "",
            "description_tooltip": null,
            "layout": "IPY_MODEL_acd239139a37455ebb6b1ab36632c20f",
            "placeholder": "​",
            "style": "IPY_MODEL_2a6a6601ba2a4dd98ecb0815fd0c9e3f",
            "value": "100%"
          }
        },
        "8435ee3306eb4509b2301cd68cf6ea1c": {
          "model_module": "@jupyter-widgets/controls",
          "model_module_version": "1.5.0",
          "model_name": "FloatProgressModel",
          "state": {
            "_dom_classes": [],
            "_model_module": "@jupyter-widgets/controls",
            "_model_module_version": "1.5.0",
            "_model_name": "FloatProgressModel",
            "_view_count": null,
            "_view_module": "@jupyter-widgets/controls",
            "_view_module_version": "1.5.0",
            "_view_name": "ProgressView",
            "bar_style": "success",
            "description": "",
            "description_tooltip": null,
            "layout": "IPY_MODEL_75719e9e2a194ac9a73812f34be3f69f",
            "max": 9630,
            "min": 0,
            "orientation": "horizontal",
            "style": "IPY_MODEL_d568b856e0c741a6872d319ec6973e2e",
            "value": 9630
          }
        },
        "8c82a6b695a5405cb31aa44d915687b7": {
          "model_module": "@jupyter-widgets/base",
          "model_module_version": "1.2.0",
          "model_name": "LayoutModel",
          "state": {
            "_model_module": "@jupyter-widgets/base",
            "_model_module_version": "1.2.0",
            "_model_name": "LayoutModel",
            "_view_count": null,
            "_view_module": "@jupyter-widgets/base",
            "_view_module_version": "1.2.0",
            "_view_name": "LayoutView",
            "align_content": null,
            "align_items": null,
            "align_self": null,
            "border": null,
            "bottom": null,
            "display": null,
            "flex": null,
            "flex_flow": null,
            "grid_area": null,
            "grid_auto_columns": null,
            "grid_auto_flow": null,
            "grid_auto_rows": null,
            "grid_column": null,
            "grid_gap": null,
            "grid_row": null,
            "grid_template_areas": null,
            "grid_template_columns": null,
            "grid_template_rows": null,
            "height": null,
            "justify_content": null,
            "justify_items": null,
            "left": null,
            "margin": null,
            "max_height": null,
            "max_width": null,
            "min_height": null,
            "min_width": null,
            "object_fit": null,
            "object_position": null,
            "order": null,
            "overflow": null,
            "overflow_x": null,
            "overflow_y": null,
            "padding": null,
            "right": null,
            "top": null,
            "visibility": null,
            "width": null
          }
        },
        "977d1595e78846b6aa5189d163e5f55a": {
          "model_module": "@jupyter-widgets/controls",
          "model_module_version": "1.5.0",
          "model_name": "ProgressStyleModel",
          "state": {
            "_model_module": "@jupyter-widgets/controls",
            "_model_module_version": "1.5.0",
            "_model_name": "ProgressStyleModel",
            "_view_count": null,
            "_view_module": "@jupyter-widgets/base",
            "_view_module_version": "1.2.0",
            "_view_name": "StyleView",
            "bar_color": null,
            "description_width": ""
          }
        },
        "9e5fb2399bf247308176e2118b297b51": {
          "model_module": "@jupyter-widgets/controls",
          "model_module_version": "1.5.0",
          "model_name": "HTMLModel",
          "state": {
            "_dom_classes": [],
            "_model_module": "@jupyter-widgets/controls",
            "_model_module_version": "1.5.0",
            "_model_name": "HTMLModel",
            "_view_count": null,
            "_view_module": "@jupyter-widgets/controls",
            "_view_module_version": "1.5.0",
            "_view_name": "HTMLView",
            "description": "",
            "description_tooltip": null,
            "layout": "IPY_MODEL_5799fa24a812409f978f17930a1d7e6f",
            "placeholder": "​",
            "style": "IPY_MODEL_2d027e6250084ad6b0248afeb0b3b247",
            "value": "100%"
          }
        },
        "a2f227e59c13463bb41c19c6eab236ae": {
          "model_module": "@jupyter-widgets/base",
          "model_module_version": "1.2.0",
          "model_name": "LayoutModel",
          "state": {
            "_model_module": "@jupyter-widgets/base",
            "_model_module_version": "1.2.0",
            "_model_name": "LayoutModel",
            "_view_count": null,
            "_view_module": "@jupyter-widgets/base",
            "_view_module_version": "1.2.0",
            "_view_name": "LayoutView",
            "align_content": null,
            "align_items": null,
            "align_self": null,
            "border": null,
            "bottom": null,
            "display": null,
            "flex": null,
            "flex_flow": null,
            "grid_area": null,
            "grid_auto_columns": null,
            "grid_auto_flow": null,
            "grid_auto_rows": null,
            "grid_column": null,
            "grid_gap": null,
            "grid_row": null,
            "grid_template_areas": null,
            "grid_template_columns": null,
            "grid_template_rows": null,
            "height": null,
            "justify_content": null,
            "justify_items": null,
            "left": null,
            "margin": null,
            "max_height": null,
            "max_width": null,
            "min_height": null,
            "min_width": null,
            "object_fit": null,
            "object_position": null,
            "order": null,
            "overflow": null,
            "overflow_x": null,
            "overflow_y": null,
            "padding": null,
            "right": null,
            "top": null,
            "visibility": null,
            "width": null
          }
        },
        "acd239139a37455ebb6b1ab36632c20f": {
          "model_module": "@jupyter-widgets/base",
          "model_module_version": "1.2.0",
          "model_name": "LayoutModel",
          "state": {
            "_model_module": "@jupyter-widgets/base",
            "_model_module_version": "1.2.0",
            "_model_name": "LayoutModel",
            "_view_count": null,
            "_view_module": "@jupyter-widgets/base",
            "_view_module_version": "1.2.0",
            "_view_name": "LayoutView",
            "align_content": null,
            "align_items": null,
            "align_self": null,
            "border": null,
            "bottom": null,
            "display": null,
            "flex": null,
            "flex_flow": null,
            "grid_area": null,
            "grid_auto_columns": null,
            "grid_auto_flow": null,
            "grid_auto_rows": null,
            "grid_column": null,
            "grid_gap": null,
            "grid_row": null,
            "grid_template_areas": null,
            "grid_template_columns": null,
            "grid_template_rows": null,
            "height": null,
            "justify_content": null,
            "justify_items": null,
            "left": null,
            "margin": null,
            "max_height": null,
            "max_width": null,
            "min_height": null,
            "min_width": null,
            "object_fit": null,
            "object_position": null,
            "order": null,
            "overflow": null,
            "overflow_x": null,
            "overflow_y": null,
            "padding": null,
            "right": null,
            "top": null,
            "visibility": null,
            "width": null
          }
        },
        "bb123325336b45ed8d5bd0c5f2a478d2": {
          "model_module": "@jupyter-widgets/base",
          "model_module_version": "1.2.0",
          "model_name": "LayoutModel",
          "state": {
            "_model_module": "@jupyter-widgets/base",
            "_model_module_version": "1.2.0",
            "_model_name": "LayoutModel",
            "_view_count": null,
            "_view_module": "@jupyter-widgets/base",
            "_view_module_version": "1.2.0",
            "_view_name": "LayoutView",
            "align_content": null,
            "align_items": null,
            "align_self": null,
            "border": null,
            "bottom": null,
            "display": null,
            "flex": null,
            "flex_flow": null,
            "grid_area": null,
            "grid_auto_columns": null,
            "grid_auto_flow": null,
            "grid_auto_rows": null,
            "grid_column": null,
            "grid_gap": null,
            "grid_row": null,
            "grid_template_areas": null,
            "grid_template_columns": null,
            "grid_template_rows": null,
            "height": null,
            "justify_content": null,
            "justify_items": null,
            "left": null,
            "margin": null,
            "max_height": null,
            "max_width": null,
            "min_height": null,
            "min_width": null,
            "object_fit": null,
            "object_position": null,
            "order": null,
            "overflow": null,
            "overflow_x": null,
            "overflow_y": null,
            "padding": null,
            "right": null,
            "top": null,
            "visibility": null,
            "width": null
          }
        },
        "cbc314173a1146f189ff16cd87dbf631": {
          "model_module": "@jupyter-widgets/base",
          "model_module_version": "1.2.0",
          "model_name": "LayoutModel",
          "state": {
            "_model_module": "@jupyter-widgets/base",
            "_model_module_version": "1.2.0",
            "_model_name": "LayoutModel",
            "_view_count": null,
            "_view_module": "@jupyter-widgets/base",
            "_view_module_version": "1.2.0",
            "_view_name": "LayoutView",
            "align_content": null,
            "align_items": null,
            "align_self": null,
            "border": null,
            "bottom": null,
            "display": null,
            "flex": null,
            "flex_flow": null,
            "grid_area": null,
            "grid_auto_columns": null,
            "grid_auto_flow": null,
            "grid_auto_rows": null,
            "grid_column": null,
            "grid_gap": null,
            "grid_row": null,
            "grid_template_areas": null,
            "grid_template_columns": null,
            "grid_template_rows": null,
            "height": null,
            "justify_content": null,
            "justify_items": null,
            "left": null,
            "margin": null,
            "max_height": null,
            "max_width": null,
            "min_height": null,
            "min_width": null,
            "object_fit": null,
            "object_position": null,
            "order": null,
            "overflow": null,
            "overflow_x": null,
            "overflow_y": null,
            "padding": null,
            "right": null,
            "top": null,
            "visibility": null,
            "width": null
          }
        },
        "d049f27323894ccc8250b6ad67eea96a": {
          "model_module": "@jupyter-widgets/controls",
          "model_module_version": "1.5.0",
          "model_name": "DescriptionStyleModel",
          "state": {
            "_model_module": "@jupyter-widgets/controls",
            "_model_module_version": "1.5.0",
            "_model_name": "DescriptionStyleModel",
            "_view_count": null,
            "_view_module": "@jupyter-widgets/base",
            "_view_module_version": "1.2.0",
            "_view_name": "StyleView",
            "description_width": ""
          }
        },
        "d2957e2ae6224e98afec4fb1a108d822": {
          "model_module": "@jupyter-widgets/controls",
          "model_module_version": "1.5.0",
          "model_name": "HTMLModel",
          "state": {
            "_dom_classes": [],
            "_model_module": "@jupyter-widgets/controls",
            "_model_module_version": "1.5.0",
            "_model_name": "HTMLModel",
            "_view_count": null,
            "_view_module": "@jupyter-widgets/controls",
            "_view_module_version": "1.5.0",
            "_view_name": "HTMLView",
            "description": "",
            "description_tooltip": null,
            "layout": "IPY_MODEL_06d5f29819954424a887acfa6c53a611",
            "placeholder": "​",
            "style": "IPY_MODEL_d049f27323894ccc8250b6ad67eea96a",
            "value": " 9630/9630 [09:00&lt;00:00, 16.94it/s]"
          }
        },
        "d47f46b30831425dacb57d0b64ae1d44": {
          "model_module": "@jupyter-widgets/controls",
          "model_module_version": "1.5.0",
          "model_name": "DescriptionStyleModel",
          "state": {
            "_model_module": "@jupyter-widgets/controls",
            "_model_module_version": "1.5.0",
            "_model_name": "DescriptionStyleModel",
            "_view_count": null,
            "_view_module": "@jupyter-widgets/base",
            "_view_module_version": "1.2.0",
            "_view_name": "StyleView",
            "description_width": ""
          }
        },
        "d568b856e0c741a6872d319ec6973e2e": {
          "model_module": "@jupyter-widgets/controls",
          "model_module_version": "1.5.0",
          "model_name": "ProgressStyleModel",
          "state": {
            "_model_module": "@jupyter-widgets/controls",
            "_model_module_version": "1.5.0",
            "_model_name": "ProgressStyleModel",
            "_view_count": null,
            "_view_module": "@jupyter-widgets/base",
            "_view_module_version": "1.2.0",
            "_view_name": "StyleView",
            "bar_color": null,
            "description_width": ""
          }
        },
        "e1bba1f8c53048acbdc4e79d7b472fd0": {
          "model_module": "@jupyter-widgets/controls",
          "model_module_version": "1.5.0",
          "model_name": "ProgressStyleModel",
          "state": {
            "_model_module": "@jupyter-widgets/controls",
            "_model_module_version": "1.5.0",
            "_model_name": "ProgressStyleModel",
            "_view_count": null,
            "_view_module": "@jupyter-widgets/base",
            "_view_module_version": "1.2.0",
            "_view_name": "StyleView",
            "bar_color": null,
            "description_width": ""
          }
        },
        "e4d6f0a4782d4fb2affe803aed84f857": {
          "model_module": "@jupyter-widgets/controls",
          "model_module_version": "1.5.0",
          "model_name": "HTMLModel",
          "state": {
            "_dom_classes": [],
            "_model_module": "@jupyter-widgets/controls",
            "_model_module_version": "1.5.0",
            "_model_name": "HTMLModel",
            "_view_count": null,
            "_view_module": "@jupyter-widgets/controls",
            "_view_module_version": "1.5.0",
            "_view_name": "HTMLView",
            "description": "",
            "description_tooltip": null,
            "layout": "IPY_MODEL_02feb029cb8c4b9aa00079116f46d8c3",
            "placeholder": "​",
            "style": "IPY_MODEL_ef3d27d8e5e54689893239c68863a0d4",
            "value": " 9630/9630 [18:43&lt;00:00,  7.42it/s]"
          }
        },
        "e7b6f5d9c6f2408faa9d50e0f0844fdf": {
          "model_module": "@jupyter-widgets/controls",
          "model_module_version": "1.5.0",
          "model_name": "ProgressStyleModel",
          "state": {
            "_model_module": "@jupyter-widgets/controls",
            "_model_module_version": "1.5.0",
            "_model_name": "ProgressStyleModel",
            "_view_count": null,
            "_view_module": "@jupyter-widgets/base",
            "_view_module_version": "1.2.0",
            "_view_name": "StyleView",
            "bar_color": null,
            "description_width": ""
          }
        },
        "e8a2f910b6a84554a51139020f076635": {
          "model_module": "@jupyter-widgets/controls",
          "model_module_version": "1.5.0",
          "model_name": "HTMLModel",
          "state": {
            "_dom_classes": [],
            "_model_module": "@jupyter-widgets/controls",
            "_model_module_version": "1.5.0",
            "_model_name": "HTMLModel",
            "_view_count": null,
            "_view_module": "@jupyter-widgets/controls",
            "_view_module_version": "1.5.0",
            "_view_name": "HTMLView",
            "description": "",
            "description_tooltip": null,
            "layout": "IPY_MODEL_cbc314173a1146f189ff16cd87dbf631",
            "placeholder": "​",
            "style": "IPY_MODEL_f81073796a7b48a58a0d4a940b81d314",
            "value": "100%"
          }
        },
        "ef3d27d8e5e54689893239c68863a0d4": {
          "model_module": "@jupyter-widgets/controls",
          "model_module_version": "1.5.0",
          "model_name": "DescriptionStyleModel",
          "state": {
            "_model_module": "@jupyter-widgets/controls",
            "_model_module_version": "1.5.0",
            "_model_name": "DescriptionStyleModel",
            "_view_count": null,
            "_view_module": "@jupyter-widgets/base",
            "_view_module_version": "1.2.0",
            "_view_name": "StyleView",
            "description_width": ""
          }
        },
        "f81073796a7b48a58a0d4a940b81d314": {
          "model_module": "@jupyter-widgets/controls",
          "model_module_version": "1.5.0",
          "model_name": "DescriptionStyleModel",
          "state": {
            "_model_module": "@jupyter-widgets/controls",
            "_model_module_version": "1.5.0",
            "_model_name": "DescriptionStyleModel",
            "_view_count": null,
            "_view_module": "@jupyter-widgets/base",
            "_view_module_version": "1.2.0",
            "_view_name": "StyleView",
            "description_width": ""
          }
        }
      }
    }
  },
  "nbformat": 4,
  "nbformat_minor": 0
}
